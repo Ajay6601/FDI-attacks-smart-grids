{
 "cells": [
  {
   "cell_type": "code",
   "execution_count": 1,
   "metadata": {
    "collapsed": false,
    "jupyter": {
     "outputs_hidden": false
    },
    "pycharm": {
     "name": "#%%\n"
    }
   },
   "outputs": [],
   "source": [
    "from classifier_functions import *"
   ]
  },
  {
   "cell_type": "code",
   "execution_count": 2,
   "metadata": {
    "collapsed": false,
    "jupyter": {
     "outputs_hidden": false
    },
    "pycharm": {
     "name": "#%%\n"
    }
   },
   "outputs": [],
   "source": [
    "DATA_LOC = \"Original/data_injection_and_normal_events_dataset.csv\""
   ]
  },
  {
   "cell_type": "code",
   "execution_count": 4,
   "metadata": {
    "collapsed": false,
    "jupyter": {
     "outputs_hidden": false
    },
    "pycharm": {
     "name": "#%%\n"
    }
   },
   "outputs": [
    {
     "data": {
      "text/html": [
       "<div>\n",
       "<style scoped>\n",
       "    .dataframe tbody tr th:only-of-type {\n",
       "        vertical-align: middle;\n",
       "    }\n",
       "\n",
       "    .dataframe tbody tr th {\n",
       "        vertical-align: top;\n",
       "    }\n",
       "\n",
       "    .dataframe thead th {\n",
       "        text-align: right;\n",
       "    }\n",
       "</style>\n",
       "<table border=\"1\" class=\"dataframe\">\n",
       "  <thead>\n",
       "    <tr style=\"text-align: right;\">\n",
       "      <th></th>\n",
       "      <th>R1-PA1:VH</th>\n",
       "      <th>R1-PM1:V</th>\n",
       "      <th>R1-PA2:VH</th>\n",
       "      <th>R1-PM2:V</th>\n",
       "      <th>R1-PA3:VH</th>\n",
       "      <th>R1-PM3:V</th>\n",
       "      <th>R1-PA4:IH</th>\n",
       "      <th>R1-PM4:I</th>\n",
       "      <th>R1-PA5:IH</th>\n",
       "      <th>R1-PM5:I</th>\n",
       "      <th>...</th>\n",
       "      <th>control_panel_log4</th>\n",
       "      <th>relay1_log</th>\n",
       "      <th>relay2_log</th>\n",
       "      <th>relay3_log</th>\n",
       "      <th>relay4_log</th>\n",
       "      <th>snort_log1</th>\n",
       "      <th>snort_log2</th>\n",
       "      <th>snort_log3</th>\n",
       "      <th>snort_log4</th>\n",
       "      <th>marker</th>\n",
       "    </tr>\n",
       "  </thead>\n",
       "  <tbody>\n",
       "    <tr>\n",
       "      <th>0</th>\n",
       "      <td>90.578898</td>\n",
       "      <td>130456.2238</td>\n",
       "      <td>-29.415653</td>\n",
       "      <td>129804.3188</td>\n",
       "      <td>-149.410204</td>\n",
       "      <td>130506.3704</td>\n",
       "      <td>88.986075</td>\n",
       "      <td>471.50825</td>\n",
       "      <td>-33.644082</td>\n",
       "      <td>486.15705</td>\n",
       "      <td>...</td>\n",
       "      <td>0</td>\n",
       "      <td>0</td>\n",
       "      <td>0</td>\n",
       "      <td>0</td>\n",
       "      <td>0</td>\n",
       "      <td>0</td>\n",
       "      <td>0</td>\n",
       "      <td>0</td>\n",
       "      <td>0</td>\n",
       "      <td>1</td>\n",
       "    </tr>\n",
       "    <tr>\n",
       "      <th>1</th>\n",
       "      <td>90.573168</td>\n",
       "      <td>130506.3704</td>\n",
       "      <td>-29.421383</td>\n",
       "      <td>129854.4653</td>\n",
       "      <td>-149.410204</td>\n",
       "      <td>130556.5169</td>\n",
       "      <td>88.951698</td>\n",
       "      <td>471.50825</td>\n",
       "      <td>-33.644082</td>\n",
       "      <td>485.79083</td>\n",
       "      <td>...</td>\n",
       "      <td>0</td>\n",
       "      <td>0</td>\n",
       "      <td>0</td>\n",
       "      <td>0</td>\n",
       "      <td>0</td>\n",
       "      <td>0</td>\n",
       "      <td>0</td>\n",
       "      <td>0</td>\n",
       "      <td>0</td>\n",
       "      <td>1</td>\n",
       "    </tr>\n",
       "    <tr>\n",
       "      <th>2</th>\n",
       "      <td>90.504413</td>\n",
       "      <td>130807.2496</td>\n",
       "      <td>-29.472949</td>\n",
       "      <td>130180.4178</td>\n",
       "      <td>-149.467500</td>\n",
       "      <td>130857.3961</td>\n",
       "      <td>88.367281</td>\n",
       "      <td>473.70557</td>\n",
       "      <td>-33.781592</td>\n",
       "      <td>484.69217</td>\n",
       "      <td>...</td>\n",
       "      <td>0</td>\n",
       "      <td>0</td>\n",
       "      <td>0</td>\n",
       "      <td>0</td>\n",
       "      <td>0</td>\n",
       "      <td>0</td>\n",
       "      <td>0</td>\n",
       "      <td>0</td>\n",
       "      <td>0</td>\n",
       "      <td>1</td>\n",
       "    </tr>\n",
       "    <tr>\n",
       "      <th>3</th>\n",
       "      <td>90.429929</td>\n",
       "      <td>130932.6159</td>\n",
       "      <td>-29.553163</td>\n",
       "      <td>130330.8575</td>\n",
       "      <td>-149.536255</td>\n",
       "      <td>131007.8358</td>\n",
       "      <td>87.782864</td>\n",
       "      <td>476.26911</td>\n",
       "      <td>-33.970668</td>\n",
       "      <td>485.05839</td>\n",
       "      <td>...</td>\n",
       "      <td>0</td>\n",
       "      <td>0</td>\n",
       "      <td>0</td>\n",
       "      <td>0</td>\n",
       "      <td>0</td>\n",
       "      <td>0</td>\n",
       "      <td>0</td>\n",
       "      <td>0</td>\n",
       "      <td>0</td>\n",
       "      <td>1</td>\n",
       "    </tr>\n",
       "    <tr>\n",
       "      <th>4</th>\n",
       "      <td>90.378363</td>\n",
       "      <td>130982.7625</td>\n",
       "      <td>-29.610459</td>\n",
       "      <td>130355.9307</td>\n",
       "      <td>-149.599280</td>\n",
       "      <td>131057.9823</td>\n",
       "      <td>87.433360</td>\n",
       "      <td>477.73399</td>\n",
       "      <td>-34.068071</td>\n",
       "      <td>485.24150</td>\n",
       "      <td>...</td>\n",
       "      <td>0</td>\n",
       "      <td>0</td>\n",
       "      <td>0</td>\n",
       "      <td>0</td>\n",
       "      <td>0</td>\n",
       "      <td>0</td>\n",
       "      <td>0</td>\n",
       "      <td>0</td>\n",
       "      <td>0</td>\n",
       "      <td>1</td>\n",
       "    </tr>\n",
       "  </tbody>\n",
       "</table>\n",
       "<p>5 rows × 129 columns</p>\n",
       "</div>"
      ],
      "text/plain": [
       "   R1-PA1:VH     R1-PM1:V  R1-PA2:VH     R1-PM2:V   R1-PA3:VH     R1-PM3:V  \\\n",
       "0  90.578898  130456.2238 -29.415653  129804.3188 -149.410204  130506.3704   \n",
       "1  90.573168  130506.3704 -29.421383  129854.4653 -149.410204  130556.5169   \n",
       "2  90.504413  130807.2496 -29.472949  130180.4178 -149.467500  130857.3961   \n",
       "3  90.429929  130932.6159 -29.553163  130330.8575 -149.536255  131007.8358   \n",
       "4  90.378363  130982.7625 -29.610459  130355.9307 -149.599280  131057.9823   \n",
       "\n",
       "   R1-PA4:IH   R1-PM4:I  R1-PA5:IH   R1-PM5:I  ...  control_panel_log4  \\\n",
       "0  88.986075  471.50825 -33.644082  486.15705  ...                   0   \n",
       "1  88.951698  471.50825 -33.644082  485.79083  ...                   0   \n",
       "2  88.367281  473.70557 -33.781592  484.69217  ...                   0   \n",
       "3  87.782864  476.26911 -33.970668  485.05839  ...                   0   \n",
       "4  87.433360  477.73399 -34.068071  485.24150  ...                   0   \n",
       "\n",
       "   relay1_log  relay2_log  relay3_log  relay4_log  snort_log1  snort_log2  \\\n",
       "0           0           0           0           0           0           0   \n",
       "1           0           0           0           0           0           0   \n",
       "2           0           0           0           0           0           0   \n",
       "3           0           0           0           0           0           0   \n",
       "4           0           0           0           0           0           0   \n",
       "\n",
       "   snort_log3  snort_log4  marker  \n",
       "0           0           0       1  \n",
       "1           0           0       1  \n",
       "2           0           0       1  \n",
       "3           0           0       1  \n",
       "4           0           0       1  \n",
       "\n",
       "[5 rows x 129 columns]"
      ]
     },
     "execution_count": 4,
     "metadata": {},
     "output_type": "execute_result"
    }
   ],
   "source": [
    "df = dataset_preprocess(df)\n",
    "df.head()\n"
   ]
  },
  {
   "cell_type": "code",
   "execution_count": 8,
   "metadata": {
    "collapsed": false,
    "jupyter": {
     "outputs_hidden": false
    },
    "pycharm": {
     "name": "#%%\n"
    }
   },
   "outputs": [],
   "source": [
    "train_df, test_df = training_testing_split(df, testing_split=0.3)"
   ]
  },
  {
   "cell_type": "code",
   "execution_count": 11,
   "metadata": {
    "collapsed": false,
    "jupyter": {
     "outputs_hidden": false
    },
    "pycharm": {
     "name": "#%%\n"
    }
   },
   "outputs": [
    {
     "name": "stderr",
     "output_type": "stream",
     "text": [
      "C:\\Users\\ajayr\\Anaconda3\\lib\\site-packages\\pandas\\core\\frame.py:4308: SettingWithCopyWarning: \n",
      "A value is trying to be set on a copy of a slice from a DataFrame\n",
      "\n",
      "See the caveats in the documentation: https://pandas.pydata.org/pandas-docs/stable/user_guide/indexing.html#returning-a-view-versus-a-copy\n",
      "  return super().drop(\n"
     ]
    }
   ],
   "source": [
    "train_df, label_train_df = data_label_split(train_df)"
   ]
  },
  {
   "cell_type": "code",
   "execution_count": 14,
   "metadata": {
    "collapsed": false,
    "jupyter": {
     "outputs_hidden": false
    },
    "pycharm": {
     "name": "#%%\n"
    }
   },
   "outputs": [
    {
     "name": "stderr",
     "output_type": "stream",
     "text": [
      "C:\\Users\\ajayr\\Anaconda3\\lib\\site-packages\\pandas\\core\\frame.py:4308: SettingWithCopyWarning: \n",
      "A value is trying to be set on a copy of a slice from a DataFrame\n",
      "\n",
      "See the caveats in the documentation: https://pandas.pydata.org/pandas-docs/stable/user_guide/indexing.html#returning-a-view-versus-a-copy\n",
      "  return super().drop(\n"
     ]
    }
   ],
   "source": [
    "test_df, label_test_df = data_label_split(test_df)"
   ]
  },
  {
   "cell_type": "code",
   "execution_count": 17,
   "metadata": {
    "collapsed": false,
    "jupyter": {
     "outputs_hidden": false
    },
    "pycharm": {
     "name": "#%%\n"
    }
   },
   "outputs": [
    {
     "name": "stdout",
     "output_type": "stream",
     "text": [
      "Random Forest\n"
     ]
    },
    {
     "data": {
      "image/png": "[encoded data removed]",
      "text/plain": [
       "<Figure size 432x288 with 1 Axes>"
      ]
     },
     "metadata": {
      "needs_background": "light"
     },
     "output_type": "display_data"
    },
    {
     "name": "stdout",
     "output_type": "stream",
     "text": [
      "Training time = 21.2s\n",
      "Testing time = 0.27s\n",
      "              precision    recall  f1-score   support\n",
      "\n",
      "           0       0.91      0.97      0.94      6795\n",
      "           1       0.93      0.78      0.85      2894\n",
      "\n",
      "    accuracy                           0.92      9689\n",
      "   macro avg       0.92      0.88      0.89      9689\n",
      "weighted avg       0.92      0.92      0.91      9689\n",
      "\n",
      "Total TPs: 6622 FNs: 173 FPs: 646 TNs: 2248\n",
      "Rates TP: 0.975 FN: 0.025 FP: 0.223 TN: 0.777\n",
      "roc auc score: 0.972\n"
     ]
    }
   ],
   "source": [
    "rf = training(train_df, label_train_df, classifier=\"Random Forest\")\n",
    "testing(test_df, label_test_df, rf)"
   ]
  },
  {
   "cell_type": "code",
   "execution_count": 18,
   "metadata": {
    "collapsed": false,
    "jupyter": {
     "outputs_hidden": false
    },
    "pycharm": {
     "is_executing": true,
     "name": "#%%\n"
    }
   },
   "outputs": [
    {
     "name": "stdout",
     "output_type": "stream",
     "text": [
      "SVM\n",
      "Training time = 345.43s\n",
      "Testing time = 13.8s\n",
      "              precision    recall  f1-score   support\n",
      "\n",
      "           0       0.70      0.99      0.82      6795\n",
      "           1       0.49      0.02      0.05      2894\n",
      "\n",
      "    accuracy                           0.70      9689\n",
      "   macro avg       0.60      0.51      0.43      9689\n",
      "weighted avg       0.64      0.70      0.59      9689\n",
      "\n",
      "Total TPs: 6723 FNs: 72 FPs: 2825 TNs: 69\n",
      "Rates TP: 0.989 FN: 0.011 FP: 0.976 TN: 0.024\n",
      "roc auc skipped\n"
     ]
    }
   ],
   "source": [
    "svm = training(train_df, label_train_df, classifier=\"SVM\")\n",
    "testing(test_df, label_test_df, svm)"
   ]
  },
  {
   "cell_type": "code",
   "execution_count": 19,
   "metadata": {
    "collapsed": false,
    "jupyter": {
     "outputs_hidden": false
    },
    "pycharm": {
     "is_executing": true,
     "name": "#%%\n"
    }
   },
   "outputs": [
    {
     "name": "stdout",
     "output_type": "stream",
     "text": [
      "Logistic Regression\n",
      "Training time = 0.64s\n",
      "Testing time = 0.02s\n",
      "              precision    recall  f1-score   support\n",
      "\n",
      "           0       0.70      0.99      0.82      6795\n",
      "           1       0.41      0.01      0.02      2894\n",
      "\n",
      "    accuracy                           0.70      9689\n",
      "   macro avg       0.56      0.50      0.42      9689\n",
      "weighted avg       0.62      0.70      0.58      9689\n",
      "\n",
      "Total TPs: 6761 FNs: 34 FPs: 2870 TNs: 24\n",
      "Rates TP: 0.995 FN: 0.005 FP: 0.992 TN: 0.008\n",
      "roc auc score: 0.594\n"
     ]
    },
    {
     "name": "stderr",
     "output_type": "stream",
     "text": [
      "C:\\Users\\ajayr\\Anaconda3\\lib\\site-packages\\sklearn\\linear_model\\_logistic.py:763: ConvergenceWarning: lbfgs failed to converge (status=1):\n",
      "STOP: TOTAL NO. of ITERATIONS REACHED LIMIT.\n",
      "\n",
      "Increase the number of iterations (max_iter) or scale the data as shown in:\n",
      "    https://scikit-learn.org/stable/modules/preprocessing.html\n",
      "Please also refer to the documentation for alternative solver options:\n",
      "    https://scikit-learn.org/stable/modules/linear_model.html#logistic-regression\n",
      "  n_iter_i = _check_optimize_result(\n"
     ]
    }
   ],
   "source": [
    "lr = training(train_df, label_train_df, classifier=\"Logistic Regression\")\n",
    "testing(test_df, label_test_df, lr)"
   ]
  },
  {
   "cell_type": "code",
   "execution_count": 20,
   "metadata": {
    "collapsed": false,
    "jupyter": {
     "outputs_hidden": false
    },
    "pycharm": {
     "is_executing": true,
     "name": "#%%\n"
    }
   },
   "outputs": [
    {
     "name": "stdout",
     "output_type": "stream",
     "text": [
      "Naive Bayes\n",
      "Training time = 0.08s\n",
      "Testing time = 0.02s\n",
      "              precision    recall  f1-score   support\n",
      "\n",
      "           0       0.70      0.98      0.82      6795\n",
      "           1       0.33      0.03      0.05      2894\n",
      "\n",
      "    accuracy                           0.69      9689\n",
      "   macro avg       0.51      0.50      0.43      9689\n",
      "weighted avg       0.59      0.69      0.59      9689\n",
      "\n",
      "Total TPs: 6630 FNs: 165 FPs: 2814 TNs: 80\n",
      "Rates TP: 0.976 FN: 0.024 FP: 0.972 TN: 0.028\n",
      "roc auc score: 0.577\n"
     ]
    }
   ],
   "source": [
    "nb = training(train_df, label_train_df, classifier=\"Naive Bayes\")\n",
    "testing(test_df, label_test_df, nb)"
   ]
  },
  {
   "cell_type": "code",
   "execution_count": 21,
   "metadata": {
    "collapsed": false,
    "jupyter": {
     "outputs_hidden": false
    },
    "pycharm": {
     "is_executing": true,
     "name": "#%%\n"
    }
   },
   "outputs": [
    {
     "name": "stdout",
     "output_type": "stream",
     "text": [
      "KNN\n",
      "Training time = 0.02s\n",
      "Testing time = 10.02s\n",
      "              precision    recall  f1-score   support\n",
      "\n",
      "           0       0.83      0.90      0.86      6795\n",
      "           1       0.71      0.56      0.63      2894\n",
      "\n",
      "    accuracy                           0.80      9689\n",
      "   macro avg       0.77      0.73      0.74      9689\n",
      "weighted avg       0.79      0.80      0.79      9689\n",
      "\n",
      "Total TPs: 6118 FNs: 677 FPs: 1267 TNs: 1627\n",
      "Rates TP: 0.9 FN: 0.1 FP: 0.438 TN: 0.562\n",
      "roc auc score: 0.851\n"
     ]
    }
   ],
   "source": [
    "knn = training(train_df, label_train_df, classifier=\"KNN\")\n",
    "testing(test_df, label_test_df, knn)"
   ]
  },
  {
   "cell_type": "code",
   "execution_count": 22,
   "metadata": {
    "collapsed": false,
    "jupyter": {
     "outputs_hidden": false
    },
    "pycharm": {
     "is_executing": true,
     "name": "#%%\n"
    }
   },
   "outputs": [
    {
     "name": "stdout",
     "output_type": "stream",
     "text": [
      "Decision Tree\n",
      "Training time = 1.01s\n",
      "Testing time = 0.02s\n",
      "              precision    recall  f1-score   support\n",
      "\n",
      "           0       0.71      1.00      0.83      6795\n",
      "           1       1.00      0.02      0.04      2894\n",
      "\n",
      "    accuracy                           0.71      9689\n",
      "   macro avg       0.85      0.51      0.43      9689\n",
      "weighted avg       0.79      0.71      0.59      9689\n",
      "\n",
      "Total TPs: 6795 FNs: 0 FPs: 2833 TNs: 61\n",
      "Rates TP: 1.0 FN: 0.0 FP: 0.979 TN: 0.021\n",
      "roc auc score: 0.59\n"
     ]
    }
   ],
   "source": [
    "dt = training(train_df, label_train_df, classifier=\"Decision Tree\")\n",
    "testing(test_df, label_test_df, dt)"
   ]
  },
  {
   "cell_type": "code",
   "execution_count": 23,
   "metadata": {
    "collapsed": false,
    "jupyter": {
     "outputs_hidden": false
    },
    "pycharm": {
     "is_executing": true,
     "name": "#%%\n"
    }
   },
   "outputs": [
    {
     "name": "stdout",
     "output_type": "stream",
     "text": [
      "AdaBoost\n",
      "Training time = 16.34s\n",
      "Testing time = 0.47s\n",
      "              precision    recall  f1-score   support\n",
      "\n",
      "           0       0.72      0.96      0.82      6795\n",
      "           1       0.55      0.12      0.20      2894\n",
      "\n",
      "    accuracy                           0.71      9689\n",
      "   macro avg       0.63      0.54      0.51      9689\n",
      "weighted avg       0.67      0.71      0.63      9689\n",
      "\n",
      "Total TPs: 6509 FNs: 286 FPs: 2546 TNs: 348\n",
      "Rates TP: 0.958 FN: 0.042 FP: 0.88 TN: 0.12\n",
      "roc auc score: 0.681\n"
     ]
    }
   ],
   "source": [
    "ada = training(train_df, label_train_df, classifier=\"AdaBoost\")\n",
    "testing(test_df, label_test_df, ada)"
   ]
  },
  {
   "cell_type": "code",
   "execution_count": 24,
   "metadata": {
    "collapsed": false,
    "jupyter": {
     "outputs_hidden": false
    },
    "pycharm": {
     "is_executing": true,
     "name": "#%%\n"
    }
   },
   "outputs": [
    {
     "name": "stdout",
     "output_type": "stream",
     "text": [
      "Gradient Boosting\n",
      "Training time = 81.45s\n",
      "Testing time = 0.08s\n",
      "              precision    recall  f1-score   support\n",
      "\n",
      "           0       0.72      0.98      0.83      6795\n",
      "           1       0.77      0.12      0.21      2894\n",
      "\n",
      "    accuracy                           0.73      9689\n",
      "   macro avg       0.75      0.55      0.52      9689\n",
      "weighted avg       0.74      0.73      0.65      9689\n",
      "\n",
      "Total TPs: 6689 FNs: 106 FPs: 2538 TNs: 356\n",
      "Rates TP: 0.984 FN: 0.016 FP: 0.877 TN: 0.123\n",
      "roc auc score: 0.752\n"
     ]
    }
   ],
   "source": [
    "gb = training(train_df, label_train_df, classifier=\"Gradient Boosting\")\n",
    "testing(test_df, label_test_df, gb)"
   ]
  },
  {
   "cell_type": "code",
   "execution_count": 25,
   "metadata": {
    "collapsed": false,
    "jupyter": {
     "outputs_hidden": false
    },
    "pycharm": {
     "is_executing": true,
     "name": "#%%\n"
    }
   },
   "outputs": [
    {
     "name": "stdout",
     "output_type": "stream",
     "text": [
      "Bagging\n",
      "Training time = 326.02s\n",
      "Testing time = 253.91s\n",
      "              precision    recall  f1-score   support\n",
      "\n",
      "           0       0.70      1.00      0.82      6795\n",
      "           1       0.00      0.00      0.00      2894\n",
      "\n",
      "    accuracy                           0.70      9689\n",
      "   macro avg       0.35      0.50      0.41      9689\n",
      "weighted avg       0.49      0.70      0.58      9689\n",
      "\n",
      "Total TPs: 6795 FNs: 0 FPs: 2894 TNs: 0\n",
      "Rates TP: 1.0 FN: 0.0 FP: 1.0 TN: 0.0\n"
     ]
    },
    {
     "name": "stderr",
     "output_type": "stream",
     "text": [
      "C:\\Users\\ajayr\\Anaconda3\\lib\\site-packages\\sklearn\\metrics\\_classification.py:1245: UndefinedMetricWarning: Precision and F-score are ill-defined and being set to 0.0 in labels with no predicted samples. Use `zero_division` parameter to control this behavior.\n",
      "  _warn_prf(average, modifier, msg_start, len(result))\n",
      "C:\\Users\\ajayr\\Anaconda3\\lib\\site-packages\\sklearn\\metrics\\_classification.py:1245: UndefinedMetricWarning: Precision and F-score are ill-defined and being set to 0.0 in labels with no predicted samples. Use `zero_division` parameter to control this behavior.\n",
      "  _warn_prf(average, modifier, msg_start, len(result))\n",
      "C:\\Users\\ajayr\\Anaconda3\\lib\\site-packages\\sklearn\\metrics\\_classification.py:1245: UndefinedMetricWarning: Precision and F-score are ill-defined and being set to 0.0 in labels with no predicted samples. Use `zero_division` parameter to control this behavior.\n",
      "  _warn_prf(average, modifier, msg_start, len(result))\n"
     ]
    },
    {
     "name": "stdout",
     "output_type": "stream",
     "text": [
      "roc auc score: 0.507\n"
     ]
    }
   ],
   "source": [
    "bag = training(train_df, label_train_df, classifier=\"Bagging\")\n",
    "testing(test_df, label_test_df, bag)\n"
   ]
  },
  {
   "cell_type": "code",
   "execution_count": null,
   "metadata": {},
   "outputs": [],
   "source": []
  }
 ],
 "metadata": {
  "kernelspec": {
   "display_name": "Python 3",
   "language": "python",
   "name": "python3"
  },
  "language_info": {
   "codemirror_mode": {
    "name": "ipython",
    "version": 3
   },
   "file_extension": ".py",
   "mimetype": "text/x-python",
   "name": "python",
   "nbconvert_exporter": "python",
   "pygments_lexer": "ipython3",
   "version": "3.8.8"
  },
  "vscode": {
   "interpreter": {
    "hash": "54ab66d86cb03bc7bdf42b7125ccc0ff88cdce81724351e60e4ea641efe147cf"
   }
  }
 },
 "nbformat": 4,
 "nbformat_minor": 4
}
