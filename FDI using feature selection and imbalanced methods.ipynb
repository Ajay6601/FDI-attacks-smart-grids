{
  "cells": [
    {
      "cell_type": "code",
      "execution_count": 2,
      "metadata": {
        "id": "6Dl-0OU6ypbc"
      },
      "outputs": [],
      "source": [
        "from classifier_functions import *\n",
        "DATA_LOC = \"data_injection_and_normal_events_dataset.csv\"\n",
        "df = pd.read_csv(DATA_LOC)\n",
        "df.head()\n",
        "df = dataset_preprocess(df)\n",
        "train_df, test_df = training_testing_split(df, testing_split=0.3)\n",
        "train_df, label_train_df = data_label_split(train_df)\n",
        "test_df, label_test_df = data_label_split(test_df)\n"
      ]
    },
    {
      "cell_type": "markdown",
      "source": [
        "# MODEL TRAINING ON TOP-10 FAETURES"
      ],
      "metadata": {
        "id": "h8dreLahfwwx"
      }
    },
    {
      "cell_type": "code",
      "execution_count": null,
      "metadata": {
        "colab": {
          "base_uri": "https://localhost:8080/"
        },
        "id": "QC3TMiv6z8a_",
        "outputId": "46690230-1a5e-443e-ce3a-13f1b4d6836d"
      },
      "outputs": [
        {
          "name": "stderr",
          "output_type": "stream",
          "text": [
            "/usr/local/lib/python3.7/dist-packages/sklearn/feature_selection/_univariate_selection.py:112: UserWarning: Features [124 125 126 127] are constant.\n",
            "  warnings.warn(\"Features %s are constant.\" % constant_features_idx, UserWarning)\n",
            "/usr/local/lib/python3.7/dist-packages/sklearn/feature_selection/_univariate_selection.py:113: RuntimeWarning: invalid value encountered in true_divide\n",
            "  f = msb / msw\n"
          ]
        }
      ],
      "source": [
        "train_df, test_df, fs = select_features(train_df, label_train_df, test_df, f_classif, 10)\n",
        "train_df=pd.DataFrame(train_df)\n",
        "test_df=pd.DataFrame(test_df)\n",
        "# train_df.head()"
      ]
    },
    {
      "cell_type": "code",
      "execution_count": null,
      "metadata": {
        "colab": {
          "base_uri": "https://localhost:8080/",
          "height": 557
        },
        "id": "ihvUc2jcz8aN",
        "outputId": "3b99776a-fda3-41f7-a5a0-fa825e693b04"
      },
      "outputs": [
        {
          "name": "stdout",
          "output_type": "stream",
          "text": [
            "Random Forest\n"
          ]
        },
        {
          "data": {
            "image/png": "[encoded data removed]",
            "text/plain": [
              "<Figure size 432x288 with 1 Axes>"
            ]
          },
          "metadata": {},
          "output_type": "display_data"
        },
        {
          "name": "stdout",
          "output_type": "stream",
          "text": [
            "Training time = 4.32s\n",
            "Testing time = 0.31s\n",
            "              precision    recall  f1-score   support\n",
            "\n",
            "           0       0.74      0.84      0.78      6836\n",
            "           1       0.43      0.29      0.35      2853\n",
            "\n",
            "    accuracy                           0.68      9689\n",
            "   macro avg       0.58      0.56      0.57      9689\n",
            "weighted avg       0.65      0.68      0.66      9689\n",
            "\n",
            "Total TPs: 5712 FNs: 1124 FPs: 2016 TNs: 837\n",
            "Rates TP: 0.836 FN: 0.164 FP: 0.707 TN: 0.293\n",
            "roc auc score: 0.638\n"
          ]
        }
      ],
      "source": [
        "rf = training(train_df, label_train_df, classifier=\"Random Forest\")\n",
        "testing(test_df, label_test_df, rf)"
      ]
    },
    {
      "cell_type": "code",
      "execution_count": null,
      "metadata": {
        "colab": {
          "base_uri": "https://localhost:8080/"
        },
        "id": "h5h2lNyAz8VE",
        "outputId": "5db1d18c-62cc-46ac-9ede-228b822012a3"
      },
      "outputs": [
        {
          "name": "stdout",
          "output_type": "stream",
          "text": [
            "Logistic Regression\n",
            "Training time = 0.46s\n",
            "Testing time = 0.0s\n",
            "              precision    recall  f1-score   support\n",
            "\n",
            "           0       0.71      0.99      0.83      6836\n",
            "           1       0.48      0.01      0.02      2853\n",
            "\n",
            "    accuracy                           0.71      9689\n",
            "   macro avg       0.59      0.50      0.43      9689\n",
            "weighted avg       0.64      0.71      0.59      9689\n",
            "\n",
            "Total TPs: 6797 FNs: 39 FPs: 2817 TNs: 36\n",
            "Rates TP: 0.994 FN: 0.006 FP: 0.987 TN: 0.013\n",
            "roc auc score: 0.525\n"
          ]
        },
        {
          "name": "stderr",
          "output_type": "stream",
          "text": [
            "/usr/local/lib/python3.7/dist-packages/sklearn/linear_model/_logistic.py:818: ConvergenceWarning: lbfgs failed to converge (status=1):\n",
            "STOP: TOTAL NO. of ITERATIONS REACHED LIMIT.\n",
            "\n",
            "Increase the number of iterations (max_iter) or scale the data as shown in:\n",
            "    https://scikit-learn.org/stable/modules/preprocessing.html\n",
            "Please also refer to the documentation for alternative solver options:\n",
            "    https://scikit-learn.org/stable/modules/linear_model.html#logistic-regression\n",
            "  extra_warning_msg=_LOGISTIC_SOLVER_CONVERGENCE_MSG,\n"
          ]
        }
      ],
      "source": [
        "lr = training(train_df, label_train_df, classifier=\"Logistic Regression\")\n",
        "testing(test_df, label_test_df, lr)"
      ]
    },
    {
      "cell_type": "code",
      "execution_count": null,
      "metadata": {
        "colab": {
          "base_uri": "https://localhost:8080/"
        },
        "id": "3mI1XuHjz8RA",
        "outputId": "c7cbc71b-594a-4507-e3b3-a06c5d8fb62b"
      },
      "outputs": [
        {
          "name": "stdout",
          "output_type": "stream",
          "text": [
            "Naive Bayes\n",
            "Training time = 0.01s\n",
            "Testing time = 0.0s\n",
            "              precision    recall  f1-score   support\n",
            "\n",
            "           0       0.71      0.98      0.82      6836\n",
            "           1       0.32      0.02      0.03      2853\n",
            "\n",
            "    accuracy                           0.70      9689\n",
            "   macro avg       0.51      0.50      0.43      9689\n",
            "weighted avg       0.59      0.70      0.59      9689\n",
            "\n",
            "Total TPs: 6727 FNs: 109 FPs: 2802 TNs: 51\n",
            "Rates TP: 0.984 FN: 0.016 FP: 0.982 TN: 0.018\n",
            "roc auc score: 0.525\n"
          ]
        }
      ],
      "source": [
        "nb = training(train_df, label_train_df, classifier=\"Naive Bayes\")\n",
        "testing(test_df, label_test_df, nb)"
      ]
    },
    {
      "cell_type": "code",
      "execution_count": null,
      "metadata": {
        "colab": {
          "base_uri": "https://localhost:8080/"
        },
        "id": "FVa7Bcfuz8QP",
        "outputId": "5db0451e-03aa-4a1c-ebc5-87a77519653b"
      },
      "outputs": [
        {
          "name": "stdout",
          "output_type": "stream",
          "text": [
            "KNN\n",
            "Training time = 0.04s\n",
            "Testing time = 1.37s\n",
            "              precision    recall  f1-score   support\n",
            "\n",
            "           0       0.74      0.87      0.80      6836\n",
            "           1       0.47      0.28      0.35      2853\n",
            "\n",
            "    accuracy                           0.69      9689\n",
            "   macro avg       0.61      0.57      0.58      9689\n",
            "weighted avg       0.66      0.69      0.67      9689\n",
            "\n",
            "Total TPs: 5929 FNs: 907 FPs: 2055 TNs: 798\n",
            "Rates TP: 0.867 FN: 0.133 FP: 0.72 TN: 0.28\n",
            "roc auc score: 0.656\n"
          ]
        }
      ],
      "source": [
        "knn = training(train_df, label_train_df, classifier=\"KNN\")\n",
        "testing(test_df, label_test_df, knn)"
      ]
    },
    {
      "cell_type": "code",
      "execution_count": null,
      "metadata": {
        "colab": {
          "base_uri": "https://localhost:8080/"
        },
        "id": "j8PWa8Ftz8Lh",
        "outputId": "44f43dfd-c2e0-406b-8861-97510911fa8f"
      },
      "outputs": [
        {
          "name": "stdout",
          "output_type": "stream",
          "text": [
            "Decision Tree\n",
            "Training time = 0.03s\n",
            "Testing time = 0.0s\n",
            "              precision    recall  f1-score   support\n",
            "\n",
            "           0       0.71      1.00      0.83      6836\n",
            "           1       0.74      0.01      0.01      2853\n",
            "\n",
            "    accuracy                           0.71      9689\n",
            "   macro avg       0.72      0.50      0.42      9689\n",
            "weighted avg       0.72      0.71      0.59      9689\n",
            "\n",
            "Total TPs: 6830 FNs: 6 FPs: 2836 TNs: 17\n",
            "Rates TP: 0.999 FN: 0.001 FP: 0.994 TN: 0.006\n",
            "roc auc score: 0.558\n"
          ]
        }
      ],
      "source": [
        "dt = training(train_df, label_train_df, classifier=\"Decision Tree\")\n",
        "testing(test_df, label_test_df, dt)"
      ]
    },
    {
      "cell_type": "code",
      "execution_count": null,
      "metadata": {
        "colab": {
          "base_uri": "https://localhost:8080/"
        },
        "id": "ShmBo1Pkz8Km",
        "outputId": "3f9f3a89-063b-4723-bc53-3af0fa4bf74d"
      },
      "outputs": [
        {
          "name": "stdout",
          "output_type": "stream",
          "text": [
            "AdaBoost\n",
            "Training time = 0.9s\n",
            "Testing time = 0.09s\n",
            "              precision    recall  f1-score   support\n",
            "\n",
            "           0       0.71      1.00      0.83      6836\n",
            "           1       0.68      0.01      0.01      2853\n",
            "\n",
            "    accuracy                           0.71      9689\n",
            "   macro avg       0.69      0.50      0.42      9689\n",
            "weighted avg       0.70      0.71      0.59      9689\n",
            "\n",
            "Total TPs: 6827 FNs: 9 FPs: 2834 TNs: 19\n",
            "Rates TP: 0.999 FN: 0.001 FP: 0.993 TN: 0.007\n",
            "roc auc score: 0.585\n"
          ]
        }
      ],
      "source": [
        "ada = training(train_df, label_train_df, classifier=\"AdaBoost\")\n",
        "testing(test_df, label_test_df, ada)"
      ]
    },
    {
      "cell_type": "code",
      "execution_count": null,
      "metadata": {
        "colab": {
          "base_uri": "https://localhost:8080/"
        },
        "id": "mIbRfyhO1IEH",
        "outputId": "ef35ae65-15c0-40f2-b1ab-7ea377c3f49f"
      },
      "outputs": [
        {
          "name": "stdout",
          "output_type": "stream",
          "text": [
            "Gradient Boosting\n",
            "Training time = 2.65s\n",
            "Testing time = 0.02s\n",
            "              precision    recall  f1-score   support\n",
            "\n",
            "           0       0.71      1.00      0.83      6836\n",
            "           1       0.62      0.02      0.04      2853\n",
            "\n",
            "    accuracy                           0.71      9689\n",
            "   macro avg       0.66      0.51      0.43      9689\n",
            "weighted avg       0.68      0.71      0.59      9689\n",
            "\n",
            "Total TPs: 6802 FNs: 34 FPs: 2798 TNs: 55\n",
            "Rates TP: 0.995 FN: 0.005 FP: 0.981 TN: 0.019\n",
            "roc auc score: 0.613\n"
          ]
        }
      ],
      "source": [
        "gb = training(train_df, label_train_df, classifier=\"Gradient Boosting\")\n",
        "testing(test_df, label_test_df, gb)"
      ]
    },
    {
      "cell_type": "code",
      "execution_count": null,
      "metadata": {
        "colab": {
          "base_uri": "https://localhost:8080/"
        },
        "id": "O7A5UIex1IAQ",
        "outputId": "7ce8265d-c663-4b23-8a0d-168a25c7c25d"
      },
      "outputs": [
        {
          "name": "stdout",
          "output_type": "stream",
          "text": [
            "Bagging\n",
            "Training time = 83.86s\n",
            "Testing time = 56.25s\n",
            "              precision    recall  f1-score   support\n",
            "\n",
            "           0       0.71      1.00      0.83      6836\n",
            "           1       0.70      0.01      0.01      2853\n",
            "\n",
            "    accuracy                           0.71      9689\n",
            "   macro avg       0.71      0.50      0.42      9689\n",
            "weighted avg       0.71      0.71      0.59      9689\n",
            "\n",
            "Total TPs: 6828 FNs: 8 FPs: 2834 TNs: 19\n",
            "Rates TP: 0.999 FN: 0.001 FP: 0.993 TN: 0.007\n",
            "roc auc score: 0.503\n"
          ]
        }
      ],
      "source": [
        "bag = training(train_df, label_train_df, classifier=\"Bagging\")\n",
        "testing(test_df, label_test_df, bag)"
      ]
    },
    {
      "cell_type": "markdown",
      "source": [
        "# MODEL TRAINING ON TOP-30 FEATURES SELECTED"
      ],
      "metadata": {
        "id": "CtZReWbVf5li"
      }
    },
    {
      "cell_type": "code",
      "execution_count": null,
      "metadata": {
        "colab": {
          "base_uri": "https://localhost:8080/"
        },
        "id": "rVzYPHjA8R2f",
        "outputId": "382fde82-6597-43e0-e0da-0c017956789f"
      },
      "outputs": [
        {
          "name": "stderr",
          "output_type": "stream",
          "text": [
            "/usr/local/lib/python3.7/dist-packages/sklearn/feature_selection/_univariate_selection.py:112: UserWarning: Features [116 117 124 126 127] are constant.\n",
            "  warnings.warn(\"Features %s are constant.\" % constant_features_idx, UserWarning)\n",
            "/usr/local/lib/python3.7/dist-packages/sklearn/feature_selection/_univariate_selection.py:113: RuntimeWarning: invalid value encountered in true_divide\n",
            "  f = msb / msw\n"
          ]
        }
      ],
      "source": [
        "train_df, test_df, fs = select_features(train_df, label_train_df, test_df, f_classif, 30)\n",
        "train_df=pd.DataFrame(train_df)\n",
        "test_df=pd.DataFrame(test_df)"
      ]
    },
    {
      "cell_type": "code",
      "execution_count": null,
      "metadata": {
        "colab": {
          "base_uri": "https://localhost:8080/",
          "height": 1000
        },
        "id": "FsrKk0LM1H7V",
        "outputId": "79de2c0f-feca-459e-e3cb-09ee938d0e6c"
      },
      "outputs": [
        {
          "name": "stdout",
          "output_type": "stream",
          "text": [
            "Random Forest\n"
          ]
        },
        {
          "data": {
            "image/png": "[encoded data removed]",
            "text/plain": [
              "<Figure size 432x288 with 1 Axes>"
            ]
          },
          "metadata": {},
          "output_type": "display_data"
        },
        {
          "name": "stdout",
          "output_type": "stream",
          "text": [
            "Training time = 8.85s\n",
            "Testing time = 0.22s\n",
            "              precision    recall  f1-score   support\n",
            "\n",
            "           0       0.90      0.96      0.93      6856\n",
            "           1       0.89      0.75      0.81      2833\n",
            "\n",
            "    accuracy                           0.90      9689\n",
            "   macro avg       0.90      0.86      0.87      9689\n",
            "weighted avg       0.90      0.90      0.90      9689\n",
            "\n",
            "Total TPs: 6590 FNs: 266 FPs: 708 TNs: 2125\n",
            "Rates TP: 0.961 FN: 0.039 FP: 0.25 TN: 0.75\n",
            "roc auc score: 0.955\n",
            "\n",
            "\n",
            "\n",
            "\n",
            "Logistic Regression\n"
          ]
        },
        {
          "name": "stderr",
          "output_type": "stream",
          "text": [
            "/usr/local/lib/python3.7/dist-packages/sklearn/linear_model/_logistic.py:818: ConvergenceWarning: lbfgs failed to converge (status=1):\n",
            "STOP: TOTAL NO. of ITERATIONS REACHED LIMIT.\n",
            "\n",
            "Increase the number of iterations (max_iter) or scale the data as shown in:\n",
            "    https://scikit-learn.org/stable/modules/preprocessing.html\n",
            "Please also refer to the documentation for alternative solver options:\n",
            "    https://scikit-learn.org/stable/modules/linear_model.html#logistic-regression\n",
            "  extra_warning_msg=_LOGISTIC_SOLVER_CONVERGENCE_MSG,\n"
          ]
        },
        {
          "name": "stdout",
          "output_type": "stream",
          "text": [
            "Training time = 0.45s\n",
            "Testing time = 0.0s\n",
            "              precision    recall  f1-score   support\n",
            "\n",
            "           0       0.71      0.98      0.82      6856\n",
            "           1       0.44      0.03      0.06      2833\n",
            "\n",
            "    accuracy                           0.70      9689\n",
            "   macro avg       0.57      0.51      0.44      9689\n",
            "weighted avg       0.63      0.70      0.60      9689\n",
            "\n",
            "Total TPs: 6732 FNs: 124 FPs: 2737 TNs: 96\n",
            "Rates TP: 0.982 FN: 0.018 FP: 0.966 TN: 0.034\n",
            "roc auc score: 0.546\n",
            "\n",
            "\n",
            "\n",
            "\n",
            "Naive Bayes\n",
            "Training time = 0.02s\n",
            "Testing time = 0.01s\n",
            "              precision    recall  f1-score   support\n",
            "\n",
            "           0       0.71      0.98      0.82      6856\n",
            "           1       0.34      0.02      0.03      2833\n",
            "\n",
            "    accuracy                           0.70      9689\n",
            "   macro avg       0.52      0.50      0.43      9689\n",
            "weighted avg       0.60      0.70      0.59      9689\n",
            "\n",
            "Total TPs: 6753 FNs: 103 FPs: 2781 TNs: 52\n",
            "Rates TP: 0.985 FN: 0.015 FP: 0.982 TN: 0.018\n",
            "roc auc score: 0.536\n",
            "\n",
            "\n",
            "\n",
            "\n",
            "KNN\n",
            "Training time = 0.01s\n",
            "Testing time = 4.06s\n",
            "              precision    recall  f1-score   support\n",
            "\n",
            "           0       0.87      0.91      0.89      6856\n",
            "           1       0.75      0.67      0.71      2833\n",
            "\n",
            "    accuracy                           0.84      9689\n",
            "   macro avg       0.81      0.79      0.80      9689\n",
            "weighted avg       0.83      0.84      0.83      9689\n",
            "\n",
            "Total TPs: 6213 FNs: 643 FPs: 931 TNs: 1902\n",
            "Rates TP: 0.906 FN: 0.094 FP: 0.329 TN: 0.671\n",
            "roc auc score: 0.899\n",
            "\n",
            "\n",
            "\n",
            "\n",
            "Decision Tree\n",
            "Training time = 0.16s\n",
            "Testing time = 0.0s\n",
            "              precision    recall  f1-score   support\n",
            "\n",
            "           0       0.71      0.99      0.83      6856\n",
            "           1       0.53      0.02      0.04      2833\n",
            "\n",
            "    accuracy                           0.71      9689\n",
            "   macro avg       0.62      0.51      0.44      9689\n",
            "weighted avg       0.66      0.71      0.60      9689\n",
            "\n",
            "Total TPs: 6799 FNs: 57 FPs: 2769 TNs: 64\n",
            "Rates TP: 0.992 FN: 0.008 FP: 0.977 TN: 0.023\n",
            "roc auc score: 0.553\n",
            "\n",
            "\n",
            "\n",
            "\n",
            "AdaBoost\n",
            "Training time = 3.12s\n",
            "Testing time = 0.08s\n",
            "              precision    recall  f1-score   support\n",
            "\n",
            "           0       0.71      1.00      0.83      6856\n",
            "           1       0.67      0.02      0.04      2833\n",
            "\n",
            "    accuracy                           0.71      9689\n",
            "   macro avg       0.69      0.51      0.44      9689\n",
            "weighted avg       0.70      0.71      0.60      9689\n",
            "\n",
            "Total TPs: 6824 FNs: 32 FPs: 2769 TNs: 64\n",
            "Rates TP: 0.995 FN: 0.005 FP: 0.977 TN: 0.023\n",
            "roc auc score: 0.633\n",
            "\n",
            "\n",
            "\n",
            "\n",
            "Gradient Boosting\n",
            "Training time = 15.38s\n",
            "Testing time = 0.01s\n",
            "              precision    recall  f1-score   support\n",
            "\n",
            "           0       0.72      0.99      0.83      6856\n",
            "           1       0.69      0.07      0.12      2833\n",
            "\n",
            "    accuracy                           0.72      9689\n",
            "   macro avg       0.71      0.53      0.48      9689\n",
            "weighted avg       0.71      0.72      0.62      9689\n",
            "\n",
            "Total TPs: 6773 FNs: 83 FPs: 2644 TNs: 189\n",
            "Rates TP: 0.988 FN: 0.012 FP: 0.933 TN: 0.067\n",
            "roc auc score: 0.699\n",
            "\n",
            "\n",
            "\n",
            "\n",
            "Bagging\n",
            "Training time = 113.63s\n",
            "Testing time = 72.19s\n",
            "              precision    recall  f1-score   support\n",
            "\n",
            "           0       0.71      1.00      0.83      6856\n",
            "           1       0.85      0.01      0.02      2833\n",
            "\n",
            "    accuracy                           0.71      9689\n",
            "   macro avg       0.78      0.50      0.42      9689\n",
            "weighted avg       0.75      0.71      0.59      9689\n",
            "\n",
            "Total TPs: 6851 FNs: 5 FPs: 2805 TNs: 28\n",
            "Rates TP: 0.999 FN: 0.001 FP: 0.99 TN: 0.01\n",
            "roc auc score: 0.504\n",
            "\n",
            "\n",
            "\n",
            "\n"
          ]
        }
      ],
      "source": [
        "rf = training(train_df, label_train_df, classifier=\"Random Forest\")\n",
        "testing(test_df, label_test_df, rf)\n",
        "print(\"\\n\")\n",
        "print(\"\\n\")\n",
        "lr = training(train_df, label_train_df, classifier=\"Logistic Regression\")\n",
        "testing(test_df, label_test_df, lr)\n",
        "print(\"\\n\")\n",
        "print(\"\\n\")\n",
        "nb = training(train_df, label_train_df, classifier=\"Naive Bayes\")\n",
        "testing(test_df, label_test_df, nb)\n",
        "print(\"\\n\")\n",
        "print(\"\\n\")\n",
        "knn = training(train_df, label_train_df, classifier=\"KNN\")\n",
        "testing(test_df, label_test_df, knn)\n",
        "print(\"\\n\")\n",
        "print(\"\\n\")\n",
        "dt = training(train_df, label_train_df, classifier=\"Decision Tree\")\n",
        "testing(test_df, label_test_df, dt)\n",
        "print(\"\\n\")\n",
        "print(\"\\n\")\n",
        "ada = training(train_df, label_train_df, classifier=\"AdaBoost\")\n",
        "testing(test_df, label_test_df, ada)\n",
        "print(\"\\n\")\n",
        "print(\"\\n\")\n",
        "gb = training(train_df, label_train_df, classifier=\"Gradient Boosting\")\n",
        "testing(test_df, label_test_df, gb)\n",
        "print(\"\\n\")\n",
        "print(\"\\n\")\n",
        "bag = training(train_df, label_train_df, classifier=\"Bagging\")\n",
        "testing(test_df, label_test_df, bag)\n",
        "print(\"\\n\")\n",
        "print(\"\\n\")\n",
        "\n"
      ]
    },
    {
      "cell_type": "markdown",
      "source": [
        "# MODEL TRAINING ON TOP-50 FEATURES SELECTED"
      ],
      "metadata": {
        "id": "kQy3F2aNf_x5"
      }
    },
    {
      "cell_type": "code",
      "execution_count": null,
      "metadata": {
        "id": "L9LCdwr-1H5k"
      },
      "outputs": [],
      "source": [
        "train_df, test_df, fs = select_features(train_df, label_train_df, test_df, f_classif, 50)\n",
        "train_df=pd.DataFrame(train_df)\n",
        "test_df=pd.DataFrame(test_df)"
      ]
    },
    {
      "cell_type": "code",
      "execution_count": null,
      "metadata": {
        "colab": {
          "base_uri": "https://localhost:8080/",
          "height": 1000
        },
        "id": "DX9b9OrY3VV-",
        "outputId": "457afec9-c868-499f-8c56-4f137eca0ac8"
      },
      "outputs": [
        {
          "name": "stdout",
          "output_type": "stream",
          "text": [
            "Random Forest\n"
          ]
        },
        {
          "data": {
            "image/png": "[encoded data removed]",
            "text/plain": [
              "<Figure size 432x288 with 1 Axes>"
            ]
          },
          "metadata": {},
          "output_type": "display_data"
        },
        {
          "name": "stdout",
          "output_type": "stream",
          "text": [
            "Training time = 11.3s\n",
            "Testing time = 0.24s\n",
            "              precision    recall  f1-score   support\n",
            "\n",
            "           0       0.91      0.97      0.94      6779\n",
            "           1       0.93      0.77      0.84      2910\n",
            "\n",
            "    accuracy                           0.91      9689\n",
            "   macro avg       0.92      0.87      0.89      9689\n",
            "weighted avg       0.91      0.91      0.91      9689\n",
            "\n",
            "Total TPs: 6598 FNs: 181 FPs: 671 TNs: 2239\n",
            "Rates TP: 0.973 FN: 0.027 FP: 0.231 TN: 0.769\n",
            "roc auc score: 0.969\n",
            "\n",
            "\n",
            "\n",
            "\n",
            "Logistic Regression\n"
          ]
        },
        {
          "name": "stderr",
          "output_type": "stream",
          "text": [
            "/usr/local/lib/python3.7/dist-packages/sklearn/linear_model/_logistic.py:818: ConvergenceWarning: lbfgs failed to converge (status=1):\n",
            "STOP: TOTAL NO. of ITERATIONS REACHED LIMIT.\n",
            "\n",
            "Increase the number of iterations (max_iter) or scale the data as shown in:\n",
            "    https://scikit-learn.org/stable/modules/preprocessing.html\n",
            "Please also refer to the documentation for alternative solver options:\n",
            "    https://scikit-learn.org/stable/modules/linear_model.html#logistic-regression\n",
            "  extra_warning_msg=_LOGISTIC_SOLVER_CONVERGENCE_MSG,\n"
          ]
        },
        {
          "name": "stdout",
          "output_type": "stream",
          "text": [
            "Training time = 0.51s\n",
            "Testing time = 0.0s\n",
            "              precision    recall  f1-score   support\n",
            "\n",
            "           0       0.70      0.99      0.82      6779\n",
            "           1       0.33      0.01      0.02      2910\n",
            "\n",
            "    accuracy                           0.70      9689\n",
            "   macro avg       0.52      0.50      0.42      9689\n",
            "weighted avg       0.59      0.70      0.58      9689\n",
            "\n",
            "Total TPs: 6725 FNs: 54 FPs: 2883 TNs: 27\n",
            "Rates TP: 0.992 FN: 0.008 FP: 0.991 TN: 0.009\n",
            "roc auc score: 0.584\n",
            "\n",
            "\n",
            "\n",
            "\n",
            "Naive Bayes\n",
            "Training time = 0.03s\n",
            "Testing time = 0.01s\n",
            "              precision    recall  f1-score   support\n",
            "\n",
            "           0       0.70      0.98      0.82      6779\n",
            "           1       0.35      0.02      0.05      2910\n",
            "\n",
            "    accuracy                           0.69      9689\n",
            "   macro avg       0.53      0.50      0.43      9689\n",
            "weighted avg       0.60      0.69      0.59      9689\n",
            "\n",
            "Total TPs: 6651 FNs: 128 FPs: 2840 TNs: 70\n",
            "Rates TP: 0.981 FN: 0.019 FP: 0.976 TN: 0.024\n",
            "roc auc score: 0.558\n",
            "\n",
            "\n",
            "\n",
            "\n",
            "KNN\n",
            "Training time = 0.01s\n",
            "Testing time = 3.99s\n",
            "              precision    recall  f1-score   support\n",
            "\n",
            "           0       0.82      0.90      0.86      6779\n",
            "           1       0.70      0.55      0.62      2910\n",
            "\n",
            "    accuracy                           0.80      9689\n",
            "   macro avg       0.76      0.73      0.74      9689\n",
            "weighted avg       0.79      0.80      0.79      9689\n",
            "\n",
            "Total TPs: 6095 FNs: 684 FPs: 1295 TNs: 1615\n",
            "Rates TP: 0.899 FN: 0.101 FP: 0.445 TN: 0.555\n",
            "roc auc score: 0.85\n",
            "\n",
            "\n",
            "\n",
            "\n",
            "Decision Tree\n",
            "Training time = 0.25s\n",
            "Testing time = 0.0s\n",
            "              precision    recall  f1-score   support\n",
            "\n",
            "           0       0.71      1.00      0.83      6779\n",
            "           1       0.77      0.03      0.06      2910\n",
            "\n",
            "    accuracy                           0.71      9689\n",
            "   macro avg       0.74      0.51      0.44      9689\n",
            "weighted avg       0.73      0.71      0.60      9689\n",
            "\n",
            "Total TPs: 6751 FNs: 28 FPs: 2816 TNs: 94\n",
            "Rates TP: 0.996 FN: 0.004 FP: 0.968 TN: 0.032\n",
            "roc auc score: 0.603\n",
            "\n",
            "\n",
            "\n",
            "\n",
            "AdaBoost\n",
            "Training time = 4.72s\n",
            "Testing time = 0.1s\n",
            "              precision    recall  f1-score   support\n",
            "\n",
            "           0       0.71      0.97      0.82      6779\n",
            "           1       0.54      0.08      0.14      2910\n",
            "\n",
            "    accuracy                           0.70      9689\n",
            "   macro avg       0.62      0.52      0.48      9689\n",
            "weighted avg       0.66      0.70      0.61      9689\n",
            "\n",
            "Total TPs: 6584 FNs: 195 FPs: 2684 TNs: 226\n",
            "Rates TP: 0.971 FN: 0.029 FP: 0.922 TN: 0.078\n",
            "roc auc score: 0.668\n",
            "\n",
            "\n",
            "\n",
            "\n",
            "Gradient Boosting\n",
            "Training time = 22.23s\n",
            "Testing time = 0.02s\n",
            "              precision    recall  f1-score   support\n",
            "\n",
            "           0       0.72      0.99      0.83      6779\n",
            "           1       0.76      0.09      0.17      2910\n",
            "\n",
            "    accuracy                           0.72      9689\n",
            "   macro avg       0.74      0.54      0.50      9689\n",
            "weighted avg       0.73      0.72      0.63      9689\n",
            "\n",
            "Total TPs: 6692 FNs: 87 FPs: 2634 TNs: 276\n",
            "Rates TP: 0.987 FN: 0.013 FP: 0.905 TN: 0.095\n",
            "roc auc score: 0.733\n",
            "\n",
            "\n",
            "\n",
            "\n",
            "Bagging\n",
            "Training time = 123.81s\n",
            "Testing time = 77.98s\n",
            "              precision    recall  f1-score   support\n",
            "\n",
            "           0       0.70      1.00      0.82      6779\n",
            "           1       0.75      0.01      0.02      2910\n",
            "\n",
            "    accuracy                           0.70      9689\n",
            "   macro avg       0.73      0.50      0.42      9689\n",
            "weighted avg       0.72      0.70      0.58      9689\n",
            "\n",
            "Total TPs: 6771 FNs: 8 FPs: 2886 TNs: 24\n",
            "Rates TP: 0.999 FN: 0.001 FP: 0.992 TN: 0.008\n",
            "roc auc score: 0.506\n",
            "\n",
            "\n",
            "\n",
            "\n"
          ]
        }
      ],
      "source": [
        "rf = training(train_df, label_train_df, classifier=\"Random Forest\")\n",
        "testing(test_df, label_test_df, rf)\n",
        "print(\"\\n\")\n",
        "print(\"\\n\")\n",
        "lr = training(train_df, label_train_df, classifier=\"Logistic Regression\")\n",
        "testing(test_df, label_test_df, lr)\n",
        "print(\"\\n\")\n",
        "print(\"\\n\")\n",
        "nb = training(train_df, label_train_df, classifier=\"Naive Bayes\")\n",
        "testing(test_df, label_test_df, nb)\n",
        "print(\"\\n\")\n",
        "print(\"\\n\")\n",
        "knn = training(train_df, label_train_df, classifier=\"KNN\")\n",
        "testing(test_df, label_test_df, knn)\n",
        "print(\"\\n\")\n",
        "print(\"\\n\")\n",
        "dt = training(train_df, label_train_df, classifier=\"Decision Tree\")\n",
        "testing(test_df, label_test_df, dt)\n",
        "print(\"\\n\")\n",
        "print(\"\\n\")\n",
        "ada = training(train_df, label_train_df, classifier=\"AdaBoost\")\n",
        "testing(test_df, label_test_df, ada)\n",
        "print(\"\\n\")\n",
        "print(\"\\n\")\n",
        "gb = training(train_df, label_train_df, classifier=\"Gradient Boosting\")\n",
        "testing(test_df, label_test_df, gb)\n",
        "print(\"\\n\")\n",
        "print(\"\\n\")\n",
        "bag = training(train_df, label_train_df, classifier=\"Bagging\")\n",
        "testing(test_df, label_test_df, bag)\n",
        "print(\"\\n\")\n",
        "print(\"\\n\")\n"
      ]
    },
    {
      "cell_type": "markdown",
      "source": [
        "# 10- FOLD CROSS VALIDATION"
      ],
      "metadata": {
        "id": "f_H376PQgEib"
      }
    },
    {
      "cell_type": "code",
      "execution_count": null,
      "metadata": {
        "id": "0J7HJkCmBGn3"
      },
      "outputs": [],
      "source": [
        "# Test options and evaluation metric\n",
        "num_folds = 10\n",
        "seed = 7\n",
        "scoring = 'accuracy'"
      ]
    },
    {
      "cell_type": "code",
      "execution_count": null,
      "metadata": {
        "id": "pNSsqN_cB6xk"
      },
      "outputs": [],
      "source": [
        "# Spot-Check Algorithms\n",
        "models = []\n",
        "models.append(('LR', LogisticRegression()))\n",
        "models.append(('LDA', LinearDiscriminantAnalysis()))\n",
        "models.append(('KNN', KNeighborsClassifier()))\n",
        "models.append(('CART', DecisionTreeClassifier()))\n",
        "models.append(('NB', GaussianNB()))\n",
        "models.append(('SVM', SVC()))\n",
        "results = []\n",
        "names = []\n",
        "for name, model in models:\n",
        "    kfold = KFold(n_splits=num_folds)\n",
        "    cv_results = cross_val_score(model, train_df, label_train_df, cv=kfold, scoring=scoring)\n",
        "    results.append(cv_results)\n",
        "    names.append(name)\n",
        "    msg = \"%s: %f (%f)\" % (name, cv_results.mean(), cv_results.std())\n",
        "    print(msg)"
      ]
    },
    {
      "cell_type": "code",
      "execution_count": null,
      "metadata": {
        "colab": {
          "base_uri": "https://localhost:8080/"
        },
        "id": "93itI0csCqQp",
        "outputId": "8b72f3cc-8379-41e6-f85a-044335e4ae5a"
      },
      "outputs": [
        {
          "name": "stdout",
          "output_type": "stream",
          "text": [
            "Random Forest\n",
            "[ 2261  2262  2263 ... 22604 22605 22606]\n",
            "[    0     1     2 ... 22604 22605 22606]\n",
            "[    0     1     2 ... 22604 22605 22606]\n",
            "[    0     1     2 ... 22604 22605 22606]\n",
            "[    0     1     2 ... 22604 22605 22606]\n",
            "[    0     1     2 ... 22604 22605 22606]\n",
            "[    0     1     2 ... 22604 22605 22606]\n",
            "[    0     1     2 ... 22604 22605 22606]\n",
            "[    0     1     2 ... 22604 22605 22606]\n",
            "[    0     1     2 ... 20344 20345 20346]\n",
            "accuracy of each fold - [0.9009287925696594, 0.9066784608580274, 0.9022556390977443, 0.9053516143299425, 0.9146395400265369, 0.9004865103936311, 0.9062361786819991, 0.9048672566371682, 0.9017699115044248, 0.9132743362831859]\n",
            "Avg accuracy : 0.9056488240382319\n",
            "Time: 100.91493630409241\n"
          ]
        }
      ],
      "source": [
        "k_fold_train(train_df, label_train_df,10,\"Random Forest\")"
      ]
    },
    {
      "cell_type": "code",
      "execution_count": null,
      "metadata": {
        "colab": {
          "base_uri": "https://localhost:8080/"
        },
        "id": "v5LZYLi8DNgS",
        "outputId": "08a35d7c-4a08-46d9-9a3a-f6e4153d4676"
      },
      "outputs": [
        {
          "name": "stdout",
          "output_type": "stream",
          "text": [
            "Logistic Regression\n",
            "[ 2261  2262  2263 ... 22604 22605 22606]\n"
          ]
        },
        {
          "name": "stderr",
          "output_type": "stream",
          "text": [
            "/usr/local/lib/python3.7/dist-packages/sklearn/linear_model/_logistic.py:818: ConvergenceWarning: lbfgs failed to converge (status=1):\n",
            "STOP: TOTAL NO. of ITERATIONS REACHED LIMIT.\n",
            "\n",
            "Increase the number of iterations (max_iter) or scale the data as shown in:\n",
            "    https://scikit-learn.org/stable/modules/preprocessing.html\n",
            "Please also refer to the documentation for alternative solver options:\n",
            "    https://scikit-learn.org/stable/modules/linear_model.html#logistic-regression\n",
            "  extra_warning_msg=_LOGISTIC_SOLVER_CONVERGENCE_MSG,\n"
          ]
        },
        {
          "name": "stdout",
          "output_type": "stream",
          "text": [
            "[    0     1     2 ... 22604 22605 22606]\n"
          ]
        },
        {
          "name": "stderr",
          "output_type": "stream",
          "text": [
            "/usr/local/lib/python3.7/dist-packages/sklearn/linear_model/_logistic.py:818: ConvergenceWarning: lbfgs failed to converge (status=1):\n",
            "STOP: TOTAL NO. of ITERATIONS REACHED LIMIT.\n",
            "\n",
            "Increase the number of iterations (max_iter) or scale the data as shown in:\n",
            "    https://scikit-learn.org/stable/modules/preprocessing.html\n",
            "Please also refer to the documentation for alternative solver options:\n",
            "    https://scikit-learn.org/stable/modules/linear_model.html#logistic-regression\n",
            "  extra_warning_msg=_LOGISTIC_SOLVER_CONVERGENCE_MSG,\n"
          ]
        },
        {
          "name": "stdout",
          "output_type": "stream",
          "text": [
            "[    0     1     2 ... 22604 22605 22606]\n"
          ]
        },
        {
          "name": "stderr",
          "output_type": "stream",
          "text": [
            "/usr/local/lib/python3.7/dist-packages/sklearn/linear_model/_logistic.py:818: ConvergenceWarning: lbfgs failed to converge (status=1):\n",
            "STOP: TOTAL NO. of ITERATIONS REACHED LIMIT.\n",
            "\n",
            "Increase the number of iterations (max_iter) or scale the data as shown in:\n",
            "    https://scikit-learn.org/stable/modules/preprocessing.html\n",
            "Please also refer to the documentation for alternative solver options:\n",
            "    https://scikit-learn.org/stable/modules/linear_model.html#logistic-regression\n",
            "  extra_warning_msg=_LOGISTIC_SOLVER_CONVERGENCE_MSG,\n"
          ]
        },
        {
          "name": "stdout",
          "output_type": "stream",
          "text": [
            "[    0     1     2 ... 22604 22605 22606]\n"
          ]
        },
        {
          "name": "stderr",
          "output_type": "stream",
          "text": [
            "/usr/local/lib/python3.7/dist-packages/sklearn/linear_model/_logistic.py:818: ConvergenceWarning: lbfgs failed to converge (status=1):\n",
            "STOP: TOTAL NO. of ITERATIONS REACHED LIMIT.\n",
            "\n",
            "Increase the number of iterations (max_iter) or scale the data as shown in:\n",
            "    https://scikit-learn.org/stable/modules/preprocessing.html\n",
            "Please also refer to the documentation for alternative solver options:\n",
            "    https://scikit-learn.org/stable/modules/linear_model.html#logistic-regression\n",
            "  extra_warning_msg=_LOGISTIC_SOLVER_CONVERGENCE_MSG,\n"
          ]
        },
        {
          "name": "stdout",
          "output_type": "stream",
          "text": [
            "[    0     1     2 ... 22604 22605 22606]\n"
          ]
        },
        {
          "name": "stderr",
          "output_type": "stream",
          "text": [
            "/usr/local/lib/python3.7/dist-packages/sklearn/linear_model/_logistic.py:818: ConvergenceWarning: lbfgs failed to converge (status=1):\n",
            "STOP: TOTAL NO. of ITERATIONS REACHED LIMIT.\n",
            "\n",
            "Increase the number of iterations (max_iter) or scale the data as shown in:\n",
            "    https://scikit-learn.org/stable/modules/preprocessing.html\n",
            "Please also refer to the documentation for alternative solver options:\n",
            "    https://scikit-learn.org/stable/modules/linear_model.html#logistic-regression\n",
            "  extra_warning_msg=_LOGISTIC_SOLVER_CONVERGENCE_MSG,\n"
          ]
        },
        {
          "name": "stdout",
          "output_type": "stream",
          "text": [
            "[    0     1     2 ... 22604 22605 22606]\n"
          ]
        },
        {
          "name": "stderr",
          "output_type": "stream",
          "text": [
            "/usr/local/lib/python3.7/dist-packages/sklearn/linear_model/_logistic.py:818: ConvergenceWarning: lbfgs failed to converge (status=1):\n",
            "STOP: TOTAL NO. of ITERATIONS REACHED LIMIT.\n",
            "\n",
            "Increase the number of iterations (max_iter) or scale the data as shown in:\n",
            "    https://scikit-learn.org/stable/modules/preprocessing.html\n",
            "Please also refer to the documentation for alternative solver options:\n",
            "    https://scikit-learn.org/stable/modules/linear_model.html#logistic-regression\n",
            "  extra_warning_msg=_LOGISTIC_SOLVER_CONVERGENCE_MSG,\n"
          ]
        },
        {
          "name": "stdout",
          "output_type": "stream",
          "text": [
            "[    0     1     2 ... 22604 22605 22606]\n"
          ]
        },
        {
          "name": "stderr",
          "output_type": "stream",
          "text": [
            "/usr/local/lib/python3.7/dist-packages/sklearn/linear_model/_logistic.py:818: ConvergenceWarning: lbfgs failed to converge (status=1):\n",
            "STOP: TOTAL NO. of ITERATIONS REACHED LIMIT.\n",
            "\n",
            "Increase the number of iterations (max_iter) or scale the data as shown in:\n",
            "    https://scikit-learn.org/stable/modules/preprocessing.html\n",
            "Please also refer to the documentation for alternative solver options:\n",
            "    https://scikit-learn.org/stable/modules/linear_model.html#logistic-regression\n",
            "  extra_warning_msg=_LOGISTIC_SOLVER_CONVERGENCE_MSG,\n"
          ]
        },
        {
          "name": "stdout",
          "output_type": "stream",
          "text": [
            "[    0     1     2 ... 22604 22605 22606]\n"
          ]
        },
        {
          "name": "stderr",
          "output_type": "stream",
          "text": [
            "/usr/local/lib/python3.7/dist-packages/sklearn/linear_model/_logistic.py:818: ConvergenceWarning: lbfgs failed to converge (status=1):\n",
            "STOP: TOTAL NO. of ITERATIONS REACHED LIMIT.\n",
            "\n",
            "Increase the number of iterations (max_iter) or scale the data as shown in:\n",
            "    https://scikit-learn.org/stable/modules/preprocessing.html\n",
            "Please also refer to the documentation for alternative solver options:\n",
            "    https://scikit-learn.org/stable/modules/linear_model.html#logistic-regression\n",
            "  extra_warning_msg=_LOGISTIC_SOLVER_CONVERGENCE_MSG,\n"
          ]
        },
        {
          "name": "stdout",
          "output_type": "stream",
          "text": [
            "[    0     1     2 ... 22604 22605 22606]\n"
          ]
        },
        {
          "name": "stderr",
          "output_type": "stream",
          "text": [
            "/usr/local/lib/python3.7/dist-packages/sklearn/linear_model/_logistic.py:818: ConvergenceWarning: lbfgs failed to converge (status=1):\n",
            "STOP: TOTAL NO. of ITERATIONS REACHED LIMIT.\n",
            "\n",
            "Increase the number of iterations (max_iter) or scale the data as shown in:\n",
            "    https://scikit-learn.org/stable/modules/preprocessing.html\n",
            "Please also refer to the documentation for alternative solver options:\n",
            "    https://scikit-learn.org/stable/modules/linear_model.html#logistic-regression\n",
            "  extra_warning_msg=_LOGISTIC_SOLVER_CONVERGENCE_MSG,\n"
          ]
        },
        {
          "name": "stdout",
          "output_type": "stream",
          "text": [
            "[    0     1     2 ... 20344 20345 20346]\n",
            "accuracy of each fold - [0.7049977885891199, 0.7107474568774879, 0.7001326846528085, 0.6992481203007519, 0.7076514816452897, 0.7023440955329501, 0.6970367094206104, 0.7035398230088495, 0.6889380530973451, 0.7070796460176991]\n",
            "Avg accuracy : 0.7021715859142913\n",
            "Time: 4.923364162445068\n"
          ]
        },
        {
          "name": "stderr",
          "output_type": "stream",
          "text": [
            "/usr/local/lib/python3.7/dist-packages/sklearn/linear_model/_logistic.py:818: ConvergenceWarning: lbfgs failed to converge (status=1):\n",
            "STOP: TOTAL NO. of ITERATIONS REACHED LIMIT.\n",
            "\n",
            "Increase the number of iterations (max_iter) or scale the data as shown in:\n",
            "    https://scikit-learn.org/stable/modules/preprocessing.html\n",
            "Please also refer to the documentation for alternative solver options:\n",
            "    https://scikit-learn.org/stable/modules/linear_model.html#logistic-regression\n",
            "  extra_warning_msg=_LOGISTIC_SOLVER_CONVERGENCE_MSG,\n"
          ]
        }
      ],
      "source": [
        "k_fold_train(train_df, label_train_df,10,\"Logistic Regression\")"
      ]
    },
    {
      "cell_type": "code",
      "execution_count": null,
      "metadata": {
        "colab": {
          "base_uri": "https://localhost:8080/"
        },
        "id": "i7cl8LFxDwa4",
        "outputId": "dbc7ca72-8563-4ab4-f025-193ef84d1fda"
      },
      "outputs": [
        {
          "name": "stdout",
          "output_type": "stream",
          "text": [
            "Naive Bayes\n",
            "[ 2261  2262  2263 ... 22604 22605 22606]\n",
            "[    0     1     2 ... 22604 22605 22606]\n",
            "[    0     1     2 ... 22604 22605 22606]\n",
            "[    0     1     2 ... 22604 22605 22606]\n",
            "[    0     1     2 ... 22604 22605 22606]\n",
            "[    0     1     2 ... 22604 22605 22606]\n",
            "[    0     1     2 ... 22604 22605 22606]\n",
            "[    0     1     2 ... 22604 22605 22606]\n",
            "[    0     1     2 ... 22604 22605 22606]\n",
            "[    0     1     2 ... 20344 20345 20346]\n",
            "accuracy of each fold - [0.7045555064130915, 0.706766917293233, 0.6952675807164971, 0.6974789915966386, 0.7058823529411765, 0.6974789915966386, 0.6904024767801857, 0.7017699115044248, 0.6853982300884955, 0.7075221238938053]\n",
            "Avg accuracy : 0.6992523082824186\n",
            "Time: 0.39364075660705566\n"
          ]
        }
      ],
      "source": [
        "k_fold_train(train_df, label_train_df,10,\"Naive Bayes\")"
      ]
    },
    {
      "cell_type": "code",
      "execution_count": null,
      "metadata": {
        "colab": {
          "base_uri": "https://localhost:8080/"
        },
        "id": "jf4fOsHGEJbk",
        "outputId": "b7ca5779-f012-40f6-9f3c-d9b3e1fa3bff"
      },
      "outputs": [
        {
          "name": "stdout",
          "output_type": "stream",
          "text": [
            "KNN\n",
            "[ 2261  2262  2263 ... 22604 22605 22606]\n",
            "[    0     1     2 ... 22604 22605 22606]\n",
            "[    0     1     2 ... 22604 22605 22606]\n",
            "[    0     1     2 ... 22604 22605 22606]\n",
            "[    0     1     2 ... 22604 22605 22606]\n",
            "[    0     1     2 ... 22604 22605 22606]\n",
            "[    0     1     2 ... 22604 22605 22606]\n",
            "[    0     1     2 ... 22604 22605 22606]\n",
            "[    0     1     2 ... 22604 22605 22606]\n",
            "[    0     1     2 ... 20344 20345 20346]\n",
            "accuracy of each fold - [0.7801857585139319, 0.787704555506413, 0.793454223794781, 0.7916850950906679, 0.7881468376824414, 0.7810703228659885, 0.7815126050420168, 0.7920353982300885, 0.7858407079646018, 0.7986725663716814]\n",
            "Avg accuracy : 0.7880308071062613\n",
            "Time: 8.530866146087646\n"
          ]
        }
      ],
      "source": [
        "k_fold_train(train_df, label_train_df,10,\"KNN\")"
      ]
    },
    {
      "cell_type": "code",
      "execution_count": null,
      "metadata": {
        "colab": {
          "base_uri": "https://localhost:8080/"
        },
        "id": "5A7q1kXpEL-C",
        "outputId": "b7fbdd30-9746-4687-f366-56f0be805571"
      },
      "outputs": [
        {
          "name": "stdout",
          "output_type": "stream",
          "text": [
            "Decission Trees\n",
            "[ 2261  2262  2263 ... 22604 22605 22606]\n",
            "[    0     1     2 ... 22604 22605 22606]\n",
            "[    0     1     2 ... 22604 22605 22606]\n",
            "[    0     1     2 ... 22604 22605 22606]\n",
            "[    0     1     2 ... 22604 22605 22606]\n",
            "[    0     1     2 ... 22604 22605 22606]\n",
            "[    0     1     2 ... 22604 22605 22606]\n",
            "[    0     1     2 ... 22604 22605 22606]\n",
            "[    0     1     2 ... 22604 22605 22606]\n",
            "[    0     1     2 ... 20344 20345 20346]\n",
            "accuracy of each fold - [0.9000442282176029, 0.9111012826183105, 0.9040247678018576, 0.9057938965059709, 0.9093321539141973, 0.8982750995134896, 0.8996019460415745, 0.9097345132743363, 0.9057522123893805, 0.9137168141592921]\n",
            "Avg accuracy : 0.9057376914436013\n",
            "Time: 102.18026208877563\n"
          ]
        }
      ],
      "source": [
        "k_fold_train(train_df, label_train_df,10,\"Decission Trees\")"
      ]
    },
    {
      "cell_type": "code",
      "execution_count": null,
      "metadata": {
        "colab": {
          "base_uri": "https://localhost:8080/"
        },
        "id": "L0SBa1vaESMZ",
        "outputId": "efb7dc87-d0b6-496d-cf92-3ec2efcd9edf"
      },
      "outputs": [
        {
          "name": "stdout",
          "output_type": "stream",
          "text": [
            "AdaBoost\n",
            "[ 2261  2262  2263 ... 22604 22605 22606]\n",
            "[    0     1     2 ... 22604 22605 22606]\n",
            "[    0     1     2 ... 22604 22605 22606]\n",
            "[    0     1     2 ... 22604 22605 22606]\n",
            "[    0     1     2 ... 22604 22605 22606]\n",
            "[    0     1     2 ... 22604 22605 22606]\n",
            "[    0     1     2 ... 22604 22605 22606]\n",
            "[    0     1     2 ... 22604 22605 22606]\n",
            "[    0     1     2 ... 22604 22605 22606]\n",
            "[    0     1     2 ... 20344 20345 20346]\n",
            "accuracy of each fold - [0.7014595311808934, 0.7129588677576294, 0.7001326846528085, 0.6970367094206104, 0.7058823529411765, 0.7116320212295445, 0.6996904024767802, 0.7115044247787611, 0.7044247787610619, 0.7057522123893806]\n",
            "Avg accuracy : 0.7050473985588647\n",
            "Time: 42.24917387962341\n"
          ]
        }
      ],
      "source": [
        "k_fold_train(train_df, label_train_df,10,\"AdaBoost\")"
      ]
    },
    {
      "cell_type": "code",
      "execution_count": null,
      "metadata": {
        "colab": {
          "base_uri": "https://localhost:8080/"
        },
        "id": "kgEZ0kwEEWK9",
        "outputId": "29ef2077-9a4b-4616-d3a6-78112bc7ff86"
      },
      "outputs": [
        {
          "name": "stdout",
          "output_type": "stream",
          "text": [
            "Gradient Boosting\n",
            "[ 2261  2262  2263 ... 22604 22605 22606]\n",
            "[    0     1     2 ... 22604 22605 22606]\n",
            "[    0     1     2 ... 22604 22605 22606]\n",
            "[    0     1     2 ... 22604 22605 22606]\n",
            "[    0     1     2 ... 22604 22605 22606]\n",
            "[    0     1     2 ... 22604 22605 22606]\n",
            "[    0     1     2 ... 22604 22605 22606]\n",
            "[    0     1     2 ... 22604 22605 22606]\n",
            "[    0     1     2 ... 22604 22605 22606]\n",
            "[    0     1     2 ... 20344 20345 20346]\n",
            "accuracy of each fold - [0.7164971251658558, 0.7244582043343654, 0.7164971251658558, 0.7147279964617426, 0.729765590446705, 0.7275541795665634, 0.7116320212295445, 0.7225663716814159, 0.715929203539823, 0.7269911504424779]\n",
            "Avg accuracy : 0.720661896803435\n",
            "Time: 198.4779679775238\n"
          ]
        }
      ],
      "source": [
        "k_fold_train(train_df, label_train_df,10,\"Gradient Boosting\")"
      ]
    },
    {
      "cell_type": "code",
      "execution_count": null,
      "metadata": {
        "colab": {
          "base_uri": "https://localhost:8080/"
        },
        "id": "FvP2o3YLEadj",
        "outputId": "0519260f-5c84-4116-c1e1-0265cfd39742"
      },
      "outputs": [
        {
          "name": "stdout",
          "output_type": "stream",
          "text": [
            "Bagging\n",
            "[ 2261  2262  2263 ... 22604 22605 22606]\n",
            "[    0     1     2 ... 22604 22605 22606]\n",
            "[    0     1     2 ... 22604 22605 22606]\n",
            "[    0     1     2 ... 22604 22605 22606]\n",
            "[    0     1     2 ... 22604 22605 22606]\n",
            "[    0     1     2 ... 22604 22605 22606]\n",
            "[    0     1     2 ... 22604 22605 22606]\n",
            "[    0     1     2 ... 22604 22605 22606]\n",
            "[    0     1     2 ... 22604 22605 22606]\n",
            "[    0     1     2 ... 20344 20345 20346]\n",
            "accuracy of each fold - [0.7089783281733746, 0.7129588677576294, 0.7019018133569217, 0.7001326846528085, 0.7103051747014595, 0.7063246351172048, 0.6988058381247235, 0.7088495575221239, 0.6933628318584071, 0.7154867256637168]\n",
            "Avg accuracy : 0.7057106456928369\n",
            "Time: 1162.3337569236755\n"
          ]
        }
      ],
      "source": [
        "k_fold_train(train_df, label_train_df,10,\"Bagging\")"
      ]
    },
    {
      "cell_type": "code",
      "execution_count": null,
      "metadata": {
        "id": "58gavUzgLofL"
      },
      "outputs": [],
      "source": []
    },
    {
      "cell_type": "code",
      "execution_count": null,
      "metadata": {
        "id": "gt0yXH7JhRRv"
      },
      "outputs": [],
      "source": []
    },
    {
      "cell_type": "markdown",
      "source": [
        "# UNDERSAMPLING"
      ],
      "metadata": {
        "id": "B269ceqygIuC"
      }
    },
    {
      "cell_type": "code",
      "execution_count": null,
      "metadata": {
        "id": "9rfsJQJEhROU"
      },
      "outputs": [],
      "source": [
        "# Class count\n",
        "count_class_0, count_class_1 = df.marker.value_counts()\n",
        "\n",
        "# Divide by class\n",
        "df_class_0 = df[df['marker'] == 0]\n",
        "df_class_1 = df[df['marker'] == 1]"
      ]
    },
    {
      "cell_type": "code",
      "execution_count": null,
      "metadata": {
        "colab": {
          "base_uri": "https://localhost:8080/"
        },
        "id": "d6oA8q_4hvWf",
        "outputId": "6490b412-b2c3-4a2c-8b41-a5745429c102"
      },
      "outputs": [
        {
          "name": "stdout",
          "output_type": "stream",
          "text": [
            "Random under-sampling:\n",
            "0    9582\n",
            "1    9582\n",
            "Name: marker, dtype: int64\n"
          ]
        }
      ],
      "source": [
        "# Undersample 0-class and concat the DataFrames of both class\n",
        "df_class_0_under = df_class_0.sample(count_class_1)\n",
        "df_test_under = pd.concat([df_class_0_under, df_class_1], axis=0)\n",
        "\n",
        "print('Random under-sampling:')\n",
        "print(df_test_under.marker.value_counts())"
      ]
    },
    {
      "cell_type": "code",
      "execution_count": null,
      "metadata": {
        "id": "qAbRZWZkhzDf"
      },
      "outputs": [],
      "source": [
        "X = df_test_under.drop('marker',axis='columns')\n",
        "y = df_test_under['marker']\n",
        "\n",
        "from sklearn.model_selection import train_test_split\n",
        "X_train, X_test, y_train, y_test = train_test_split(X, y, test_size=0.2, random_state=15, stratify=y)"
      ]
    },
    {
      "cell_type": "code",
      "execution_count": null,
      "metadata": {
        "colab": {
          "base_uri": "https://localhost:8080/"
        },
        "id": "P_wQMQxWh_Sy",
        "outputId": "65dbd961-9a0c-4a92-832e-7730ea8564b1"
      },
      "outputs": [
        {
          "name": "stderr",
          "output_type": "stream",
          "text": [
            "/usr/local/lib/python3.7/dist-packages/sklearn/feature_selection/_univariate_selection.py:112: UserWarning: Features [116 117] are constant.\n",
            "  warnings.warn(\"Features %s are constant.\" % constant_features_idx, UserWarning)\n",
            "/usr/local/lib/python3.7/dist-packages/sklearn/feature_selection/_univariate_selection.py:113: RuntimeWarning: invalid value encountered in true_divide\n",
            "  f = msb / msw\n"
          ]
        }
      ],
      "source": [
        "train_df, test_df, fs = select_features(X_train,y_train,X_test, f_classif, 50)\n",
        "train_df=pd.DataFrame(train_df)\n",
        "test_df=pd.DataFrame(test_df)"
      ]
    },
    {
      "cell_type": "code",
      "execution_count": null,
      "metadata": {
        "colab": {
          "base_uri": "https://localhost:8080/",
          "height": 557
        },
        "id": "Bul0K6YXkcSP",
        "outputId": "21fdb5b4-1f2c-4bb7-9bd2-e14fef72facd"
      },
      "outputs": [
        {
          "name": "stdout",
          "output_type": "stream",
          "text": [
            "Random Forest\n"
          ]
        },
        {
          "data": {
            "image/png": "[encoded data removed]",
            "text/plain": [
              "<Figure size 432x288 with 1 Axes>"
            ]
          },
          "metadata": {},
          "output_type": "display_data"
        },
        {
          "name": "stdout",
          "output_type": "stream",
          "text": [
            "Training time = 7.7s\n",
            "Testing time = 0.1s\n",
            "              precision    recall  f1-score   support\n",
            "\n",
            "           0       0.89      0.87      0.88      1917\n",
            "           1       0.88      0.89      0.88      1916\n",
            "\n",
            "    accuracy                           0.88      3833\n",
            "   macro avg       0.88      0.88      0.88      3833\n",
            "weighted avg       0.88      0.88      0.88      3833\n",
            "\n",
            "Total TPs: 1675 FNs: 242 FPs: 206 TNs: 1710\n",
            "Rates TP: 0.874 FN: 0.126 FP: 0.108 TN: 0.892\n",
            "roc auc score: 0.954\n"
          ]
        }
      ],
      "source": [
        "rf = training(train_df, y_train, classifier=\"Random Forest\")\n",
        "testing(test_df, y_test, rf)"
      ]
    },
    {
      "cell_type": "code",
      "execution_count": null,
      "metadata": {
        "colab": {
          "base_uri": "https://localhost:8080/"
        },
        "id": "04ZTdYUCkxrW",
        "outputId": "49021383-0210-47e0-8c5a-fece2abf8bb5"
      },
      "outputs": [
        {
          "name": "stdout",
          "output_type": "stream",
          "text": [
            "KNN\n",
            "Training time = 0.01s\n",
            "Testing time = 1.38s\n",
            "              precision    recall  f1-score   support\n",
            "\n",
            "           0       0.75      0.71      0.73      1917\n",
            "           1       0.73      0.77      0.75      1916\n",
            "\n",
            "    accuracy                           0.74      3833\n",
            "   macro avg       0.74      0.74      0.74      3833\n",
            "weighted avg       0.74      0.74      0.74      3833\n",
            "\n",
            "Total TPs: 1366 FNs: 551 FPs: 445 TNs: 1471\n",
            "Rates TP: 0.713 FN: 0.287 FP: 0.232 TN: 0.768\n",
            "roc auc score: 0.834\n"
          ]
        }
      ],
      "source": [
        "rf = training(train_df, y_train, classifier=\"KNN\")\n",
        "testing(test_df, y_test, rf)"
      ]
    },
    {
      "cell_type": "code",
      "execution_count": null,
      "metadata": {
        "colab": {
          "base_uri": "https://localhost:8080/"
        },
        "id": "hIpzE0CxQAuN",
        "outputId": "b1a810db-8bdc-4ecd-c530-54d9df713c13"
      },
      "outputs": [
        {
          "name": "stdout",
          "output_type": "stream",
          "text": [
            "Logistic Regression\n",
            "Training time = 0.33s\n",
            "Testing time = 0.0s\n",
            "              precision    recall  f1-score   support\n",
            "\n",
            "           0       0.57      0.56      0.56      1917\n",
            "           1       0.56      0.57      0.57      1916\n",
            "\n",
            "    accuracy                           0.56      3833\n",
            "   macro avg       0.56      0.56      0.56      3833\n",
            "weighted avg       0.56      0.56      0.56      3833\n",
            "\n",
            "Total TPs: 1064 FNs: 853 FPs: 816 TNs: 1100\n",
            "Rates TP: 0.555 FN: 0.445 FP: 0.426 TN: 0.574\n",
            "roc auc score: 0.574\n"
          ]
        },
        {
          "name": "stderr",
          "output_type": "stream",
          "text": [
            "/usr/local/lib/python3.7/dist-packages/sklearn/linear_model/_logistic.py:818: ConvergenceWarning: lbfgs failed to converge (status=1):\n",
            "STOP: TOTAL NO. of ITERATIONS REACHED LIMIT.\n",
            "\n",
            "Increase the number of iterations (max_iter) or scale the data as shown in:\n",
            "    https://scikit-learn.org/stable/modules/preprocessing.html\n",
            "Please also refer to the documentation for alternative solver options:\n",
            "    https://scikit-learn.org/stable/modules/linear_model.html#logistic-regression\n",
            "  extra_warning_msg=_LOGISTIC_SOLVER_CONVERGENCE_MSG,\n"
          ]
        }
      ],
      "source": [
        "rf = training(train_df, y_train, classifier=\"Logistic Regression\")\n",
        "testing(test_df, y_test, rf)"
      ]
    },
    {
      "cell_type": "code",
      "execution_count": null,
      "metadata": {
        "colab": {
          "base_uri": "https://localhost:8080/"
        },
        "id": "Ew6sAj98QAwP",
        "outputId": "6456b5f9-b37d-4bc2-863d-3aec9c757252"
      },
      "outputs": [
        {
          "name": "stdout",
          "output_type": "stream",
          "text": [
            "Decision Tree\n",
            "Training time = 0.26s\n",
            "Testing time = 0.0s\n",
            "              precision    recall  f1-score   support\n",
            "\n",
            "           0       0.68      0.25      0.37      1917\n",
            "           1       0.54      0.88      0.67      1916\n",
            "\n",
            "    accuracy                           0.57      3833\n",
            "   macro avg       0.61      0.57      0.52      3833\n",
            "weighted avg       0.61      0.57      0.52      3833\n",
            "\n",
            "Total TPs: 482 FNs: 1435 FPs: 222 TNs: 1694\n",
            "Rates TP: 0.251 FN: 0.749 FP: 0.116 TN: 0.884\n",
            "roc auc score: 0.58\n"
          ]
        }
      ],
      "source": [
        "rf = training(train_df, y_train, classifier=\"Decision Tree\")\n",
        "testing(test_df, y_test, rf)"
      ]
    },
    {
      "cell_type": "code",
      "execution_count": null,
      "metadata": {
        "colab": {
          "base_uri": "https://localhost:8080/"
        },
        "id": "I5moOIwNQA0l",
        "outputId": "34bc869f-b712-4891-ebaf-539177624c19"
      },
      "outputs": [
        {
          "name": "stdout",
          "output_type": "stream",
          "text": [
            "Naive Bayes\n",
            "Training time = 0.03s\n",
            "Testing time = 0.01s\n",
            "              precision    recall  f1-score   support\n",
            "\n",
            "           0       0.50      0.98      0.66      1917\n",
            "           1       0.53      0.02      0.04      1916\n",
            "\n",
            "    accuracy                           0.50      3833\n",
            "   macro avg       0.52      0.50      0.35      3833\n",
            "weighted avg       0.52      0.50      0.35      3833\n",
            "\n",
            "Total TPs: 1879 FNs: 38 FPs: 1873 TNs: 43\n",
            "Rates TP: 0.98 FN: 0.02 FP: 0.978 TN: 0.022\n",
            "roc auc score: 0.543\n"
          ]
        }
      ],
      "source": [
        "rf = training(train_df, y_train, classifier=\"Naive Bayes\")\n",
        "testing(test_df, y_test, rf)"
      ]
    },
    {
      "cell_type": "code",
      "execution_count": null,
      "metadata": {
        "colab": {
          "base_uri": "https://localhost:8080/"
        },
        "id": "NKx5P0T0QA2g",
        "outputId": "32722689-8d69-4a78-b93e-f26530e984c1"
      },
      "outputs": [
        {
          "name": "stdout",
          "output_type": "stream",
          "text": [
            "SVM\n",
            "Training time = 99.71s\n",
            "Testing time = 0.95s\n",
            "              precision    recall  f1-score   support\n",
            "\n",
            "           0       0.57      0.54      0.55      1917\n",
            "           1       0.56      0.59      0.58      1916\n",
            "\n",
            "    accuracy                           0.57      3833\n",
            "   macro avg       0.57      0.57      0.56      3833\n",
            "weighted avg       0.57      0.57      0.56      3833\n",
            "\n",
            "Total TPs: 1033 FNs: 884 FPs: 783 TNs: 1133\n",
            "Rates TP: 0.539 FN: 0.461 FP: 0.409 TN: 0.591\n",
            "roc auc skipped\n"
          ]
        }
      ],
      "source": [
        "rf = training(train_df, y_train, classifier=\"SVM\")\n",
        "testing(test_df, y_test, rf)"
      ]
    },
    {
      "cell_type": "code",
      "execution_count": null,
      "metadata": {
        "colab": {
          "background_save": true,
          "base_uri": "https://localhost:8080/"
        },
        "id": "IgWdun8eQA6T",
        "outputId": "6b69ae7f-3b14-417d-c38c-0f9b7886aeab"
      },
      "outputs": [
        {
          "name": "stdout",
          "output_type": "stream",
          "text": [
            "Adaboost\n"
          ]
        },
        {
          "data": {
            "image/png": "[encoded data removed]",
            "text/plain": [
              "<Figure size 432x288 with 1 Axes>"
            ]
          },
          "metadata": {},
          "output_type": "display_data"
        },
        {
          "name": "stdout",
          "output_type": "stream",
          "text": [
            "Training time = 7.69s\n",
            "Testing time = 0.11s\n",
            "              precision    recall  f1-score   support\n",
            "\n",
            "           0       0.89      0.87      0.88      1917\n",
            "           1       0.88      0.89      0.88      1916\n",
            "\n",
            "    accuracy                           0.88      3833\n",
            "   macro avg       0.88      0.88      0.88      3833\n",
            "weighted avg       0.88      0.88      0.88      3833\n",
            "\n",
            "Total TPs: 1675 FNs: 242 FPs: 209 TNs: 1707\n",
            "Rates TP: 0.874 FN: 0.126 FP: 0.109 TN: 0.891\n",
            "roc auc score: 0.956\n"
          ]
        }
      ],
      "source": [
        "rf = training(train_df, y_train, classifier=\"Adaboost\")\n",
        "testing(test_df, y_test, rf)"
      ]
    },
    {
      "cell_type": "code",
      "execution_count": null,
      "metadata": {
        "colab": {
          "background_save": true
        },
        "id": "nL14MEQAQA8S",
        "outputId": "27289572-42cf-4e6a-d732-16a7017d63e8"
      },
      "outputs": [
        {
          "name": "stdout",
          "output_type": "stream",
          "text": [
            "Gradient Boosting\n",
            "Training time = 15.09s\n",
            "Testing time = 0.01s\n",
            "              precision    recall  f1-score   support\n",
            "\n",
            "           0       0.69      0.60      0.64      1917\n",
            "           1       0.64      0.73      0.68      1916\n",
            "\n",
            "    accuracy                           0.66      3833\n",
            "   macro avg       0.67      0.66      0.66      3833\n",
            "weighted avg       0.67      0.66      0.66      3833\n",
            "\n",
            "Total TPs: 1149 FNs: 768 FPs: 526 TNs: 1390\n",
            "Rates TP: 0.599 FN: 0.401 FP: 0.275 TN: 0.725\n",
            "roc auc score: 0.727\n"
          ]
        }
      ],
      "source": [
        "rf = training(train_df, y_train, classifier=\"Gradient Boosting\")\n",
        "testing(test_df, y_test, rf)"
      ]
    },
    {
      "cell_type": "code",
      "execution_count": null,
      "metadata": {
        "colab": {
          "background_save": true,
          "base_uri": "https://localhost:8080/"
        },
        "id": "VUSsnd-bQBBD",
        "outputId": "b8246040-730d-447a-b0e8-feef6cf7ae6a"
      },
      "outputs": [
        {
          "name": "stdout",
          "output_type": "stream",
          "text": [
            "Bagging\n",
            "Training time = 83.88s\n",
            "Testing time = 31.27s\n",
            "              precision    recall  f1-score   support\n",
            "\n",
            "           0       0.50      0.99      0.67      1917\n",
            "           1       0.58      0.01      0.03      1916\n",
            "\n",
            "    accuracy                           0.50      3833\n",
            "   macro avg       0.54      0.50      0.35      3833\n",
            "weighted avg       0.54      0.50      0.35      3833\n",
            "\n",
            "Total TPs: 1898 FNs: 19 FPs: 1890 TNs: 26\n",
            "Rates TP: 0.99 FN: 0.01 FP: 0.986 TN: 0.014\n",
            "roc auc score: 0.5\n"
          ]
        }
      ],
      "source": [
        "rf = training(train_df, y_train, classifier=\"Bagging\")\n",
        "testing(test_df, y_test, rf)"
      ]
    },
    {
      "cell_type": "code",
      "execution_count": null,
      "metadata": {
        "id": "r7QJePLRQBEW"
      },
      "outputs": [],
      "source": []
    },
    {
      "cell_type": "markdown",
      "source": [
        "# OVERSAMPLING"
      ],
      "metadata": {
        "id": "mM3H_1-EgPaj"
      }
    },
    {
      "cell_type": "code",
      "execution_count": null,
      "metadata": {
        "id": "w1eYuNVinrLE"
      },
      "outputs": [],
      "source": []
    },
    {
      "cell_type": "code",
      "execution_count": null,
      "metadata": {
        "colab": {
          "base_uri": "https://localhost:8080/"
        },
        "id": "qKw16permXkB",
        "outputId": "44125653-e26e-4b62-de9d-6cbbc4531366"
      },
      "outputs": [
        {
          "name": "stdout",
          "output_type": "stream",
          "text": [
            "Random over-sampling:\n",
            "0    22714\n",
            "1    22714\n",
            "Name: marker, dtype: int64\n"
          ]
        }
      ],
      "source": [
        "# Oversample 1-class and concat the DataFrames of both classes\n",
        "df_class_1_over = df_class_1.sample(count_class_0, replace=True)\n",
        "df_test_over = pd.concat([df_class_0, df_class_1_over], axis=0)\n",
        "\n",
        "print('Random over-sampling:')\n",
        "print(df_test_over.marker.value_counts())"
      ]
    },
    {
      "cell_type": "code",
      "execution_count": null,
      "metadata": {
        "id": "ps6h4N-sn48g"
      },
      "outputs": [],
      "source": [
        "X = df_test_over.drop('marker',axis='columns')\n",
        "y = df_test_over['marker']\n",
        "\n",
        "from sklearn.model_selection import train_test_split\n",
        "X_train, X_test, y_train, y_test = train_test_split(X, y, test_size=0.2, random_state=15, stratify=y)"
      ]
    },
    {
      "cell_type": "code",
      "execution_count": null,
      "metadata": {
        "id": "SAWyXVW-oBl3"
      },
      "outputs": [],
      "source": [
        "train_df, test_df, fs = select_features(X_train,y_train,X_test, f_classif, 50)\n",
        "train_df=pd.DataFrame(train_df)\n",
        "test_df=pd.DataFrame(test_df)"
      ]
    },
    {
      "cell_type": "code",
      "execution_count": null,
      "metadata": {
        "colab": {
          "base_uri": "https://localhost:8080/",
          "height": 557
        },
        "id": "svl_9TRFoMfN",
        "outputId": "189792eb-6336-4769-ce9c-e310351a14e8"
      },
      "outputs": [
        {
          "name": "stdout",
          "output_type": "stream",
          "text": [
            "Random Forest\n"
          ]
        },
        {
          "data": {
            "image/png": "[encoded data removed]",
            "text/plain": [
              "<Figure size 432x288 with 1 Axes>"
            ]
          },
          "metadata": {},
          "output_type": "display_data"
        },
        {
          "name": "stdout",
          "output_type": "stream",
          "text": [
            "Training time = 19.35s\n",
            "Testing time = 0.23s\n",
            "              precision    recall  f1-score   support\n",
            "\n",
            "           0       0.98      0.97      0.97      4543\n",
            "           1       0.97      0.98      0.97      4543\n",
            "\n",
            "    accuracy                           0.97      9086\n",
            "   macro avg       0.97      0.97      0.97      9086\n",
            "weighted avg       0.97      0.97      0.97      9086\n",
            "\n",
            "Total TPs: 4388 FNs: 155 FPs: 81 TNs: 4462\n",
            "Rates TP: 0.966 FN: 0.034 FP: 0.018 TN: 0.982\n",
            "roc auc score: 0.997\n"
          ]
        }
      ],
      "source": [
        "rf = training(train_df, y_train, classifier=\"Random Forest\")\n",
        "testing(test_df, y_test, rf)"
      ]
    },
    {
      "cell_type": "code",
      "execution_count": null,
      "metadata": {
        "colab": {
          "base_uri": "https://localhost:8080/"
        },
        "id": "AcrPa5mZoW4P",
        "outputId": "06582690-7153-4e1c-bc4f-820f4087c6a7"
      },
      "outputs": [
        {
          "name": "stdout",
          "output_type": "stream",
          "text": [
            "KNN\n",
            "Training time = 0.01s\n",
            "Testing time = 7.27s\n",
            "              precision    recall  f1-score   support\n",
            "\n",
            "           0       0.87      0.78      0.82      4543\n",
            "           1       0.80      0.88      0.84      4543\n",
            "\n",
            "    accuracy                           0.83      9086\n",
            "   macro avg       0.84      0.83      0.83      9086\n",
            "weighted avg       0.84      0.83      0.83      9086\n",
            "\n",
            "Total TPs: 3552 FNs: 991 FPs: 536 TNs: 4007\n",
            "Rates TP: 0.782 FN: 0.218 FP: 0.118 TN: 0.882\n",
            "roc auc score: 0.923\n"
          ]
        }
      ],
      "source": [
        "rf = training(train_df, y_train, classifier=\"KNN\")\n",
        "testing(test_df, y_test, rf)"
      ]
    },
    {
      "cell_type": "code",
      "execution_count": null,
      "metadata": {
        "id": "cacHk52JpNKi"
      },
      "outputs": [],
      "source": []
    },
    {
      "cell_type": "markdown",
      "source": [
        "# SMOTE"
      ],
      "metadata": {
        "id": "QGcUS2SdgcDF"
      }
    },
    {
      "cell_type": "code",
      "execution_count": null,
      "metadata": {
        "id": "Xsu-NfojohM-"
      },
      "outputs": [],
      "source": [
        "X = df.drop('marker',axis='columns')\n",
        "y = df['marker']"
      ]
    },
    {
      "cell_type": "code",
      "execution_count": null,
      "metadata": {
        "colab": {
          "base_uri": "https://localhost:8080/"
        },
        "id": "nveVAwVDooF6",
        "outputId": "61ee5679-d198-45d9-ab15-dd418ee38e3b"
      },
      "outputs": [
        {
          "data": {
            "text/plain": [
              "1    22714\n",
              "0    22714\n",
              "Name: marker, dtype: int64"
            ]
          },
          "execution_count": 31,
          "metadata": {},
          "output_type": "execute_result"
        }
      ],
      "source": [
        "from imblearn.over_sampling import SMOTE\n",
        "\n",
        "smote = SMOTE(sampling_strategy='minority')\n",
        "X_sm, y_sm = smote.fit_resample(X, y)\n",
        "\n",
        "y_sm.value_counts()"
      ]
    },
    {
      "cell_type": "code",
      "execution_count": null,
      "metadata": {
        "id": "M5zDzZCLoq1q"
      },
      "outputs": [],
      "source": [
        "from sklearn.model_selection import train_test_split\n",
        "X_train, X_test, y_train, y_test = train_test_split(X_sm, y_sm, test_size=0.2, random_state=15, stratify=y_sm)"
      ]
    },
    {
      "cell_type": "code",
      "execution_count": null,
      "metadata": {
        "id": "RMlWMJN3o1ie"
      },
      "outputs": [],
      "source": [
        "train_df, test_df, fs = select_features(X_train,y_train,X_test, f_classif, 50)\n",
        "train_df=pd.DataFrame(train_df)\n",
        "test_df=pd.DataFrame(test_df)"
      ]
    },
    {
      "cell_type": "code",
      "execution_count": null,
      "metadata": {
        "colab": {
          "base_uri": "https://localhost:8080/",
          "height": 557
        },
        "id": "QT9eVRdKo4YG",
        "outputId": "927c4c65-bf62-4189-bb94-b66f61072b88"
      },
      "outputs": [
        {
          "name": "stdout",
          "output_type": "stream",
          "text": [
            "Random Forest\n"
          ]
        },
        {
          "data": {
            "image/png": "[encoded data removed]",
            "text/plain": [
              "<Figure size 432x288 with 1 Axes>"
            ]
          },
          "metadata": {},
          "output_type": "display_data"
        },
        {
          "name": "stdout",
          "output_type": "stream",
          "text": [
            "Training time = 21.4s\n",
            "Testing time = 0.23s\n",
            "              precision    recall  f1-score   support\n",
            "\n",
            "           0       0.93      0.94      0.94      4543\n",
            "           1       0.94      0.93      0.94      4543\n",
            "\n",
            "    accuracy                           0.94      9086\n",
            "   macro avg       0.94      0.94      0.94      9086\n",
            "weighted avg       0.94      0.94      0.94      9086\n",
            "\n",
            "Total TPs: 4269 FNs: 274 FPs: 299 TNs: 4244\n",
            "Rates TP: 0.94 FN: 0.06 FP: 0.066 TN: 0.934\n",
            "roc auc score: 0.985\n"
          ]
        }
      ],
      "source": [
        "rf = training(train_df, y_train, classifier=\"Random Forest\")\n",
        "testing(test_df, y_test, rf)"
      ]
    },
    {
      "cell_type": "code",
      "execution_count": null,
      "metadata": {
        "colab": {
          "base_uri": "https://localhost:8080/"
        },
        "id": "uxOYdz4To7kh",
        "outputId": "73e5f981-0ddd-478f-94c7-5984fe52dfac"
      },
      "outputs": [
        {
          "name": "stdout",
          "output_type": "stream",
          "text": [
            "KNN\n",
            "Training time = 0.01s\n",
            "Testing time = 7.34s\n",
            "              precision    recall  f1-score   support\n",
            "\n",
            "           0       0.87      0.79      0.83      4543\n",
            "           1       0.81      0.89      0.84      4543\n",
            "\n",
            "    accuracy                           0.84      9086\n",
            "   macro avg       0.84      0.84      0.84      9086\n",
            "weighted avg       0.84      0.84      0.84      9086\n",
            "\n",
            "Total TPs: 3571 FNs: 972 FPs: 522 TNs: 4021\n",
            "Rates TP: 0.786 FN: 0.214 FP: 0.115 TN: 0.885\n",
            "roc auc score: 0.927\n"
          ]
        }
      ],
      "source": [
        "rf = training(train_df, y_train, classifier=\"KNN\")\n",
        "testing(test_df, y_test, rf)"
      ]
    },
    {
      "cell_type": "code",
      "source": [],
      "metadata": {
        "id": "4d4OzufNjnKO"
      },
      "execution_count": null,
      "outputs": []
    },
    {
      "cell_type": "code",
      "execution_count": null,
      "metadata": {
        "colab": {
          "base_uri": "https://localhost:8080/"
        },
        "id": "A70lZ1GdpLVT",
        "outputId": "57b124ab-54a3-4484-de2c-38e61248a120"
      },
      "outputs": [
        {
          "data": {
            "text/plain": [
              "0    22714\n",
              "1     9582\n",
              "Name: marker, dtype: int64"
            ]
          },
          "execution_count": 36,
          "metadata": {},
          "output_type": "execute_result"
        }
      ],
      "source": [
        "df.marker.value_counts()"
      ]
    },
    {
      "cell_type": "code",
      "execution_count": null,
      "metadata": {
        "id": "W3PY-q2ZpPlA"
      },
      "outputs": [],
      "source": [
        "# Regain Original features and labels\n",
        "X = df.drop('marker',axis='columns')\n",
        "y = df['marker']"
      ]
    },
    {
      "cell_type": "code",
      "execution_count": null,
      "metadata": {
        "id": "0NPkWkkCpT3R"
      },
      "outputs": [],
      "source": [
        "from sklearn.model_selection import train_test_split\n",
        "X_train, X_test, y_train, y_test = train_test_split(X, y, test_size=0.2, random_state=15, stratify=y)"
      ]
    },
    {
      "cell_type": "code",
      "execution_count": null,
      "metadata": {
        "colab": {
          "base_uri": "https://localhost:8080/"
        },
        "id": "r3ItuDWVpWY4",
        "outputId": "897829f3-2d1f-436f-8813-2a7cd2b9f52d"
      },
      "outputs": [
        {
          "data": {
            "text/plain": [
              "0    18171\n",
              "1     7665\n",
              "Name: marker, dtype: int64"
            ]
          },
          "execution_count": 39,
          "metadata": {},
          "output_type": "execute_result"
        }
      ],
      "source": [
        "y_train.value_counts()"
      ]
    },
    {
      "cell_type": "code",
      "execution_count": null,
      "metadata": {
        "id": "mWIr3kxopleU"
      },
      "outputs": [],
      "source": [
        "df1 = X_train.copy()\n",
        "df1['marker'] = y_train"
      ]
    },
    {
      "cell_type": "code",
      "execution_count": null,
      "metadata": {
        "id": "ZZR1pRjKpvQA"
      },
      "outputs": [],
      "source": [
        "df1 = df1[df1.marker==0]\n",
        "df1_class1 = df1[df1.marker==1]"
      ]
    },
    {
      "cell_type": "code",
      "execution_count": null,
      "metadata": {
        "id": "MntezwBwp57v"
      },
      "outputs": [],
      "source": [
        "def get_train_batch(df_majority, df_minority, start, end):\n",
        "    df_train = pd.concat([df_majority[start:end], df_minority], axis=0)\n",
        "\n",
        "    X_train = df_train.drop('marker', axis='columns')\n",
        "    y_train = df_train.Churn\n",
        "    return X_train, y_train    "
      ]
    },
    {
      "cell_type": "code",
      "execution_count": null,
      "metadata": {
        "id": "CII2Fg7wp_vL"
      },
      "outputs": [],
      "source": [
        "X_train, y_train = get_train_batch(df3_class0, df3_class1, 0, 1495)"
      ]
    }
  ],
  "metadata": {
    "accelerator": "GPU",
    "colab": {
      "provenance": []
    },
    "gpuClass": "standard",
    "kernelspec": {
      "display_name": "Python 3",
      "name": "python3"
    },
    "language_info": {
      "name": "python"
    }
  },
  "nbformat": 4,
  "nbformat_minor": 0
}
