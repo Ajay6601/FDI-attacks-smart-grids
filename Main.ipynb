{
 "cells": [
  {
   "cell_type": "code",
   "execution_count": 1,
   "metadata": {
    "collapsed": false,
    "jupyter": {
     "outputs_hidden": false
    },
    "pycharm": {
     "name": "#%%\n"
    }
   },
   "outputs": [],
   "source": [
    "# Main function for the training testing of models"
   ]
  },
  {
   "cell_type": "code",
   "execution_count": 1,
   "metadata": {
    "collapsed": false,
    "jupyter": {
     "outputs_hidden": false
    },
    "pycharm": {
     "name": "#%%\n"
    }
   },
   "outputs": [],
   "source": [
    "from classifier_functions import *"
   ]
  },
  {
   "cell_type": "code",
   "execution_count": 2,
   "metadata": {
    "collapsed": false,
    "jupyter": {
     "outputs_hidden": false
    },
    "pycharm": {
     "name": "#%%\n"
    }
   },
   "outputs": [],
   "source": [
    "DATA_LOC = \"../dataset/Original/data_injection_and_normal_events_dataset.csv\""
   ]
  },
  {
   "cell_type": "code",
   "execution_count": 3,
   "metadata": {
    "collapsed": false,
    "jupyter": {
     "outputs_hidden": false
    },
    "pycharm": {
     "name": "#%%\n"
    }
   },
   "outputs": [
    {
     "data": {
      "text/html": [
       "<div>\n",
       "<style scoped>\n",
       "    .dataframe tbody tr th:only-of-type {\n",
       "        vertical-align: middle;\n",
       "    }\n",
       "\n",
       "    .dataframe tbody tr th {\n",
       "        vertical-align: top;\n",
       "    }\n",
       "\n",
       "    .dataframe thead th {\n",
       "        text-align: right;\n",
       "    }\n",
       "</style>\n",
       "<table border=\"1\" class=\"dataframe\">\n",
       "  <thead>\n",
       "    <tr style=\"text-align: right;\">\n",
       "      <th></th>\n",
       "      <th>R1-PA1:VH</th>\n",
       "      <th>R1-PM1:V</th>\n",
       "      <th>R1-PA2:VH</th>\n",
       "      <th>R1-PM2:V</th>\n",
       "      <th>R1-PA3:VH</th>\n",
       "      <th>R1-PM3:V</th>\n",
       "      <th>R1-PA4:IH</th>\n",
       "      <th>R1-PM4:I</th>\n",
       "      <th>R1-PA5:IH</th>\n",
       "      <th>R1-PM5:I</th>\n",
       "      <th>...</th>\n",
       "      <th>control_panel_log4</th>\n",
       "      <th>relay1_log</th>\n",
       "      <th>relay2_log</th>\n",
       "      <th>relay3_log</th>\n",
       "      <th>relay4_log</th>\n",
       "      <th>snort_log1</th>\n",
       "      <th>snort_log2</th>\n",
       "      <th>snort_log3</th>\n",
       "      <th>snort_log4</th>\n",
       "      <th>marker</th>\n",
       "    </tr>\n",
       "  </thead>\n",
       "  <tbody>\n",
       "    <tr>\n",
       "      <th>0</th>\n",
       "      <td>90.578898</td>\n",
       "      <td>130456.2238</td>\n",
       "      <td>-29.415653</td>\n",
       "      <td>129804.3188</td>\n",
       "      <td>-149.410204</td>\n",
       "      <td>130506.3704</td>\n",
       "      <td>88.986075</td>\n",
       "      <td>471.50825</td>\n",
       "      <td>-33.644082</td>\n",
       "      <td>486.15705</td>\n",
       "      <td>...</td>\n",
       "      <td>0</td>\n",
       "      <td>0</td>\n",
       "      <td>0</td>\n",
       "      <td>0</td>\n",
       "      <td>0</td>\n",
       "      <td>0</td>\n",
       "      <td>0</td>\n",
       "      <td>0</td>\n",
       "      <td>0</td>\n",
       "      <td>1</td>\n",
       "    </tr>\n",
       "    <tr>\n",
       "      <th>1</th>\n",
       "      <td>90.573168</td>\n",
       "      <td>130506.3704</td>\n",
       "      <td>-29.421383</td>\n",
       "      <td>129854.4653</td>\n",
       "      <td>-149.410204</td>\n",
       "      <td>130556.5169</td>\n",
       "      <td>88.951698</td>\n",
       "      <td>471.50825</td>\n",
       "      <td>-33.644082</td>\n",
       "      <td>485.79083</td>\n",
       "      <td>...</td>\n",
       "      <td>0</td>\n",
       "      <td>0</td>\n",
       "      <td>0</td>\n",
       "      <td>0</td>\n",
       "      <td>0</td>\n",
       "      <td>0</td>\n",
       "      <td>0</td>\n",
       "      <td>0</td>\n",
       "      <td>0</td>\n",
       "      <td>1</td>\n",
       "    </tr>\n",
       "    <tr>\n",
       "      <th>2</th>\n",
       "      <td>90.504413</td>\n",
       "      <td>130807.2496</td>\n",
       "      <td>-29.472949</td>\n",
       "      <td>130180.4178</td>\n",
       "      <td>-149.467500</td>\n",
       "      <td>130857.3961</td>\n",
       "      <td>88.367281</td>\n",
       "      <td>473.70557</td>\n",
       "      <td>-33.781592</td>\n",
       "      <td>484.69217</td>\n",
       "      <td>...</td>\n",
       "      <td>0</td>\n",
       "      <td>0</td>\n",
       "      <td>0</td>\n",
       "      <td>0</td>\n",
       "      <td>0</td>\n",
       "      <td>0</td>\n",
       "      <td>0</td>\n",
       "      <td>0</td>\n",
       "      <td>0</td>\n",
       "      <td>1</td>\n",
       "    </tr>\n",
       "    <tr>\n",
       "      <th>3</th>\n",
       "      <td>90.429929</td>\n",
       "      <td>130932.6159</td>\n",
       "      <td>-29.553163</td>\n",
       "      <td>130330.8575</td>\n",
       "      <td>-149.536255</td>\n",
       "      <td>131007.8358</td>\n",
       "      <td>87.782864</td>\n",
       "      <td>476.26911</td>\n",
       "      <td>-33.970668</td>\n",
       "      <td>485.05839</td>\n",
       "      <td>...</td>\n",
       "      <td>0</td>\n",
       "      <td>0</td>\n",
       "      <td>0</td>\n",
       "      <td>0</td>\n",
       "      <td>0</td>\n",
       "      <td>0</td>\n",
       "      <td>0</td>\n",
       "      <td>0</td>\n",
       "      <td>0</td>\n",
       "      <td>1</td>\n",
       "    </tr>\n",
       "    <tr>\n",
       "      <th>4</th>\n",
       "      <td>90.378363</td>\n",
       "      <td>130982.7625</td>\n",
       "      <td>-29.610459</td>\n",
       "      <td>130355.9307</td>\n",
       "      <td>-149.599280</td>\n",
       "      <td>131057.9823</td>\n",
       "      <td>87.433360</td>\n",
       "      <td>477.73399</td>\n",
       "      <td>-34.068071</td>\n",
       "      <td>485.24150</td>\n",
       "      <td>...</td>\n",
       "      <td>0</td>\n",
       "      <td>0</td>\n",
       "      <td>0</td>\n",
       "      <td>0</td>\n",
       "      <td>0</td>\n",
       "      <td>0</td>\n",
       "      <td>0</td>\n",
       "      <td>0</td>\n",
       "      <td>0</td>\n",
       "      <td>1</td>\n",
       "    </tr>\n",
       "  </tbody>\n",
       "</table>\n",
       "<p>5 rows × 129 columns</p>\n",
       "</div>"
      ],
      "text/plain": [
       "   R1-PA1:VH     R1-PM1:V  R1-PA2:VH     R1-PM2:V   R1-PA3:VH     R1-PM3:V  \\\n",
       "0  90.578898  130456.2238 -29.415653  129804.3188 -149.410204  130506.3704   \n",
       "1  90.573168  130506.3704 -29.421383  129854.4653 -149.410204  130556.5169   \n",
       "2  90.504413  130807.2496 -29.472949  130180.4178 -149.467500  130857.3961   \n",
       "3  90.429929  130932.6159 -29.553163  130330.8575 -149.536255  131007.8358   \n",
       "4  90.378363  130982.7625 -29.610459  130355.9307 -149.599280  131057.9823   \n",
       "\n",
       "   R1-PA4:IH   R1-PM4:I  R1-PA5:IH   R1-PM5:I  ...  control_panel_log4  \\\n",
       "0  88.986075  471.50825 -33.644082  486.15705  ...                   0   \n",
       "1  88.951698  471.50825 -33.644082  485.79083  ...                   0   \n",
       "2  88.367281  473.70557 -33.781592  484.69217  ...                   0   \n",
       "3  87.782864  476.26911 -33.970668  485.05839  ...                   0   \n",
       "4  87.433360  477.73399 -34.068071  485.24150  ...                   0   \n",
       "\n",
       "   relay1_log  relay2_log  relay3_log  relay4_log  snort_log1  snort_log2  \\\n",
       "0           0           0           0           0           0           0   \n",
       "1           0           0           0           0           0           0   \n",
       "2           0           0           0           0           0           0   \n",
       "3           0           0           0           0           0           0   \n",
       "4           0           0           0           0           0           0   \n",
       "\n",
       "   snort_log3  snort_log4  marker  \n",
       "0           0           0       1  \n",
       "1           0           0       1  \n",
       "2           0           0       1  \n",
       "3           0           0       1  \n",
       "4           0           0       1  \n",
       "\n",
       "[5 rows x 129 columns]"
      ]
     },
     "execution_count": 3,
     "metadata": {},
     "output_type": "execute_result"
    }
   ],
   "source": [
    "df = read_dataset(DATA_LOC)\n",
    "df.head()"
   ]
  },
  {
   "cell_type": "code",
   "execution_count": 4,
   "metadata": {
    "collapsed": false,
    "jupyter": {
     "outputs_hidden": false
    },
    "pycharm": {
     "name": "#%%\n"
    }
   },
   "outputs": [
    {
     "data": {
      "text/html": [
       "<div>\n",
       "<style scoped>\n",
       "    .dataframe tbody tr th:only-of-type {\n",
       "        vertical-align: middle;\n",
       "    }\n",
       "\n",
       "    .dataframe tbody tr th {\n",
       "        vertical-align: top;\n",
       "    }\n",
       "\n",
       "    .dataframe thead th {\n",
       "        text-align: right;\n",
       "    }\n",
       "</style>\n",
       "<table border=\"1\" class=\"dataframe\">\n",
       "  <thead>\n",
       "    <tr style=\"text-align: right;\">\n",
       "      <th></th>\n",
       "      <th>R1-PA1:VH</th>\n",
       "      <th>R1-PM1:V</th>\n",
       "      <th>R1-PA2:VH</th>\n",
       "      <th>R1-PM2:V</th>\n",
       "      <th>R1-PA3:VH</th>\n",
       "      <th>R1-PM3:V</th>\n",
       "      <th>R1-PA4:IH</th>\n",
       "      <th>R1-PM4:I</th>\n",
       "      <th>R1-PA5:IH</th>\n",
       "      <th>R1-PM5:I</th>\n",
       "      <th>...</th>\n",
       "      <th>control_panel_log4</th>\n",
       "      <th>relay1_log</th>\n",
       "      <th>relay2_log</th>\n",
       "      <th>relay3_log</th>\n",
       "      <th>relay4_log</th>\n",
       "      <th>snort_log1</th>\n",
       "      <th>snort_log2</th>\n",
       "      <th>snort_log3</th>\n",
       "      <th>snort_log4</th>\n",
       "      <th>marker</th>\n",
       "    </tr>\n",
       "  </thead>\n",
       "  <tbody>\n",
       "    <tr>\n",
       "      <th>0</th>\n",
       "      <td>90.578898</td>\n",
       "      <td>130456.2238</td>\n",
       "      <td>-29.415653</td>\n",
       "      <td>129804.3188</td>\n",
       "      <td>-149.410204</td>\n",
       "      <td>130506.3704</td>\n",
       "      <td>88.986075</td>\n",
       "      <td>471.50825</td>\n",
       "      <td>-33.644082</td>\n",
       "      <td>486.15705</td>\n",
       "      <td>...</td>\n",
       "      <td>0</td>\n",
       "      <td>0</td>\n",
       "      <td>0</td>\n",
       "      <td>0</td>\n",
       "      <td>0</td>\n",
       "      <td>0</td>\n",
       "      <td>0</td>\n",
       "      <td>0</td>\n",
       "      <td>0</td>\n",
       "      <td>1</td>\n",
       "    </tr>\n",
       "    <tr>\n",
       "      <th>1</th>\n",
       "      <td>90.573168</td>\n",
       "      <td>130506.3704</td>\n",
       "      <td>-29.421383</td>\n",
       "      <td>129854.4653</td>\n",
       "      <td>-149.410204</td>\n",
       "      <td>130556.5169</td>\n",
       "      <td>88.951698</td>\n",
       "      <td>471.50825</td>\n",
       "      <td>-33.644082</td>\n",
       "      <td>485.79083</td>\n",
       "      <td>...</td>\n",
       "      <td>0</td>\n",
       "      <td>0</td>\n",
       "      <td>0</td>\n",
       "      <td>0</td>\n",
       "      <td>0</td>\n",
       "      <td>0</td>\n",
       "      <td>0</td>\n",
       "      <td>0</td>\n",
       "      <td>0</td>\n",
       "      <td>1</td>\n",
       "    </tr>\n",
       "    <tr>\n",
       "      <th>2</th>\n",
       "      <td>90.504413</td>\n",
       "      <td>130807.2496</td>\n",
       "      <td>-29.472949</td>\n",
       "      <td>130180.4178</td>\n",
       "      <td>-149.467500</td>\n",
       "      <td>130857.3961</td>\n",
       "      <td>88.367281</td>\n",
       "      <td>473.70557</td>\n",
       "      <td>-33.781592</td>\n",
       "      <td>484.69217</td>\n",
       "      <td>...</td>\n",
       "      <td>0</td>\n",
       "      <td>0</td>\n",
       "      <td>0</td>\n",
       "      <td>0</td>\n",
       "      <td>0</td>\n",
       "      <td>0</td>\n",
       "      <td>0</td>\n",
       "      <td>0</td>\n",
       "      <td>0</td>\n",
       "      <td>1</td>\n",
       "    </tr>\n",
       "    <tr>\n",
       "      <th>3</th>\n",
       "      <td>90.429929</td>\n",
       "      <td>130932.6159</td>\n",
       "      <td>-29.553163</td>\n",
       "      <td>130330.8575</td>\n",
       "      <td>-149.536255</td>\n",
       "      <td>131007.8358</td>\n",
       "      <td>87.782864</td>\n",
       "      <td>476.26911</td>\n",
       "      <td>-33.970668</td>\n",
       "      <td>485.05839</td>\n",
       "      <td>...</td>\n",
       "      <td>0</td>\n",
       "      <td>0</td>\n",
       "      <td>0</td>\n",
       "      <td>0</td>\n",
       "      <td>0</td>\n",
       "      <td>0</td>\n",
       "      <td>0</td>\n",
       "      <td>0</td>\n",
       "      <td>0</td>\n",
       "      <td>1</td>\n",
       "    </tr>\n",
       "    <tr>\n",
       "      <th>4</th>\n",
       "      <td>90.378363</td>\n",
       "      <td>130982.7625</td>\n",
       "      <td>-29.610459</td>\n",
       "      <td>130355.9307</td>\n",
       "      <td>-149.599280</td>\n",
       "      <td>131057.9823</td>\n",
       "      <td>87.433360</td>\n",
       "      <td>477.73399</td>\n",
       "      <td>-34.068071</td>\n",
       "      <td>485.24150</td>\n",
       "      <td>...</td>\n",
       "      <td>0</td>\n",
       "      <td>0</td>\n",
       "      <td>0</td>\n",
       "      <td>0</td>\n",
       "      <td>0</td>\n",
       "      <td>0</td>\n",
       "      <td>0</td>\n",
       "      <td>0</td>\n",
       "      <td>0</td>\n",
       "      <td>1</td>\n",
       "    </tr>\n",
       "  </tbody>\n",
       "</table>\n",
       "<p>5 rows × 129 columns</p>\n",
       "</div>"
      ],
      "text/plain": [
       "   R1-PA1:VH     R1-PM1:V  R1-PA2:VH     R1-PM2:V   R1-PA3:VH     R1-PM3:V  \\\n",
       "0  90.578898  130456.2238 -29.415653  129804.3188 -149.410204  130506.3704   \n",
       "1  90.573168  130506.3704 -29.421383  129854.4653 -149.410204  130556.5169   \n",
       "2  90.504413  130807.2496 -29.472949  130180.4178 -149.467500  130857.3961   \n",
       "3  90.429929  130932.6159 -29.553163  130330.8575 -149.536255  131007.8358   \n",
       "4  90.378363  130982.7625 -29.610459  130355.9307 -149.599280  131057.9823   \n",
       "\n",
       "   R1-PA4:IH   R1-PM4:I  R1-PA5:IH   R1-PM5:I  ...  control_panel_log4  \\\n",
       "0  88.986075  471.50825 -33.644082  486.15705  ...                   0   \n",
       "1  88.951698  471.50825 -33.644082  485.79083  ...                   0   \n",
       "2  88.367281  473.70557 -33.781592  484.69217  ...                   0   \n",
       "3  87.782864  476.26911 -33.970668  485.05839  ...                   0   \n",
       "4  87.433360  477.73399 -34.068071  485.24150  ...                   0   \n",
       "\n",
       "   relay1_log  relay2_log  relay3_log  relay4_log  snort_log1  snort_log2  \\\n",
       "0           0           0           0           0           0           0   \n",
       "1           0           0           0           0           0           0   \n",
       "2           0           0           0           0           0           0   \n",
       "3           0           0           0           0           0           0   \n",
       "4           0           0           0           0           0           0   \n",
       "\n",
       "   snort_log3  snort_log4  marker  \n",
       "0           0           0       1  \n",
       "1           0           0       1  \n",
       "2           0           0       1  \n",
       "3           0           0       1  \n",
       "4           0           0       1  \n",
       "\n",
       "[5 rows x 129 columns]"
      ]
     },
     "execution_count": 4,
     "metadata": {},
     "output_type": "execute_result"
    }
   ],
   "source": [
    "df = dataset_preprocess(df)\n",
    "df.head()\n"
   ]
  },
  {
   "cell_type": "code",
   "execution_count": 7,
   "metadata": {
    "collapsed": false,
    "jupyter": {
     "outputs_hidden": false
    },
    "pycharm": {
     "name": "#%%\n"
    }
   },
   "outputs": [
    {
     "data": {
      "text/plain": [
       "'\\n#Uncomment this block to have MinMaxScaling\\n\\ndf = scaling(df, \"MinMax\")\\n\\n'"
      ]
     },
     "execution_count": 7,
     "metadata": {},
     "output_type": "execute_result"
    }
   ],
   "source": [
    "'''\n",
    "#Uncomment this block to have MinMaxScaling\n",
    "\n",
    "df = scaling(df, \"MinMax\")\n",
    "\n",
    "'''"
   ]
  },
  {
   "cell_type": "code",
   "execution_count": 6,
   "metadata": {},
   "outputs": [
    {
     "name": "stderr",
     "output_type": "stream",
     "text": [
      "\n",
      "KeyboardInterrupt\n",
      "\n"
     ]
    },
    {
     "data": {
      "image/png": "[encoded data removed]",
      "text/plain": [
       "<Figure size 432x288 with 2 Axes>"
      ]
     },
     "metadata": {
      "needs_background": "light"
     },
     "output_type": "display_data"
    }
   ],
   "source": [
    "import seaborn as sns\n",
    "sns.heatmap(df, cmap ='RdYlGn', linewidths = 0.30, annot = True)"
   ]
  },
  {
   "cell_type": "code",
   "execution_count": 8,
   "metadata": {
    "collapsed": false,
    "jupyter": {
     "outputs_hidden": false
    },
    "pycharm": {
     "name": "#%%\n"
    }
   },
   "outputs": [],
   "source": [
    "train_df, test_df = training_testing_split(df, testing_split=0.3)"
   ]
  },
  {
   "cell_type": "code",
   "execution_count": 9,
   "metadata": {
    "collapsed": false,
    "jupyter": {
     "outputs_hidden": false
    },
    "pycharm": {
     "name": "#%%\n"
    }
   },
   "outputs": [
    {
     "data": {
      "text/html": [
       "<div>\n",
       "<style scoped>\n",
       "    .dataframe tbody tr th:only-of-type {\n",
       "        vertical-align: middle;\n",
       "    }\n",
       "\n",
       "    .dataframe tbody tr th {\n",
       "        vertical-align: top;\n",
       "    }\n",
       "\n",
       "    .dataframe thead th {\n",
       "        text-align: right;\n",
       "    }\n",
       "</style>\n",
       "<table border=\"1\" class=\"dataframe\">\n",
       "  <thead>\n",
       "    <tr style=\"text-align: right;\">\n",
       "      <th></th>\n",
       "      <th>R1-PA1:VH</th>\n",
       "      <th>R1-PM1:V</th>\n",
       "      <th>R1-PA2:VH</th>\n",
       "      <th>R1-PM2:V</th>\n",
       "      <th>R1-PA3:VH</th>\n",
       "      <th>R1-PM3:V</th>\n",
       "      <th>R1-PA4:IH</th>\n",
       "      <th>R1-PM4:I</th>\n",
       "      <th>R1-PA5:IH</th>\n",
       "      <th>R1-PM5:I</th>\n",
       "      <th>...</th>\n",
       "      <th>control_panel_log4</th>\n",
       "      <th>relay1_log</th>\n",
       "      <th>relay2_log</th>\n",
       "      <th>relay3_log</th>\n",
       "      <th>relay4_log</th>\n",
       "      <th>snort_log1</th>\n",
       "      <th>snort_log2</th>\n",
       "      <th>snort_log3</th>\n",
       "      <th>snort_log4</th>\n",
       "      <th>marker</th>\n",
       "    </tr>\n",
       "  </thead>\n",
       "  <tbody>\n",
       "    <tr>\n",
       "      <th>23044</th>\n",
       "      <td>-128.033149</td>\n",
       "      <td>130606.6634</td>\n",
       "      <td>111.984601</td>\n",
       "      <td>130581.5902</td>\n",
       "      <td>-7.998491</td>\n",
       "      <td>130681.8832</td>\n",
       "      <td>-127.786777</td>\n",
       "      <td>420.78678</td>\n",
       "      <td>108.758849</td>\n",
       "      <td>440.19644</td>\n",
       "      <td>...</td>\n",
       "      <td>0</td>\n",
       "      <td>0</td>\n",
       "      <td>0</td>\n",
       "      <td>0</td>\n",
       "      <td>0</td>\n",
       "      <td>0</td>\n",
       "      <td>0</td>\n",
       "      <td>0</td>\n",
       "      <td>0</td>\n",
       "      <td>0</td>\n",
       "    </tr>\n",
       "    <tr>\n",
       "      <th>7539</th>\n",
       "      <td>54.482557</td>\n",
       "      <td>130757.1031</td>\n",
       "      <td>-65.494806</td>\n",
       "      <td>130681.8832</td>\n",
       "      <td>174.505756</td>\n",
       "      <td>130807.2496</td>\n",
       "      <td>49.881706</td>\n",
       "      <td>506.66537</td>\n",
       "      <td>-70.095657</td>\n",
       "      <td>506.11604</td>\n",
       "      <td>...</td>\n",
       "      <td>0</td>\n",
       "      <td>0</td>\n",
       "      <td>0</td>\n",
       "      <td>0</td>\n",
       "      <td>0</td>\n",
       "      <td>0</td>\n",
       "      <td>0</td>\n",
       "      <td>0</td>\n",
       "      <td>0</td>\n",
       "      <td>1</td>\n",
       "    </tr>\n",
       "    <tr>\n",
       "      <th>4510</th>\n",
       "      <td>-79.136931</td>\n",
       "      <td>132311.6458</td>\n",
       "      <td>160.875090</td>\n",
       "      <td>131684.8140</td>\n",
       "      <td>40.880539</td>\n",
       "      <td>132386.8656</td>\n",
       "      <td>-78.523866</td>\n",
       "      <td>275.94677</td>\n",
       "      <td>161.511073</td>\n",
       "      <td>276.12988</td>\n",
       "      <td>...</td>\n",
       "      <td>0</td>\n",
       "      <td>0</td>\n",
       "      <td>0</td>\n",
       "      <td>0</td>\n",
       "      <td>0</td>\n",
       "      <td>0</td>\n",
       "      <td>0</td>\n",
       "      <td>0</td>\n",
       "      <td>0</td>\n",
       "      <td>1</td>\n",
       "    </tr>\n",
       "    <tr>\n",
       "      <th>28542</th>\n",
       "      <td>-178.000798</td>\n",
       "      <td>130481.2971</td>\n",
       "      <td>62.016952</td>\n",
       "      <td>129854.4653</td>\n",
       "      <td>-57.989058</td>\n",
       "      <td>130531.4436</td>\n",
       "      <td>-179.885829</td>\n",
       "      <td>475.35356</td>\n",
       "      <td>57.628095</td>\n",
       "      <td>488.90370</td>\n",
       "      <td>...</td>\n",
       "      <td>0</td>\n",
       "      <td>0</td>\n",
       "      <td>0</td>\n",
       "      <td>0</td>\n",
       "      <td>0</td>\n",
       "      <td>0</td>\n",
       "      <td>0</td>\n",
       "      <td>0</td>\n",
       "      <td>0</td>\n",
       "      <td>0</td>\n",
       "    </tr>\n",
       "    <tr>\n",
       "      <th>30249</th>\n",
       "      <td>-124.887611</td>\n",
       "      <td>132211.3527</td>\n",
       "      <td>115.130139</td>\n",
       "      <td>131559.4477</td>\n",
       "      <td>-4.870141</td>\n",
       "      <td>132261.4993</td>\n",
       "      <td>-125.231385</td>\n",
       "      <td>303.41327</td>\n",
       "      <td>114.883768</td>\n",
       "      <td>302.86394</td>\n",
       "      <td>...</td>\n",
       "      <td>0</td>\n",
       "      <td>0</td>\n",
       "      <td>0</td>\n",
       "      <td>0</td>\n",
       "      <td>0</td>\n",
       "      <td>0</td>\n",
       "      <td>0</td>\n",
       "      <td>0</td>\n",
       "      <td>0</td>\n",
       "      <td>0</td>\n",
       "    </tr>\n",
       "  </tbody>\n",
       "</table>\n",
       "<p>5 rows × 129 columns</p>\n",
       "</div>"
      ],
      "text/plain": [
       "        R1-PA1:VH     R1-PM1:V   R1-PA2:VH     R1-PM2:V   R1-PA3:VH  \\\n",
       "23044 -128.033149  130606.6634  111.984601  130581.5902   -7.998491   \n",
       "7539    54.482557  130757.1031  -65.494806  130681.8832  174.505756   \n",
       "4510   -79.136931  132311.6458  160.875090  131684.8140   40.880539   \n",
       "28542 -178.000798  130481.2971   62.016952  129854.4653  -57.989058   \n",
       "30249 -124.887611  132211.3527  115.130139  131559.4477   -4.870141   \n",
       "\n",
       "          R1-PM3:V   R1-PA4:IH   R1-PM4:I   R1-PA5:IH   R1-PM5:I  ...  \\\n",
       "23044  130681.8832 -127.786777  420.78678  108.758849  440.19644  ...   \n",
       "7539   130807.2496   49.881706  506.66537  -70.095657  506.11604  ...   \n",
       "4510   132386.8656  -78.523866  275.94677  161.511073  276.12988  ...   \n",
       "28542  130531.4436 -179.885829  475.35356   57.628095  488.90370  ...   \n",
       "30249  132261.4993 -125.231385  303.41327  114.883768  302.86394  ...   \n",
       "\n",
       "       control_panel_log4  relay1_log  relay2_log  relay3_log  relay4_log  \\\n",
       "23044                   0           0           0           0           0   \n",
       "7539                    0           0           0           0           0   \n",
       "4510                    0           0           0           0           0   \n",
       "28542                   0           0           0           0           0   \n",
       "30249                   0           0           0           0           0   \n",
       "\n",
       "       snort_log1  snort_log2  snort_log3  snort_log4  marker  \n",
       "23044           0           0           0           0       0  \n",
       "7539            0           0           0           0       1  \n",
       "4510            0           0           0           0       1  \n",
       "28542           0           0           0           0       0  \n",
       "30249           0           0           0           0       0  \n",
       "\n",
       "[5 rows x 129 columns]"
      ]
     },
     "execution_count": 9,
     "metadata": {},
     "output_type": "execute_result"
    }
   ],
   "source": [
    "train_df.head()"
   ]
  },
  {
   "cell_type": "code",
   "execution_count": 10,
   "metadata": {
    "collapsed": false,
    "jupyter": {
     "outputs_hidden": false
    },
    "pycharm": {
     "name": "#%%\n"
    }
   },
   "outputs": [
    {
     "data": {
      "text/html": [
       "<div>\n",
       "<style scoped>\n",
       "    .dataframe tbody tr th:only-of-type {\n",
       "        vertical-align: middle;\n",
       "    }\n",
       "\n",
       "    .dataframe tbody tr th {\n",
       "        vertical-align: top;\n",
       "    }\n",
       "\n",
       "    .dataframe thead th {\n",
       "        text-align: right;\n",
       "    }\n",
       "</style>\n",
       "<table border=\"1\" class=\"dataframe\">\n",
       "  <thead>\n",
       "    <tr style=\"text-align: right;\">\n",
       "      <th></th>\n",
       "      <th>R1-PA1:VH</th>\n",
       "      <th>R1-PM1:V</th>\n",
       "      <th>R1-PA2:VH</th>\n",
       "      <th>R1-PM2:V</th>\n",
       "      <th>R1-PA3:VH</th>\n",
       "      <th>R1-PM3:V</th>\n",
       "      <th>R1-PA4:IH</th>\n",
       "      <th>R1-PM4:I</th>\n",
       "      <th>R1-PA5:IH</th>\n",
       "      <th>R1-PM5:I</th>\n",
       "      <th>...</th>\n",
       "      <th>control_panel_log4</th>\n",
       "      <th>relay1_log</th>\n",
       "      <th>relay2_log</th>\n",
       "      <th>relay3_log</th>\n",
       "      <th>relay4_log</th>\n",
       "      <th>snort_log1</th>\n",
       "      <th>snort_log2</th>\n",
       "      <th>snort_log3</th>\n",
       "      <th>snort_log4</th>\n",
       "      <th>marker</th>\n",
       "    </tr>\n",
       "  </thead>\n",
       "  <tbody>\n",
       "    <tr>\n",
       "      <th>9558</th>\n",
       "      <td>66.835527</td>\n",
       "      <td>132060.9131</td>\n",
       "      <td>-53.130376</td>\n",
       "      <td>132035.8398</td>\n",
       "      <td>-173.136387</td>\n",
       "      <td>132136.1329</td>\n",
       "      <td>68.760665</td>\n",
       "      <td>262.94596</td>\n",
       "      <td>-47.177345</td>\n",
       "      <td>253.79046</td>\n",
       "      <td>...</td>\n",
       "      <td>0</td>\n",
       "      <td>0</td>\n",
       "      <td>0</td>\n",
       "      <td>0</td>\n",
       "      <td>0</td>\n",
       "      <td>0</td>\n",
       "      <td>0</td>\n",
       "      <td>0</td>\n",
       "      <td>0</td>\n",
       "      <td>1</td>\n",
       "    </tr>\n",
       "    <tr>\n",
       "      <th>24504</th>\n",
       "      <td>-157.534746</td>\n",
       "      <td>130857.3961</td>\n",
       "      <td>82.477275</td>\n",
       "      <td>130205.4911</td>\n",
       "      <td>-37.511547</td>\n",
       "      <td>130907.5427</td>\n",
       "      <td>-160.433912</td>\n",
       "      <td>486.52327</td>\n",
       "      <td>77.801939</td>\n",
       "      <td>494.94633</td>\n",
       "      <td>...</td>\n",
       "      <td>0</td>\n",
       "      <td>0</td>\n",
       "      <td>0</td>\n",
       "      <td>0</td>\n",
       "      <td>0</td>\n",
       "      <td>0</td>\n",
       "      <td>0</td>\n",
       "      <td>0</td>\n",
       "      <td>0</td>\n",
       "      <td>0</td>\n",
       "    </tr>\n",
       "    <tr>\n",
       "      <th>5781</th>\n",
       "      <td>-111.961683</td>\n",
       "      <td>131183.3486</td>\n",
       "      <td>128.044608</td>\n",
       "      <td>130531.4436</td>\n",
       "      <td>8.061516</td>\n",
       "      <td>131233.4952</td>\n",
       "      <td>-116.276055</td>\n",
       "      <td>464.00074</td>\n",
       "      <td>124.457892</td>\n",
       "      <td>461.43720</td>\n",
       "      <td>...</td>\n",
       "      <td>0</td>\n",
       "      <td>0</td>\n",
       "      <td>0</td>\n",
       "      <td>0</td>\n",
       "      <td>0</td>\n",
       "      <td>0</td>\n",
       "      <td>0</td>\n",
       "      <td>0</td>\n",
       "      <td>0</td>\n",
       "      <td>1</td>\n",
       "    </tr>\n",
       "    <tr>\n",
       "      <th>12777</th>\n",
       "      <td>-25.697157</td>\n",
       "      <td>131158.2754</td>\n",
       "      <td>-145.697438</td>\n",
       "      <td>130531.4436</td>\n",
       "      <td>94.326042</td>\n",
       "      <td>131208.4219</td>\n",
       "      <td>-29.971422</td>\n",
       "      <td>467.66294</td>\n",
       "      <td>-150.011810</td>\n",
       "      <td>468.21227</td>\n",
       "      <td>...</td>\n",
       "      <td>0</td>\n",
       "      <td>0</td>\n",
       "      <td>0</td>\n",
       "      <td>0</td>\n",
       "      <td>0</td>\n",
       "      <td>0</td>\n",
       "      <td>0</td>\n",
       "      <td>0</td>\n",
       "      <td>0</td>\n",
       "      <td>0</td>\n",
       "    </tr>\n",
       "    <tr>\n",
       "      <th>5916</th>\n",
       "      <td>-112.889874</td>\n",
       "      <td>132211.3527</td>\n",
       "      <td>127.139335</td>\n",
       "      <td>132161.2062</td>\n",
       "      <td>7.133325</td>\n",
       "      <td>132261.4993</td>\n",
       "      <td>-108.248916</td>\n",
       "      <td>271.55213</td>\n",
       "      <td>128.302439</td>\n",
       "      <td>283.08806</td>\n",
       "      <td>...</td>\n",
       "      <td>0</td>\n",
       "      <td>0</td>\n",
       "      <td>0</td>\n",
       "      <td>0</td>\n",
       "      <td>0</td>\n",
       "      <td>0</td>\n",
       "      <td>0</td>\n",
       "      <td>0</td>\n",
       "      <td>0</td>\n",
       "      <td>1</td>\n",
       "    </tr>\n",
       "  </tbody>\n",
       "</table>\n",
       "<p>5 rows × 129 columns</p>\n",
       "</div>"
      ],
      "text/plain": [
       "        R1-PA1:VH     R1-PM1:V   R1-PA2:VH     R1-PM2:V   R1-PA3:VH  \\\n",
       "9558    66.835527  132060.9131  -53.130376  132035.8398 -173.136387   \n",
       "24504 -157.534746  130857.3961   82.477275  130205.4911  -37.511547   \n",
       "5781  -111.961683  131183.3486  128.044608  130531.4436    8.061516   \n",
       "12777  -25.697157  131158.2754 -145.697438  130531.4436   94.326042   \n",
       "5916  -112.889874  132211.3527  127.139335  132161.2062    7.133325   \n",
       "\n",
       "          R1-PM3:V   R1-PA4:IH   R1-PM4:I   R1-PA5:IH   R1-PM5:I  ...  \\\n",
       "9558   132136.1329   68.760665  262.94596  -47.177345  253.79046  ...   \n",
       "24504  130907.5427 -160.433912  486.52327   77.801939  494.94633  ...   \n",
       "5781   131233.4952 -116.276055  464.00074  124.457892  461.43720  ...   \n",
       "12777  131208.4219  -29.971422  467.66294 -150.011810  468.21227  ...   \n",
       "5916   132261.4993 -108.248916  271.55213  128.302439  283.08806  ...   \n",
       "\n",
       "       control_panel_log4  relay1_log  relay2_log  relay3_log  relay4_log  \\\n",
       "9558                    0           0           0           0           0   \n",
       "24504                   0           0           0           0           0   \n",
       "5781                    0           0           0           0           0   \n",
       "12777                   0           0           0           0           0   \n",
       "5916                    0           0           0           0           0   \n",
       "\n",
       "       snort_log1  snort_log2  snort_log3  snort_log4  marker  \n",
       "9558            0           0           0           0       1  \n",
       "24504           0           0           0           0       0  \n",
       "5781            0           0           0           0       1  \n",
       "12777           0           0           0           0       0  \n",
       "5916            0           0           0           0       1  \n",
       "\n",
       "[5 rows x 129 columns]"
      ]
     },
     "execution_count": 10,
     "metadata": {},
     "output_type": "execute_result"
    }
   ],
   "source": [
    "test_df.head()"
   ]
  },
  {
   "cell_type": "code",
   "execution_count": 11,
   "metadata": {
    "collapsed": false,
    "jupyter": {
     "outputs_hidden": false
    },
    "pycharm": {
     "name": "#%%\n"
    }
   },
   "outputs": [
    {
     "name": "stderr",
     "output_type": "stream",
     "text": [
      "C:\\Users\\ajayr\\Anaconda3\\lib\\site-packages\\pandas\\core\\frame.py:4308: SettingWithCopyWarning: \n",
      "A value is trying to be set on a copy of a slice from a DataFrame\n",
      "\n",
      "See the caveats in the documentation: https://pandas.pydata.org/pandas-docs/stable/user_guide/indexing.html#returning-a-view-versus-a-copy\n",
      "  return super().drop(\n"
     ]
    }
   ],
   "source": [
    "train_df, label_train_df = data_label_split(train_df)"
   ]
  },
  {
   "cell_type": "code",
   "execution_count": 12,
   "metadata": {
    "collapsed": false,
    "jupyter": {
     "outputs_hidden": false
    },
    "pycharm": {
     "name": "#%%\n"
    }
   },
   "outputs": [
    {
     "data": {
      "text/html": [
       "<div>\n",
       "<style scoped>\n",
       "    .dataframe tbody tr th:only-of-type {\n",
       "        vertical-align: middle;\n",
       "    }\n",
       "\n",
       "    .dataframe tbody tr th {\n",
       "        vertical-align: top;\n",
       "    }\n",
       "\n",
       "    .dataframe thead th {\n",
       "        text-align: right;\n",
       "    }\n",
       "</style>\n",
       "<table border=\"1\" class=\"dataframe\">\n",
       "  <thead>\n",
       "    <tr style=\"text-align: right;\">\n",
       "      <th></th>\n",
       "      <th>R1-PA1:VH</th>\n",
       "      <th>R1-PM1:V</th>\n",
       "      <th>R1-PA2:VH</th>\n",
       "      <th>R1-PM2:V</th>\n",
       "      <th>R1-PA3:VH</th>\n",
       "      <th>R1-PM3:V</th>\n",
       "      <th>R1-PA4:IH</th>\n",
       "      <th>R1-PM4:I</th>\n",
       "      <th>R1-PA5:IH</th>\n",
       "      <th>R1-PM5:I</th>\n",
       "      <th>...</th>\n",
       "      <th>control_panel_log3</th>\n",
       "      <th>control_panel_log4</th>\n",
       "      <th>relay1_log</th>\n",
       "      <th>relay2_log</th>\n",
       "      <th>relay3_log</th>\n",
       "      <th>relay4_log</th>\n",
       "      <th>snort_log1</th>\n",
       "      <th>snort_log2</th>\n",
       "      <th>snort_log3</th>\n",
       "      <th>snort_log4</th>\n",
       "    </tr>\n",
       "  </thead>\n",
       "  <tbody>\n",
       "    <tr>\n",
       "      <th>23044</th>\n",
       "      <td>-128.033149</td>\n",
       "      <td>130606.6634</td>\n",
       "      <td>111.984601</td>\n",
       "      <td>130581.5902</td>\n",
       "      <td>-7.998491</td>\n",
       "      <td>130681.8832</td>\n",
       "      <td>-127.786777</td>\n",
       "      <td>420.78678</td>\n",
       "      <td>108.758849</td>\n",
       "      <td>440.19644</td>\n",
       "      <td>...</td>\n",
       "      <td>0</td>\n",
       "      <td>0</td>\n",
       "      <td>0</td>\n",
       "      <td>0</td>\n",
       "      <td>0</td>\n",
       "      <td>0</td>\n",
       "      <td>0</td>\n",
       "      <td>0</td>\n",
       "      <td>0</td>\n",
       "      <td>0</td>\n",
       "    </tr>\n",
       "    <tr>\n",
       "      <th>7539</th>\n",
       "      <td>54.482557</td>\n",
       "      <td>130757.1031</td>\n",
       "      <td>-65.494806</td>\n",
       "      <td>130681.8832</td>\n",
       "      <td>174.505756</td>\n",
       "      <td>130807.2496</td>\n",
       "      <td>49.881706</td>\n",
       "      <td>506.66537</td>\n",
       "      <td>-70.095657</td>\n",
       "      <td>506.11604</td>\n",
       "      <td>...</td>\n",
       "      <td>0</td>\n",
       "      <td>0</td>\n",
       "      <td>0</td>\n",
       "      <td>0</td>\n",
       "      <td>0</td>\n",
       "      <td>0</td>\n",
       "      <td>0</td>\n",
       "      <td>0</td>\n",
       "      <td>0</td>\n",
       "      <td>0</td>\n",
       "    </tr>\n",
       "    <tr>\n",
       "      <th>4510</th>\n",
       "      <td>-79.136931</td>\n",
       "      <td>132311.6458</td>\n",
       "      <td>160.875090</td>\n",
       "      <td>131684.8140</td>\n",
       "      <td>40.880539</td>\n",
       "      <td>132386.8656</td>\n",
       "      <td>-78.523866</td>\n",
       "      <td>275.94677</td>\n",
       "      <td>161.511073</td>\n",
       "      <td>276.12988</td>\n",
       "      <td>...</td>\n",
       "      <td>0</td>\n",
       "      <td>0</td>\n",
       "      <td>0</td>\n",
       "      <td>0</td>\n",
       "      <td>0</td>\n",
       "      <td>0</td>\n",
       "      <td>0</td>\n",
       "      <td>0</td>\n",
       "      <td>0</td>\n",
       "      <td>0</td>\n",
       "    </tr>\n",
       "    <tr>\n",
       "      <th>28542</th>\n",
       "      <td>-178.000798</td>\n",
       "      <td>130481.2971</td>\n",
       "      <td>62.016952</td>\n",
       "      <td>129854.4653</td>\n",
       "      <td>-57.989058</td>\n",
       "      <td>130531.4436</td>\n",
       "      <td>-179.885829</td>\n",
       "      <td>475.35356</td>\n",
       "      <td>57.628095</td>\n",
       "      <td>488.90370</td>\n",
       "      <td>...</td>\n",
       "      <td>0</td>\n",
       "      <td>0</td>\n",
       "      <td>0</td>\n",
       "      <td>0</td>\n",
       "      <td>0</td>\n",
       "      <td>0</td>\n",
       "      <td>0</td>\n",
       "      <td>0</td>\n",
       "      <td>0</td>\n",
       "      <td>0</td>\n",
       "    </tr>\n",
       "    <tr>\n",
       "      <th>30249</th>\n",
       "      <td>-124.887611</td>\n",
       "      <td>132211.3527</td>\n",
       "      <td>115.130139</td>\n",
       "      <td>131559.4477</td>\n",
       "      <td>-4.870141</td>\n",
       "      <td>132261.4993</td>\n",
       "      <td>-125.231385</td>\n",
       "      <td>303.41327</td>\n",
       "      <td>114.883768</td>\n",
       "      <td>302.86394</td>\n",
       "      <td>...</td>\n",
       "      <td>0</td>\n",
       "      <td>0</td>\n",
       "      <td>0</td>\n",
       "      <td>0</td>\n",
       "      <td>0</td>\n",
       "      <td>0</td>\n",
       "      <td>0</td>\n",
       "      <td>0</td>\n",
       "      <td>0</td>\n",
       "      <td>0</td>\n",
       "    </tr>\n",
       "  </tbody>\n",
       "</table>\n",
       "<p>5 rows × 128 columns</p>\n",
       "</div>"
      ],
      "text/plain": [
       "        R1-PA1:VH     R1-PM1:V   R1-PA2:VH     R1-PM2:V   R1-PA3:VH  \\\n",
       "23044 -128.033149  130606.6634  111.984601  130581.5902   -7.998491   \n",
       "7539    54.482557  130757.1031  -65.494806  130681.8832  174.505756   \n",
       "4510   -79.136931  132311.6458  160.875090  131684.8140   40.880539   \n",
       "28542 -178.000798  130481.2971   62.016952  129854.4653  -57.989058   \n",
       "30249 -124.887611  132211.3527  115.130139  131559.4477   -4.870141   \n",
       "\n",
       "          R1-PM3:V   R1-PA4:IH   R1-PM4:I   R1-PA5:IH   R1-PM5:I  ...  \\\n",
       "23044  130681.8832 -127.786777  420.78678  108.758849  440.19644  ...   \n",
       "7539   130807.2496   49.881706  506.66537  -70.095657  506.11604  ...   \n",
       "4510   132386.8656  -78.523866  275.94677  161.511073  276.12988  ...   \n",
       "28542  130531.4436 -179.885829  475.35356   57.628095  488.90370  ...   \n",
       "30249  132261.4993 -125.231385  303.41327  114.883768  302.86394  ...   \n",
       "\n",
       "       control_panel_log3  control_panel_log4  relay1_log  relay2_log  \\\n",
       "23044                   0                   0           0           0   \n",
       "7539                    0                   0           0           0   \n",
       "4510                    0                   0           0           0   \n",
       "28542                   0                   0           0           0   \n",
       "30249                   0                   0           0           0   \n",
       "\n",
       "       relay3_log  relay4_log  snort_log1  snort_log2  snort_log3  snort_log4  \n",
       "23044           0           0           0           0           0           0  \n",
       "7539            0           0           0           0           0           0  \n",
       "4510            0           0           0           0           0           0  \n",
       "28542           0           0           0           0           0           0  \n",
       "30249           0           0           0           0           0           0  \n",
       "\n",
       "[5 rows x 128 columns]"
      ]
     },
     "execution_count": 12,
     "metadata": {},
     "output_type": "execute_result"
    }
   ],
   "source": [
    "train_df.head()"
   ]
  },
  {
   "cell_type": "code",
   "execution_count": 13,
   "metadata": {
    "collapsed": false,
    "jupyter": {
     "outputs_hidden": false
    },
    "pycharm": {
     "name": "#%%\n"
    }
   },
   "outputs": [
    {
     "data": {
      "text/plain": [
       "23044    0\n",
       "7539     1\n",
       "4510     1\n",
       "28542    0\n",
       "30249    0\n",
       "Name: marker, dtype: int64"
      ]
     },
     "execution_count": 13,
     "metadata": {},
     "output_type": "execute_result"
    }
   ],
   "source": [
    "label_train_df.head()"
   ]
  },
  {
   "cell_type": "code",
   "execution_count": 14,
   "metadata": {
    "collapsed": false,
    "jupyter": {
     "outputs_hidden": false
    },
    "pycharm": {
     "name": "#%%\n"
    }
   },
   "outputs": [
    {
     "name": "stderr",
     "output_type": "stream",
     "text": [
      "C:\\Users\\ajayr\\Anaconda3\\lib\\site-packages\\pandas\\core\\frame.py:4308: SettingWithCopyWarning: \n",
      "A value is trying to be set on a copy of a slice from a DataFrame\n",
      "\n",
      "See the caveats in the documentation: https://pandas.pydata.org/pandas-docs/stable/user_guide/indexing.html#returning-a-view-versus-a-copy\n",
      "  return super().drop(\n"
     ]
    }
   ],
   "source": [
    "test_df, label_test_df = data_label_split(test_df)"
   ]
  },
  {
   "cell_type": "code",
   "execution_count": 15,
   "metadata": {
    "collapsed": false,
    "jupyter": {
     "outputs_hidden": false
    },
    "pycharm": {
     "name": "#%%\n"
    }
   },
   "outputs": [
    {
     "data": {
      "text/html": [
       "<div>\n",
       "<style scoped>\n",
       "    .dataframe tbody tr th:only-of-type {\n",
       "        vertical-align: middle;\n",
       "    }\n",
       "\n",
       "    .dataframe tbody tr th {\n",
       "        vertical-align: top;\n",
       "    }\n",
       "\n",
       "    .dataframe thead th {\n",
       "        text-align: right;\n",
       "    }\n",
       "</style>\n",
       "<table border=\"1\" class=\"dataframe\">\n",
       "  <thead>\n",
       "    <tr style=\"text-align: right;\">\n",
       "      <th></th>\n",
       "      <th>R1-PA1:VH</th>\n",
       "      <th>R1-PM1:V</th>\n",
       "      <th>R1-PA2:VH</th>\n",
       "      <th>R1-PM2:V</th>\n",
       "      <th>R1-PA3:VH</th>\n",
       "      <th>R1-PM3:V</th>\n",
       "      <th>R1-PA4:IH</th>\n",
       "      <th>R1-PM4:I</th>\n",
       "      <th>R1-PA5:IH</th>\n",
       "      <th>R1-PM5:I</th>\n",
       "      <th>...</th>\n",
       "      <th>control_panel_log3</th>\n",
       "      <th>control_panel_log4</th>\n",
       "      <th>relay1_log</th>\n",
       "      <th>relay2_log</th>\n",
       "      <th>relay3_log</th>\n",
       "      <th>relay4_log</th>\n",
       "      <th>snort_log1</th>\n",
       "      <th>snort_log2</th>\n",
       "      <th>snort_log3</th>\n",
       "      <th>snort_log4</th>\n",
       "    </tr>\n",
       "  </thead>\n",
       "  <tbody>\n",
       "    <tr>\n",
       "      <th>9558</th>\n",
       "      <td>66.835527</td>\n",
       "      <td>132060.9131</td>\n",
       "      <td>-53.130376</td>\n",
       "      <td>132035.8398</td>\n",
       "      <td>-173.136387</td>\n",
       "      <td>132136.1329</td>\n",
       "      <td>68.760665</td>\n",
       "      <td>262.94596</td>\n",
       "      <td>-47.177345</td>\n",
       "      <td>253.79046</td>\n",
       "      <td>...</td>\n",
       "      <td>0</td>\n",
       "      <td>0</td>\n",
       "      <td>0</td>\n",
       "      <td>0</td>\n",
       "      <td>0</td>\n",
       "      <td>0</td>\n",
       "      <td>0</td>\n",
       "      <td>0</td>\n",
       "      <td>0</td>\n",
       "      <td>0</td>\n",
       "    </tr>\n",
       "    <tr>\n",
       "      <th>24504</th>\n",
       "      <td>-157.534746</td>\n",
       "      <td>130857.3961</td>\n",
       "      <td>82.477275</td>\n",
       "      <td>130205.4911</td>\n",
       "      <td>-37.511547</td>\n",
       "      <td>130907.5427</td>\n",
       "      <td>-160.433912</td>\n",
       "      <td>486.52327</td>\n",
       "      <td>77.801939</td>\n",
       "      <td>494.94633</td>\n",
       "      <td>...</td>\n",
       "      <td>0</td>\n",
       "      <td>0</td>\n",
       "      <td>0</td>\n",
       "      <td>0</td>\n",
       "      <td>0</td>\n",
       "      <td>0</td>\n",
       "      <td>0</td>\n",
       "      <td>0</td>\n",
       "      <td>0</td>\n",
       "      <td>0</td>\n",
       "    </tr>\n",
       "    <tr>\n",
       "      <th>5781</th>\n",
       "      <td>-111.961683</td>\n",
       "      <td>131183.3486</td>\n",
       "      <td>128.044608</td>\n",
       "      <td>130531.4436</td>\n",
       "      <td>8.061516</td>\n",
       "      <td>131233.4952</td>\n",
       "      <td>-116.276055</td>\n",
       "      <td>464.00074</td>\n",
       "      <td>124.457892</td>\n",
       "      <td>461.43720</td>\n",
       "      <td>...</td>\n",
       "      <td>0</td>\n",
       "      <td>0</td>\n",
       "      <td>0</td>\n",
       "      <td>0</td>\n",
       "      <td>0</td>\n",
       "      <td>0</td>\n",
       "      <td>0</td>\n",
       "      <td>0</td>\n",
       "      <td>0</td>\n",
       "      <td>0</td>\n",
       "    </tr>\n",
       "    <tr>\n",
       "      <th>12777</th>\n",
       "      <td>-25.697157</td>\n",
       "      <td>131158.2754</td>\n",
       "      <td>-145.697438</td>\n",
       "      <td>130531.4436</td>\n",
       "      <td>94.326042</td>\n",
       "      <td>131208.4219</td>\n",
       "      <td>-29.971422</td>\n",
       "      <td>467.66294</td>\n",
       "      <td>-150.011810</td>\n",
       "      <td>468.21227</td>\n",
       "      <td>...</td>\n",
       "      <td>0</td>\n",
       "      <td>0</td>\n",
       "      <td>0</td>\n",
       "      <td>0</td>\n",
       "      <td>0</td>\n",
       "      <td>0</td>\n",
       "      <td>0</td>\n",
       "      <td>0</td>\n",
       "      <td>0</td>\n",
       "      <td>0</td>\n",
       "    </tr>\n",
       "    <tr>\n",
       "      <th>5916</th>\n",
       "      <td>-112.889874</td>\n",
       "      <td>132211.3527</td>\n",
       "      <td>127.139335</td>\n",
       "      <td>132161.2062</td>\n",
       "      <td>7.133325</td>\n",
       "      <td>132261.4993</td>\n",
       "      <td>-108.248916</td>\n",
       "      <td>271.55213</td>\n",
       "      <td>128.302439</td>\n",
       "      <td>283.08806</td>\n",
       "      <td>...</td>\n",
       "      <td>0</td>\n",
       "      <td>0</td>\n",
       "      <td>0</td>\n",
       "      <td>0</td>\n",
       "      <td>0</td>\n",
       "      <td>0</td>\n",
       "      <td>0</td>\n",
       "      <td>0</td>\n",
       "      <td>0</td>\n",
       "      <td>0</td>\n",
       "    </tr>\n",
       "  </tbody>\n",
       "</table>\n",
       "<p>5 rows × 128 columns</p>\n",
       "</div>"
      ],
      "text/plain": [
       "        R1-PA1:VH     R1-PM1:V   R1-PA2:VH     R1-PM2:V   R1-PA3:VH  \\\n",
       "9558    66.835527  132060.9131  -53.130376  132035.8398 -173.136387   \n",
       "24504 -157.534746  130857.3961   82.477275  130205.4911  -37.511547   \n",
       "5781  -111.961683  131183.3486  128.044608  130531.4436    8.061516   \n",
       "12777  -25.697157  131158.2754 -145.697438  130531.4436   94.326042   \n",
       "5916  -112.889874  132211.3527  127.139335  132161.2062    7.133325   \n",
       "\n",
       "          R1-PM3:V   R1-PA4:IH   R1-PM4:I   R1-PA5:IH   R1-PM5:I  ...  \\\n",
       "9558   132136.1329   68.760665  262.94596  -47.177345  253.79046  ...   \n",
       "24504  130907.5427 -160.433912  486.52327   77.801939  494.94633  ...   \n",
       "5781   131233.4952 -116.276055  464.00074  124.457892  461.43720  ...   \n",
       "12777  131208.4219  -29.971422  467.66294 -150.011810  468.21227  ...   \n",
       "5916   132261.4993 -108.248916  271.55213  128.302439  283.08806  ...   \n",
       "\n",
       "       control_panel_log3  control_panel_log4  relay1_log  relay2_log  \\\n",
       "9558                    0                   0           0           0   \n",
       "24504                   0                   0           0           0   \n",
       "5781                    0                   0           0           0   \n",
       "12777                   0                   0           0           0   \n",
       "5916                    0                   0           0           0   \n",
       "\n",
       "       relay3_log  relay4_log  snort_log1  snort_log2  snort_log3  snort_log4  \n",
       "9558            0           0           0           0           0           0  \n",
       "24504           0           0           0           0           0           0  \n",
       "5781            0           0           0           0           0           0  \n",
       "12777           0           0           0           0           0           0  \n",
       "5916            0           0           0           0           0           0  \n",
       "\n",
       "[5 rows x 128 columns]"
      ]
     },
     "execution_count": 15,
     "metadata": {},
     "output_type": "execute_result"
    }
   ],
   "source": [
    "test_df.head()"
   ]
  },
  {
   "cell_type": "code",
   "execution_count": 16,
   "metadata": {
    "collapsed": false,
    "jupyter": {
     "outputs_hidden": false
    },
    "pycharm": {
     "name": "#%%\n"
    }
   },
   "outputs": [
    {
     "data": {
      "text/plain": [
       "9558     1\n",
       "24504    0\n",
       "5781     1\n",
       "12777    0\n",
       "5916     1\n",
       "Name: marker, dtype: int64"
      ]
     },
     "execution_count": 16,
     "metadata": {},
     "output_type": "execute_result"
    }
   ],
   "source": [
    "label_test_df.head()"
   ]
  },
  {
   "cell_type": "code",
   "execution_count": 16,
   "metadata": {
    "collapsed": false,
    "jupyter": {
     "outputs_hidden": false
    },
    "pycharm": {
     "name": "#%%\n"
    }
   },
   "outputs": [],
   "source": [
    "#train_df, test_df, fs = select_features(train_df, label_train_df, test_df, f_classif, 10)\n",
    "#train_df.head()"
   ]
  },
  {
   "cell_type": "code",
   "execution_count": 17,
   "metadata": {
    "collapsed": false,
    "jupyter": {
     "outputs_hidden": false
    },
    "pycharm": {
     "name": "#%%\n"
    }
   },
   "outputs": [
    {
     "name": "stdout",
     "output_type": "stream",
     "text": [
      "Random Forest\n"
     ]
    },
    {
     "data": {
      "image/png": "[encoded data removed]",
      "text/plain": [
       "<Figure size 432x288 with 1 Axes>"
      ]
     },
     "metadata": {
      "needs_background": "light"
     },
     "output_type": "display_data"
    },
    {
     "name": "stdout",
     "output_type": "stream",
     "text": [
      "Training time = 21.2s\n",
      "Testing time = 0.27s\n",
      "              precision    recall  f1-score   support\n",
      "\n",
      "           0       0.91      0.97      0.94      6795\n",
      "           1       0.93      0.78      0.85      2894\n",
      "\n",
      "    accuracy                           0.92      9689\n",
      "   macro avg       0.92      0.88      0.89      9689\n",
      "weighted avg       0.92      0.92      0.91      9689\n",
      "\n",
      "Total TPs: 6622 FNs: 173 FPs: 646 TNs: 2248\n",
      "Rates TP: 0.975 FN: 0.025 FP: 0.223 TN: 0.777\n",
      "roc auc score: 0.972\n"
     ]
    }
   ],
   "source": [
    "rf = training(train_df, label_train_df, classifier=\"Random Forest\")\n",
    "testing(test_df, label_test_df, rf)"
   ]
  },
  {
   "cell_type": "code",
   "execution_count": 18,
   "metadata": {
    "collapsed": false,
    "jupyter": {
     "outputs_hidden": false
    },
    "pycharm": {
     "is_executing": true,
     "name": "#%%\n"
    }
   },
   "outputs": [
    {
     "name": "stdout",
     "output_type": "stream",
     "text": [
      "SVM\n",
      "Training time = 345.43s\n",
      "Testing time = 13.8s\n",
      "              precision    recall  f1-score   support\n",
      "\n",
      "           0       0.70      0.99      0.82      6795\n",
      "           1       0.49      0.02      0.05      2894\n",
      "\n",
      "    accuracy                           0.70      9689\n",
      "   macro avg       0.60      0.51      0.43      9689\n",
      "weighted avg       0.64      0.70      0.59      9689\n",
      "\n",
      "Total TPs: 6723 FNs: 72 FPs: 2825 TNs: 69\n",
      "Rates TP: 0.989 FN: 0.011 FP: 0.976 TN: 0.024\n",
      "roc auc skipped\n"
     ]
    }
   ],
   "source": [
    "svm = training(train_df, label_train_df, classifier=\"SVM\")\n",
    "testing(test_df, label_test_df, svm)"
   ]
  },
  {
   "cell_type": "code",
   "execution_count": 19,
   "metadata": {
    "collapsed": false,
    "jupyter": {
     "outputs_hidden": false
    },
    "pycharm": {
     "is_executing": true,
     "name": "#%%\n"
    }
   },
   "outputs": [
    {
     "name": "stdout",
     "output_type": "stream",
     "text": [
      "Logistic Regression\n",
      "Training time = 0.64s\n",
      "Testing time = 0.02s\n",
      "              precision    recall  f1-score   support\n",
      "\n",
      "           0       0.70      0.99      0.82      6795\n",
      "           1       0.41      0.01      0.02      2894\n",
      "\n",
      "    accuracy                           0.70      9689\n",
      "   macro avg       0.56      0.50      0.42      9689\n",
      "weighted avg       0.62      0.70      0.58      9689\n",
      "\n",
      "Total TPs: 6761 FNs: 34 FPs: 2870 TNs: 24\n",
      "Rates TP: 0.995 FN: 0.005 FP: 0.992 TN: 0.008\n",
      "roc auc score: 0.594\n"
     ]
    },
    {
     "name": "stderr",
     "output_type": "stream",
     "text": [
      "C:\\Users\\ajayr\\Anaconda3\\lib\\site-packages\\sklearn\\linear_model\\_logistic.py:763: ConvergenceWarning: lbfgs failed to converge (status=1):\n",
      "STOP: TOTAL NO. of ITERATIONS REACHED LIMIT.\n",
      "\n",
      "Increase the number of iterations (max_iter) or scale the data as shown in:\n",
      "    https://scikit-learn.org/stable/modules/preprocessing.html\n",
      "Please also refer to the documentation for alternative solver options:\n",
      "    https://scikit-learn.org/stable/modules/linear_model.html#logistic-regression\n",
      "  n_iter_i = _check_optimize_result(\n"
     ]
    }
   ],
   "source": [
    "lr = training(train_df, label_train_df, classifier=\"Logistic Regression\")\n",
    "testing(test_df, label_test_df, lr)"
   ]
  },
  {
   "cell_type": "code",
   "execution_count": 20,
   "metadata": {
    "collapsed": false,
    "jupyter": {
     "outputs_hidden": false
    },
    "pycharm": {
     "is_executing": true,
     "name": "#%%\n"
    }
   },
   "outputs": [
    {
     "name": "stdout",
     "output_type": "stream",
     "text": [
      "Naive Bayes\n",
      "Training time = 0.08s\n",
      "Testing time = 0.02s\n",
      "              precision    recall  f1-score   support\n",
      "\n",
      "           0       0.70      0.98      0.82      6795\n",
      "           1       0.33      0.03      0.05      2894\n",
      "\n",
      "    accuracy                           0.69      9689\n",
      "   macro avg       0.51      0.50      0.43      9689\n",
      "weighted avg       0.59      0.69      0.59      9689\n",
      "\n",
      "Total TPs: 6630 FNs: 165 FPs: 2814 TNs: 80\n",
      "Rates TP: 0.976 FN: 0.024 FP: 0.972 TN: 0.028\n",
      "roc auc score: 0.577\n"
     ]
    }
   ],
   "source": [
    "nb = training(train_df, label_train_df, classifier=\"Naive Bayes\")\n",
    "testing(test_df, label_test_df, nb)"
   ]
  },
  {
   "cell_type": "code",
   "execution_count": 21,
   "metadata": {
    "collapsed": false,
    "jupyter": {
     "outputs_hidden": false
    },
    "pycharm": {
     "is_executing": true,
     "name": "#%%\n"
    }
   },
   "outputs": [
    {
     "name": "stdout",
     "output_type": "stream",
     "text": [
      "KNN\n",
      "Training time = 0.02s\n",
      "Testing time = 10.02s\n",
      "              precision    recall  f1-score   support\n",
      "\n",
      "           0       0.83      0.90      0.86      6795\n",
      "           1       0.71      0.56      0.63      2894\n",
      "\n",
      "    accuracy                           0.80      9689\n",
      "   macro avg       0.77      0.73      0.74      9689\n",
      "weighted avg       0.79      0.80      0.79      9689\n",
      "\n",
      "Total TPs: 6118 FNs: 677 FPs: 1267 TNs: 1627\n",
      "Rates TP: 0.9 FN: 0.1 FP: 0.438 TN: 0.562\n",
      "roc auc score: 0.851\n"
     ]
    }
   ],
   "source": [
    "knn = training(train_df, label_train_df, classifier=\"KNN\")\n",
    "testing(test_df, label_test_df, knn)"
   ]
  },
  {
   "cell_type": "code",
   "execution_count": 22,
   "metadata": {
    "collapsed": false,
    "jupyter": {
     "outputs_hidden": false
    },
    "pycharm": {
     "is_executing": true,
     "name": "#%%\n"
    }
   },
   "outputs": [
    {
     "name": "stdout",
     "output_type": "stream",
     "text": [
      "Decision Tree\n",
      "Training time = 1.01s\n",
      "Testing time = 0.02s\n",
      "              precision    recall  f1-score   support\n",
      "\n",
      "           0       0.71      1.00      0.83      6795\n",
      "           1       1.00      0.02      0.04      2894\n",
      "\n",
      "    accuracy                           0.71      9689\n",
      "   macro avg       0.85      0.51      0.43      9689\n",
      "weighted avg       0.79      0.71      0.59      9689\n",
      "\n",
      "Total TPs: 6795 FNs: 0 FPs: 2833 TNs: 61\n",
      "Rates TP: 1.0 FN: 0.0 FP: 0.979 TN: 0.021\n",
      "roc auc score: 0.59\n"
     ]
    }
   ],
   "source": [
    "dt = training(train_df, label_train_df, classifier=\"Decision Tree\")\n",
    "testing(test_df, label_test_df, dt)"
   ]
  },
  {
   "cell_type": "code",
   "execution_count": 23,
   "metadata": {
    "collapsed": false,
    "jupyter": {
     "outputs_hidden": false
    },
    "pycharm": {
     "is_executing": true,
     "name": "#%%\n"
    }
   },
   "outputs": [
    {
     "name": "stdout",
     "output_type": "stream",
     "text": [
      "AdaBoost\n",
      "Training time = 16.34s\n",
      "Testing time = 0.47s\n",
      "              precision    recall  f1-score   support\n",
      "\n",
      "           0       0.72      0.96      0.82      6795\n",
      "           1       0.55      0.12      0.20      2894\n",
      "\n",
      "    accuracy                           0.71      9689\n",
      "   macro avg       0.63      0.54      0.51      9689\n",
      "weighted avg       0.67      0.71      0.63      9689\n",
      "\n",
      "Total TPs: 6509 FNs: 286 FPs: 2546 TNs: 348\n",
      "Rates TP: 0.958 FN: 0.042 FP: 0.88 TN: 0.12\n",
      "roc auc score: 0.681\n"
     ]
    }
   ],
   "source": [
    "ada = training(train_df, label_train_df, classifier=\"AdaBoost\")\n",
    "testing(test_df, label_test_df, ada)"
   ]
  },
  {
   "cell_type": "code",
   "execution_count": 24,
   "metadata": {
    "collapsed": false,
    "jupyter": {
     "outputs_hidden": false
    },
    "pycharm": {
     "is_executing": true,
     "name": "#%%\n"
    }
   },
   "outputs": [
    {
     "name": "stdout",
     "output_type": "stream",
     "text": [
      "Gradient Boosting\n",
      "Training time = 81.45s\n",
      "Testing time = 0.08s\n",
      "              precision    recall  f1-score   support\n",
      "\n",
      "           0       0.72      0.98      0.83      6795\n",
      "           1       0.77      0.12      0.21      2894\n",
      "\n",
      "    accuracy                           0.73      9689\n",
      "   macro avg       0.75      0.55      0.52      9689\n",
      "weighted avg       0.74      0.73      0.65      9689\n",
      "\n",
      "Total TPs: 6689 FNs: 106 FPs: 2538 TNs: 356\n",
      "Rates TP: 0.984 FN: 0.016 FP: 0.877 TN: 0.123\n",
      "roc auc score: 0.752\n"
     ]
    }
   ],
   "source": [
    "gb = training(train_df, label_train_df, classifier=\"Gradient Boosting\")\n",
    "testing(test_df, label_test_df, gb)"
   ]
  },
  {
   "cell_type": "code",
   "execution_count": 25,
   "metadata": {
    "collapsed": false,
    "jupyter": {
     "outputs_hidden": false
    },
    "pycharm": {
     "is_executing": true,
     "name": "#%%\n"
    }
   },
   "outputs": [
    {
     "name": "stdout",
     "output_type": "stream",
     "text": [
      "Bagging\n",
      "Training time = 326.02s\n",
      "Testing time = 253.91s\n",
      "              precision    recall  f1-score   support\n",
      "\n",
      "           0       0.70      1.00      0.82      6795\n",
      "           1       0.00      0.00      0.00      2894\n",
      "\n",
      "    accuracy                           0.70      9689\n",
      "   macro avg       0.35      0.50      0.41      9689\n",
      "weighted avg       0.49      0.70      0.58      9689\n",
      "\n",
      "Total TPs: 6795 FNs: 0 FPs: 2894 TNs: 0\n",
      "Rates TP: 1.0 FN: 0.0 FP: 1.0 TN: 0.0\n"
     ]
    },
    {
     "name": "stderr",
     "output_type": "stream",
     "text": [
      "C:\\Users\\ajayr\\Anaconda3\\lib\\site-packages\\sklearn\\metrics\\_classification.py:1245: UndefinedMetricWarning: Precision and F-score are ill-defined and being set to 0.0 in labels with no predicted samples. Use `zero_division` parameter to control this behavior.\n",
      "  _warn_prf(average, modifier, msg_start, len(result))\n",
      "C:\\Users\\ajayr\\Anaconda3\\lib\\site-packages\\sklearn\\metrics\\_classification.py:1245: UndefinedMetricWarning: Precision and F-score are ill-defined and being set to 0.0 in labels with no predicted samples. Use `zero_division` parameter to control this behavior.\n",
      "  _warn_prf(average, modifier, msg_start, len(result))\n",
      "C:\\Users\\ajayr\\Anaconda3\\lib\\site-packages\\sklearn\\metrics\\_classification.py:1245: UndefinedMetricWarning: Precision and F-score are ill-defined and being set to 0.0 in labels with no predicted samples. Use `zero_division` parameter to control this behavior.\n",
      "  _warn_prf(average, modifier, msg_start, len(result))\n"
     ]
    },
    {
     "name": "stdout",
     "output_type": "stream",
     "text": [
      "roc auc score: 0.507\n"
     ]
    }
   ],
   "source": [
    "bag = training(train_df, label_train_df, classifier=\"Bagging\")\n",
    "testing(test_df, label_test_df, bag)\n"
   ]
  },
  {
   "cell_type": "code",
   "execution_count": null,
   "metadata": {
    "collapsed": false,
    "jupyter": {
     "outputs_hidden": false
    },
    "pycharm": {
     "is_executing": true,
     "name": "#%%\n"
    }
   },
   "outputs": [],
   "source": [
    "# TODO: Feature selection classifiers (top 10, top 20, top 30, top 50)\n",
    "# TODO: 10-fold cross validation"
   ]
  },
  {
   "cell_type": "markdown",
   "metadata": {},
   "source": [
    "### All features\n",
    "\n",
    "              precision    recall  f1-score  ROC-AUC\n",
    "1.RF :  "
   ]
  },
  {
   "cell_type": "code",
   "execution_count": 5,
   "metadata": {},
   "outputs": [],
   "source": [
    "X = df.drop('marker',axis='columns')\n",
    "y = df['marker']"
   ]
  },
  {
   "cell_type": "code",
   "execution_count": 6,
   "metadata": {},
   "outputs": [
    {
     "data": {
      "text/plain": [
       "0    22714\n",
       "1    22714\n",
       "Name: marker, dtype: int64"
      ]
     },
     "execution_count": 6,
     "metadata": {},
     "output_type": "execute_result"
    }
   ],
   "source": [
    "from imblearn.over_sampling import SMOTE\n",
    "\n",
    "smote = SMOTE(sampling_strategy='minority')\n",
    "X_sm, y_sm = smote.fit_resample(X, y)\n",
    "\n",
    "y_sm.value_counts()"
   ]
  },
  {
   "cell_type": "code",
   "execution_count": 7,
   "metadata": {},
   "outputs": [],
   "source": [
    "from sklearn.model_selection import train_test_split\n",
    "X_train, X_test, y_train, y_test = train_test_split(X_sm, y_sm, test_size=0.2, random_state=15, stratify=y_sm)"
   ]
  },
  {
   "cell_type": "code",
   "execution_count": 8,
   "metadata": {},
   "outputs": [],
   "source": [
    "train_df, test_df, fs = select_features(X_train,y_train,X_test, f_classif, 50)\n",
    "train_df=pd.DataFrame(train_df)\n",
    "test_df=pd.DataFrame(test_df)"
   ]
  },
  {
   "cell_type": "code",
   "execution_count": 9,
   "metadata": {},
   "outputs": [
    {
     "name": "stdout",
     "output_type": "stream",
     "text": [
      "Random Forest\n"
     ]
    },
    {
     "data": {
      "image/png": "[encoded data removed]",
      "text/plain": [
       "<Figure size 432x288 with 1 Axes>"
      ]
     },
     "metadata": {
      "needs_background": "light"
     },
     "output_type": "display_data"
    },
    {
     "name": "stdout",
     "output_type": "stream",
     "text": [
      "Training time = 46.64s\n",
      "Testing time = 0.6s\n",
      "              precision    recall  f1-score   support\n",
      "\n",
      "           0       0.94      0.94      0.94      4543\n",
      "           1       0.94      0.94      0.94      4543\n",
      "\n",
      "    accuracy                           0.94      9086\n",
      "   macro avg       0.94      0.94      0.94      9086\n",
      "weighted avg       0.94      0.94      0.94      9086\n",
      "\n",
      "Total TPs: 4288 FNs: 255 FPs: 280 TNs: 4263\n",
      "Rates TP: 0.944 FN: 0.056 FP: 0.062 TN: 0.938\n",
      "roc auc score: 0.987\n",
      "\n",
      "\n",
      "KNN\n",
      "Training time = 0.02s\n",
      "Testing time = 15.18s\n",
      "              precision    recall  f1-score   support\n",
      "\n",
      "           0       0.89      0.78      0.83      4543\n",
      "           1       0.80      0.90      0.85      4543\n",
      "\n",
      "    accuracy                           0.84      9086\n",
      "   macro avg       0.84      0.84      0.84      9086\n",
      "weighted avg       0.84      0.84      0.84      9086\n",
      "\n",
      "Total TPs: 3531 FNs: 1012 FPs: 458 TNs: 4085\n",
      "Rates TP: 0.777 FN: 0.223 FP: 0.101 TN: 0.899\n",
      "roc auc score: 0.927\n",
      "\n",
      "\n",
      "Naive Bayes\n",
      "Training time = 0.08s\n",
      "Testing time = 0.25s\n",
      "              precision    recall  f1-score   support\n",
      "\n",
      "           0       0.50      0.98      0.66      4543\n",
      "           1       0.52      0.02      0.05      4543\n",
      "\n",
      "    accuracy                           0.50      9086\n",
      "   macro avg       0.51      0.50      0.35      9086\n",
      "weighted avg       0.51      0.50      0.35      9086\n",
      "\n",
      "Total TPs: 4438 FNs: 105 FPs: 4430 TNs: 113\n",
      "Rates TP: 0.977 FN: 0.023 FP: 0.975 TN: 0.025\n",
      "roc auc score: 0.532\n",
      "\n",
      "\n",
      "Logistic Regression\n"
     ]
    },
    {
     "name": "stderr",
     "output_type": "stream",
     "text": [
      "C:\\Users\\ajayr\\Anaconda3\\lib\\site-packages\\sklearn\\linear_model\\_logistic.py:763: ConvergenceWarning: lbfgs failed to converge (status=1):\n",
      "STOP: TOTAL NO. of ITERATIONS REACHED LIMIT.\n",
      "\n",
      "Increase the number of iterations (max_iter) or scale the data as shown in:\n",
      "    https://scikit-learn.org/stable/modules/preprocessing.html\n",
      "Please also refer to the documentation for alternative solver options:\n",
      "    https://scikit-learn.org/stable/modules/linear_model.html#logistic-regression\n",
      "  n_iter_i = _check_optimize_result(\n"
     ]
    },
    {
     "name": "stdout",
     "output_type": "stream",
     "text": [
      "Training time = 2.58s\n",
      "Testing time = 0.0s\n",
      "              precision    recall  f1-score   support\n",
      "\n",
      "           0       0.56      0.56      0.56      4543\n",
      "           1       0.56      0.57      0.56      4543\n",
      "\n",
      "    accuracy                           0.56      9086\n",
      "   macro avg       0.56      0.56      0.56      9086\n",
      "weighted avg       0.56      0.56      0.56      9086\n",
      "\n",
      "Total TPs: 2527 FNs: 2016 FPs: 1976 TNs: 2567\n",
      "Rates TP: 0.556 FN: 0.444 FP: 0.435 TN: 0.565\n",
      "roc auc score: 0.58\n",
      "\n",
      "\n",
      "Gradient Boosting\n",
      "Training time = 84.08s\n",
      "Testing time = 0.17s\n",
      "              precision    recall  f1-score   support\n",
      "\n",
      "           0       0.72      0.65      0.68      4543\n",
      "           1       0.68      0.74      0.71      4543\n",
      "\n",
      "    accuracy                           0.70      9086\n",
      "   macro avg       0.70      0.70      0.69      9086\n",
      "weighted avg       0.70      0.70      0.69      9086\n",
      "\n",
      "Total TPs: 2948 FNs: 1595 FPs: 1172 TNs: 3371\n",
      "Rates TP: 0.649 FN: 0.351 FP: 0.258 TN: 0.742\n",
      "roc auc score: 0.779\n",
      "\n",
      "\n",
      "Adaboost\n"
     ]
    },
    {
     "data": {
      "image/png": "[encoded data removed]",
      "text/plain": [
       "<Figure size 432x288 with 1 Axes>"
      ]
     },
     "metadata": {
      "needs_background": "light"
     },
     "output_type": "display_data"
    },
    {
     "name": "stdout",
     "output_type": "stream",
     "text": [
      "Training time = 40.7s\n",
      "Testing time = 0.5s\n",
      "              precision    recall  f1-score   support\n",
      "\n",
      "           0       0.94      0.95      0.94      4543\n",
      "           1       0.95      0.94      0.94      4543\n",
      "\n",
      "    accuracy                           0.94      9086\n",
      "   macro avg       0.94      0.94      0.94      9086\n",
      "weighted avg       0.94      0.94      0.94      9086\n",
      "\n",
      "Total TPs: 4301 FNs: 242 FPs: 263 TNs: 4280\n",
      "Rates TP: 0.947 FN: 0.053 FP: 0.058 TN: 0.942\n",
      "roc auc score: 0.988\n",
      "\n",
      "\n",
      "Decision Trees\n"
     ]
    },
    {
     "data": {
      "image/png": "[encoded data removed]",
      "text/plain": [
       "<Figure size 432x288 with 1 Axes>"
      ]
     },
     "metadata": {
      "needs_background": "light"
     },
     "output_type": "display_data"
    },
    {
     "name": "stdout",
     "output_type": "stream",
     "text": [
      "Training time = 40.96s\n",
      "Testing time = 0.51s\n",
      "              precision    recall  f1-score   support\n",
      "\n",
      "           0       0.94      0.95      0.94      4543\n",
      "           1       0.95      0.94      0.94      4543\n",
      "\n",
      "    accuracy                           0.94      9086\n",
      "   macro avg       0.94      0.94      0.94      9086\n",
      "weighted avg       0.94      0.94      0.94      9086\n",
      "\n",
      "Total TPs: 4295 FNs: 248 FPs: 276 TNs: 4267\n",
      "Rates TP: 0.945 FN: 0.055 FP: 0.061 TN: 0.939\n",
      "roc auc score: 0.988\n",
      "\n",
      "\n",
      "Bagging\n"
     ]
    },
    {
     "ename": "KeyboardInterrupt",
     "evalue": "",
     "output_type": "error",
     "traceback": [
      "\u001b[1;31m---------------------------------------------------------------------------\u001b[0m",
      "\u001b[1;31mKeyboardInterrupt\u001b[0m                         Traceback (most recent call last)",
      "\u001b[1;32m<ipython-input-9-ab337ba0c8b7>\u001b[0m in \u001b[0;36m<module>\u001b[1;34m\u001b[0m\n\u001b[0;32m     23\u001b[0m \u001b[0mtesting\u001b[0m\u001b[1;33m(\u001b[0m\u001b[0mtest_df\u001b[0m\u001b[1;33m,\u001b[0m \u001b[0my_test\u001b[0m\u001b[1;33m,\u001b[0m \u001b[0mrf\u001b[0m\u001b[1;33m)\u001b[0m\u001b[1;33m\u001b[0m\u001b[1;33m\u001b[0m\u001b[0m\n\u001b[0;32m     24\u001b[0m \u001b[0mprint\u001b[0m\u001b[1;33m(\u001b[0m\u001b[1;34m\"\\n\"\u001b[0m\u001b[1;33m)\u001b[0m\u001b[1;33m\u001b[0m\u001b[1;33m\u001b[0m\u001b[0m\n\u001b[1;32m---> 25\u001b[1;33m \u001b[0mrf\u001b[0m \u001b[1;33m=\u001b[0m \u001b[0mtraining\u001b[0m\u001b[1;33m(\u001b[0m\u001b[0mtrain_df\u001b[0m\u001b[1;33m,\u001b[0m \u001b[0my_train\u001b[0m\u001b[1;33m,\u001b[0m \u001b[0mclassifier\u001b[0m\u001b[1;33m=\u001b[0m\u001b[1;34m\"Bagging\"\u001b[0m\u001b[1;33m)\u001b[0m\u001b[1;33m\u001b[0m\u001b[1;33m\u001b[0m\u001b[0m\n\u001b[0m\u001b[0;32m     26\u001b[0m \u001b[0mtesting\u001b[0m\u001b[1;33m(\u001b[0m\u001b[0mtest_df\u001b[0m\u001b[1;33m,\u001b[0m \u001b[0my_test\u001b[0m\u001b[1;33m,\u001b[0m \u001b[0mrf\u001b[0m\u001b[1;33m)\u001b[0m\u001b[1;33m\u001b[0m\u001b[1;33m\u001b[0m\u001b[0m\n\u001b[0;32m     27\u001b[0m \u001b[0mprint\u001b[0m\u001b[1;33m(\u001b[0m\u001b[1;34m\"\\n\"\u001b[0m\u001b[1;33m)\u001b[0m\u001b[1;33m\u001b[0m\u001b[1;33m\u001b[0m\u001b[0m\n",
      "\u001b[1;32m~\\research papers---\\paper 1\\False-Data-Injection-Detection-for-Smart-Grid-Systems-main\\py\\classifier_functions.py\u001b[0m in \u001b[0;36mtraining\u001b[1;34m(train_df, label_train_df, classifier)\u001b[0m\n\u001b[0;32m    231\u001b[0m         \u001b[0mstart\u001b[0m \u001b[1;33m=\u001b[0m \u001b[0mtime\u001b[0m\u001b[1;33m.\u001b[0m\u001b[0mtime\u001b[0m\u001b[1;33m(\u001b[0m\u001b[1;33m)\u001b[0m\u001b[1;33m\u001b[0m\u001b[1;33m\u001b[0m\u001b[0m\n\u001b[0;32m    232\u001b[0m         \u001b[1;31m# Fit model to data\u001b[0m\u001b[1;33m\u001b[0m\u001b[1;33m\u001b[0m\u001b[1;33m\u001b[0m\u001b[0m\n\u001b[1;32m--> 233\u001b[1;33m         \u001b[0mclassifier_model\u001b[0m\u001b[1;33m.\u001b[0m\u001b[0mfit\u001b[0m\u001b[1;33m(\u001b[0m\u001b[0mtrain_df\u001b[0m\u001b[1;33m,\u001b[0m \u001b[0mlabel_train_df\u001b[0m\u001b[1;33m)\u001b[0m\u001b[1;33m\u001b[0m\u001b[1;33m\u001b[0m\u001b[0m\n\u001b[0m\u001b[0;32m    234\u001b[0m         \u001b[0mend\u001b[0m \u001b[1;33m=\u001b[0m \u001b[0mtime\u001b[0m\u001b[1;33m.\u001b[0m\u001b[0mtime\u001b[0m\u001b[1;33m(\u001b[0m\u001b[1;33m)\u001b[0m\u001b[1;33m\u001b[0m\u001b[1;33m\u001b[0m\u001b[0m\n\u001b[0;32m    235\u001b[0m \u001b[1;33m\u001b[0m\u001b[0m\n",
      "\u001b[1;32m~\\Anaconda3\\lib\\site-packages\\sklearn\\ensemble\\_bagging.py\u001b[0m in \u001b[0;36mfit\u001b[1;34m(self, X, y, sample_weight)\u001b[0m\n\u001b[0;32m    242\u001b[0m         \u001b[0mself\u001b[0m \u001b[1;33m:\u001b[0m \u001b[0mobject\u001b[0m\u001b[1;33m\u001b[0m\u001b[1;33m\u001b[0m\u001b[0m\n\u001b[0;32m    243\u001b[0m         \"\"\"\n\u001b[1;32m--> 244\u001b[1;33m         \u001b[1;32mreturn\u001b[0m \u001b[0mself\u001b[0m\u001b[1;33m.\u001b[0m\u001b[0m_fit\u001b[0m\u001b[1;33m(\u001b[0m\u001b[0mX\u001b[0m\u001b[1;33m,\u001b[0m \u001b[0my\u001b[0m\u001b[1;33m,\u001b[0m \u001b[0mself\u001b[0m\u001b[1;33m.\u001b[0m\u001b[0mmax_samples\u001b[0m\u001b[1;33m,\u001b[0m \u001b[0msample_weight\u001b[0m\u001b[1;33m=\u001b[0m\u001b[0msample_weight\u001b[0m\u001b[1;33m)\u001b[0m\u001b[1;33m\u001b[0m\u001b[1;33m\u001b[0m\u001b[0m\n\u001b[0m\u001b[0;32m    245\u001b[0m \u001b[1;33m\u001b[0m\u001b[0m\n\u001b[0;32m    246\u001b[0m     \u001b[1;32mdef\u001b[0m \u001b[0m_parallel_args\u001b[0m\u001b[1;33m(\u001b[0m\u001b[0mself\u001b[0m\u001b[1;33m)\u001b[0m\u001b[1;33m:\u001b[0m\u001b[1;33m\u001b[0m\u001b[1;33m\u001b[0m\u001b[0m\n",
      "\u001b[1;32m~\\Anaconda3\\lib\\site-packages\\sklearn\\ensemble\\_bagging.py\u001b[0m in \u001b[0;36m_fit\u001b[1;34m(self, X, y, max_samples, max_depth, sample_weight)\u001b[0m\n\u001b[0;32m    368\u001b[0m         \u001b[0mself\u001b[0m\u001b[1;33m.\u001b[0m\u001b[0m_seeds\u001b[0m \u001b[1;33m=\u001b[0m \u001b[0mseeds\u001b[0m\u001b[1;33m\u001b[0m\u001b[1;33m\u001b[0m\u001b[0m\n\u001b[0;32m    369\u001b[0m \u001b[1;33m\u001b[0m\u001b[0m\n\u001b[1;32m--> 370\u001b[1;33m         all_results = Parallel(n_jobs=n_jobs, verbose=self.verbose,\n\u001b[0m\u001b[0;32m    371\u001b[0m                                \u001b[1;33m**\u001b[0m\u001b[0mself\u001b[0m\u001b[1;33m.\u001b[0m\u001b[0m_parallel_args\u001b[0m\u001b[1;33m(\u001b[0m\u001b[1;33m)\u001b[0m\u001b[1;33m)\u001b[0m\u001b[1;33m(\u001b[0m\u001b[1;33m\u001b[0m\u001b[1;33m\u001b[0m\u001b[0m\n\u001b[0;32m    372\u001b[0m             delayed(_parallel_build_estimators)(\n",
      "\u001b[1;32m~\\Anaconda3\\lib\\site-packages\\joblib\\parallel.py\u001b[0m in \u001b[0;36m__call__\u001b[1;34m(self, iterable)\u001b[0m\n\u001b[0;32m   1039\u001b[0m             \u001b[1;31m# remaining jobs.\u001b[0m\u001b[1;33m\u001b[0m\u001b[1;33m\u001b[0m\u001b[1;33m\u001b[0m\u001b[0m\n\u001b[0;32m   1040\u001b[0m             \u001b[0mself\u001b[0m\u001b[1;33m.\u001b[0m\u001b[0m_iterating\u001b[0m \u001b[1;33m=\u001b[0m \u001b[1;32mFalse\u001b[0m\u001b[1;33m\u001b[0m\u001b[1;33m\u001b[0m\u001b[0m\n\u001b[1;32m-> 1041\u001b[1;33m             \u001b[1;32mif\u001b[0m \u001b[0mself\u001b[0m\u001b[1;33m.\u001b[0m\u001b[0mdispatch_one_batch\u001b[0m\u001b[1;33m(\u001b[0m\u001b[0miterator\u001b[0m\u001b[1;33m)\u001b[0m\u001b[1;33m:\u001b[0m\u001b[1;33m\u001b[0m\u001b[1;33m\u001b[0m\u001b[0m\n\u001b[0m\u001b[0;32m   1042\u001b[0m                 \u001b[0mself\u001b[0m\u001b[1;33m.\u001b[0m\u001b[0m_iterating\u001b[0m \u001b[1;33m=\u001b[0m \u001b[0mself\u001b[0m\u001b[1;33m.\u001b[0m\u001b[0m_original_iterator\u001b[0m \u001b[1;32mis\u001b[0m \u001b[1;32mnot\u001b[0m \u001b[1;32mNone\u001b[0m\u001b[1;33m\u001b[0m\u001b[1;33m\u001b[0m\u001b[0m\n\u001b[0;32m   1043\u001b[0m \u001b[1;33m\u001b[0m\u001b[0m\n",
      "\u001b[1;32m~\\Anaconda3\\lib\\site-packages\\joblib\\parallel.py\u001b[0m in \u001b[0;36mdispatch_one_batch\u001b[1;34m(self, iterator)\u001b[0m\n\u001b[0;32m    857\u001b[0m                 \u001b[1;32mreturn\u001b[0m \u001b[1;32mFalse\u001b[0m\u001b[1;33m\u001b[0m\u001b[1;33m\u001b[0m\u001b[0m\n\u001b[0;32m    858\u001b[0m             \u001b[1;32melse\u001b[0m\u001b[1;33m:\u001b[0m\u001b[1;33m\u001b[0m\u001b[1;33m\u001b[0m\u001b[0m\n\u001b[1;32m--> 859\u001b[1;33m                 \u001b[0mself\u001b[0m\u001b[1;33m.\u001b[0m\u001b[0m_dispatch\u001b[0m\u001b[1;33m(\u001b[0m\u001b[0mtasks\u001b[0m\u001b[1;33m)\u001b[0m\u001b[1;33m\u001b[0m\u001b[1;33m\u001b[0m\u001b[0m\n\u001b[0m\u001b[0;32m    860\u001b[0m                 \u001b[1;32mreturn\u001b[0m \u001b[1;32mTrue\u001b[0m\u001b[1;33m\u001b[0m\u001b[1;33m\u001b[0m\u001b[0m\n\u001b[0;32m    861\u001b[0m \u001b[1;33m\u001b[0m\u001b[0m\n",
      "\u001b[1;32m~\\Anaconda3\\lib\\site-packages\\joblib\\parallel.py\u001b[0m in \u001b[0;36m_dispatch\u001b[1;34m(self, batch)\u001b[0m\n\u001b[0;32m    775\u001b[0m         \u001b[1;32mwith\u001b[0m \u001b[0mself\u001b[0m\u001b[1;33m.\u001b[0m\u001b[0m_lock\u001b[0m\u001b[1;33m:\u001b[0m\u001b[1;33m\u001b[0m\u001b[1;33m\u001b[0m\u001b[0m\n\u001b[0;32m    776\u001b[0m             \u001b[0mjob_idx\u001b[0m \u001b[1;33m=\u001b[0m \u001b[0mlen\u001b[0m\u001b[1;33m(\u001b[0m\u001b[0mself\u001b[0m\u001b[1;33m.\u001b[0m\u001b[0m_jobs\u001b[0m\u001b[1;33m)\u001b[0m\u001b[1;33m\u001b[0m\u001b[1;33m\u001b[0m\u001b[0m\n\u001b[1;32m--> 777\u001b[1;33m             \u001b[0mjob\u001b[0m \u001b[1;33m=\u001b[0m \u001b[0mself\u001b[0m\u001b[1;33m.\u001b[0m\u001b[0m_backend\u001b[0m\u001b[1;33m.\u001b[0m\u001b[0mapply_async\u001b[0m\u001b[1;33m(\u001b[0m\u001b[0mbatch\u001b[0m\u001b[1;33m,\u001b[0m \u001b[0mcallback\u001b[0m\u001b[1;33m=\u001b[0m\u001b[0mcb\u001b[0m\u001b[1;33m)\u001b[0m\u001b[1;33m\u001b[0m\u001b[1;33m\u001b[0m\u001b[0m\n\u001b[0m\u001b[0;32m    778\u001b[0m             \u001b[1;31m# A job can complete so quickly than its callback is\u001b[0m\u001b[1;33m\u001b[0m\u001b[1;33m\u001b[0m\u001b[1;33m\u001b[0m\u001b[0m\n\u001b[0;32m    779\u001b[0m             \u001b[1;31m# called before we get here, causing self._jobs to\u001b[0m\u001b[1;33m\u001b[0m\u001b[1;33m\u001b[0m\u001b[1;33m\u001b[0m\u001b[0m\n",
      "\u001b[1;32m~\\Anaconda3\\lib\\site-packages\\joblib\\_parallel_backends.py\u001b[0m in \u001b[0;36mapply_async\u001b[1;34m(self, func, callback)\u001b[0m\n\u001b[0;32m    206\u001b[0m     \u001b[1;32mdef\u001b[0m \u001b[0mapply_async\u001b[0m\u001b[1;33m(\u001b[0m\u001b[0mself\u001b[0m\u001b[1;33m,\u001b[0m \u001b[0mfunc\u001b[0m\u001b[1;33m,\u001b[0m \u001b[0mcallback\u001b[0m\u001b[1;33m=\u001b[0m\u001b[1;32mNone\u001b[0m\u001b[1;33m)\u001b[0m\u001b[1;33m:\u001b[0m\u001b[1;33m\u001b[0m\u001b[1;33m\u001b[0m\u001b[0m\n\u001b[0;32m    207\u001b[0m         \u001b[1;34m\"\"\"Schedule a func to be run\"\"\"\u001b[0m\u001b[1;33m\u001b[0m\u001b[1;33m\u001b[0m\u001b[0m\n\u001b[1;32m--> 208\u001b[1;33m         \u001b[0mresult\u001b[0m \u001b[1;33m=\u001b[0m \u001b[0mImmediateResult\u001b[0m\u001b[1;33m(\u001b[0m\u001b[0mfunc\u001b[0m\u001b[1;33m)\u001b[0m\u001b[1;33m\u001b[0m\u001b[1;33m\u001b[0m\u001b[0m\n\u001b[0m\u001b[0;32m    209\u001b[0m         \u001b[1;32mif\u001b[0m \u001b[0mcallback\u001b[0m\u001b[1;33m:\u001b[0m\u001b[1;33m\u001b[0m\u001b[1;33m\u001b[0m\u001b[0m\n\u001b[0;32m    210\u001b[0m             \u001b[0mcallback\u001b[0m\u001b[1;33m(\u001b[0m\u001b[0mresult\u001b[0m\u001b[1;33m)\u001b[0m\u001b[1;33m\u001b[0m\u001b[1;33m\u001b[0m\u001b[0m\n",
      "\u001b[1;32m~\\Anaconda3\\lib\\site-packages\\joblib\\_parallel_backends.py\u001b[0m in \u001b[0;36m__init__\u001b[1;34m(self, batch)\u001b[0m\n\u001b[0;32m    570\u001b[0m         \u001b[1;31m# Don't delay the application, to avoid keeping the input\u001b[0m\u001b[1;33m\u001b[0m\u001b[1;33m\u001b[0m\u001b[1;33m\u001b[0m\u001b[0m\n\u001b[0;32m    571\u001b[0m         \u001b[1;31m# arguments in memory\u001b[0m\u001b[1;33m\u001b[0m\u001b[1;33m\u001b[0m\u001b[1;33m\u001b[0m\u001b[0m\n\u001b[1;32m--> 572\u001b[1;33m         \u001b[0mself\u001b[0m\u001b[1;33m.\u001b[0m\u001b[0mresults\u001b[0m \u001b[1;33m=\u001b[0m \u001b[0mbatch\u001b[0m\u001b[1;33m(\u001b[0m\u001b[1;33m)\u001b[0m\u001b[1;33m\u001b[0m\u001b[1;33m\u001b[0m\u001b[0m\n\u001b[0m\u001b[0;32m    573\u001b[0m \u001b[1;33m\u001b[0m\u001b[0m\n\u001b[0;32m    574\u001b[0m     \u001b[1;32mdef\u001b[0m \u001b[0mget\u001b[0m\u001b[1;33m(\u001b[0m\u001b[0mself\u001b[0m\u001b[1;33m)\u001b[0m\u001b[1;33m:\u001b[0m\u001b[1;33m\u001b[0m\u001b[1;33m\u001b[0m\u001b[0m\n",
      "\u001b[1;32m~\\Anaconda3\\lib\\site-packages\\joblib\\parallel.py\u001b[0m in \u001b[0;36m__call__\u001b[1;34m(self)\u001b[0m\n\u001b[0;32m    260\u001b[0m         \u001b[1;31m# change the default number of processes to -1\u001b[0m\u001b[1;33m\u001b[0m\u001b[1;33m\u001b[0m\u001b[1;33m\u001b[0m\u001b[0m\n\u001b[0;32m    261\u001b[0m         \u001b[1;32mwith\u001b[0m \u001b[0mparallel_backend\u001b[0m\u001b[1;33m(\u001b[0m\u001b[0mself\u001b[0m\u001b[1;33m.\u001b[0m\u001b[0m_backend\u001b[0m\u001b[1;33m,\u001b[0m \u001b[0mn_jobs\u001b[0m\u001b[1;33m=\u001b[0m\u001b[0mself\u001b[0m\u001b[1;33m.\u001b[0m\u001b[0m_n_jobs\u001b[0m\u001b[1;33m)\u001b[0m\u001b[1;33m:\u001b[0m\u001b[1;33m\u001b[0m\u001b[1;33m\u001b[0m\u001b[0m\n\u001b[1;32m--> 262\u001b[1;33m             return [func(*args, **kwargs)\n\u001b[0m\u001b[0;32m    263\u001b[0m                     for func, args, kwargs in self.items]\n\u001b[0;32m    264\u001b[0m \u001b[1;33m\u001b[0m\u001b[0m\n",
      "\u001b[1;32m~\\Anaconda3\\lib\\site-packages\\joblib\\parallel.py\u001b[0m in \u001b[0;36m<listcomp>\u001b[1;34m(.0)\u001b[0m\n\u001b[0;32m    260\u001b[0m         \u001b[1;31m# change the default number of processes to -1\u001b[0m\u001b[1;33m\u001b[0m\u001b[1;33m\u001b[0m\u001b[1;33m\u001b[0m\u001b[0m\n\u001b[0;32m    261\u001b[0m         \u001b[1;32mwith\u001b[0m \u001b[0mparallel_backend\u001b[0m\u001b[1;33m(\u001b[0m\u001b[0mself\u001b[0m\u001b[1;33m.\u001b[0m\u001b[0m_backend\u001b[0m\u001b[1;33m,\u001b[0m \u001b[0mn_jobs\u001b[0m\u001b[1;33m=\u001b[0m\u001b[0mself\u001b[0m\u001b[1;33m.\u001b[0m\u001b[0m_n_jobs\u001b[0m\u001b[1;33m)\u001b[0m\u001b[1;33m:\u001b[0m\u001b[1;33m\u001b[0m\u001b[1;33m\u001b[0m\u001b[0m\n\u001b[1;32m--> 262\u001b[1;33m             return [func(*args, **kwargs)\n\u001b[0m\u001b[0;32m    263\u001b[0m                     for func, args, kwargs in self.items]\n\u001b[0;32m    264\u001b[0m \u001b[1;33m\u001b[0m\u001b[0m\n",
      "\u001b[1;32m~\\Anaconda3\\lib\\site-packages\\sklearn\\utils\\fixes.py\u001b[0m in \u001b[0;36m__call__\u001b[1;34m(self, *args, **kwargs)\u001b[0m\n\u001b[0;32m    220\u001b[0m     \u001b[1;32mdef\u001b[0m \u001b[0m__call__\u001b[0m\u001b[1;33m(\u001b[0m\u001b[0mself\u001b[0m\u001b[1;33m,\u001b[0m \u001b[1;33m*\u001b[0m\u001b[0margs\u001b[0m\u001b[1;33m,\u001b[0m \u001b[1;33m**\u001b[0m\u001b[0mkwargs\u001b[0m\u001b[1;33m)\u001b[0m\u001b[1;33m:\u001b[0m\u001b[1;33m\u001b[0m\u001b[1;33m\u001b[0m\u001b[0m\n\u001b[0;32m    221\u001b[0m         \u001b[1;32mwith\u001b[0m \u001b[0mconfig_context\u001b[0m\u001b[1;33m(\u001b[0m\u001b[1;33m**\u001b[0m\u001b[0mself\u001b[0m\u001b[1;33m.\u001b[0m\u001b[0mconfig\u001b[0m\u001b[1;33m)\u001b[0m\u001b[1;33m:\u001b[0m\u001b[1;33m\u001b[0m\u001b[1;33m\u001b[0m\u001b[0m\n\u001b[1;32m--> 222\u001b[1;33m             \u001b[1;32mreturn\u001b[0m \u001b[0mself\u001b[0m\u001b[1;33m.\u001b[0m\u001b[0mfunction\u001b[0m\u001b[1;33m(\u001b[0m\u001b[1;33m*\u001b[0m\u001b[0margs\u001b[0m\u001b[1;33m,\u001b[0m \u001b[1;33m**\u001b[0m\u001b[0mkwargs\u001b[0m\u001b[1;33m)\u001b[0m\u001b[1;33m\u001b[0m\u001b[1;33m\u001b[0m\u001b[0m\n\u001b[0m",
      "\u001b[1;32m~\\Anaconda3\\lib\\site-packages\\sklearn\\ensemble\\_bagging.py\u001b[0m in \u001b[0;36m_parallel_build_estimators\u001b[1;34m(n_estimators, ensemble, X, y, sample_weight, seeds, total_n_estimators, verbose)\u001b[0m\n\u001b[0;32m    109\u001b[0m                 \u001b[0mcurr_sample_weight\u001b[0m\u001b[1;33m[\u001b[0m\u001b[0mnot_indices_mask\u001b[0m\u001b[1;33m]\u001b[0m \u001b[1;33m=\u001b[0m \u001b[1;36m0\u001b[0m\u001b[1;33m\u001b[0m\u001b[1;33m\u001b[0m\u001b[0m\n\u001b[0;32m    110\u001b[0m \u001b[1;33m\u001b[0m\u001b[0m\n\u001b[1;32m--> 111\u001b[1;33m             \u001b[0mestimator\u001b[0m\u001b[1;33m.\u001b[0m\u001b[0mfit\u001b[0m\u001b[1;33m(\u001b[0m\u001b[0mX\u001b[0m\u001b[1;33m[\u001b[0m\u001b[1;33m:\u001b[0m\u001b[1;33m,\u001b[0m \u001b[0mfeatures\u001b[0m\u001b[1;33m]\u001b[0m\u001b[1;33m,\u001b[0m \u001b[0my\u001b[0m\u001b[1;33m,\u001b[0m \u001b[0msample_weight\u001b[0m\u001b[1;33m=\u001b[0m\u001b[0mcurr_sample_weight\u001b[0m\u001b[1;33m)\u001b[0m\u001b[1;33m\u001b[0m\u001b[1;33m\u001b[0m\u001b[0m\n\u001b[0m\u001b[0;32m    112\u001b[0m \u001b[1;33m\u001b[0m\u001b[0m\n\u001b[0;32m    113\u001b[0m         \u001b[1;32melse\u001b[0m\u001b[1;33m:\u001b[0m\u001b[1;33m\u001b[0m\u001b[1;33m\u001b[0m\u001b[0m\n",
      "\u001b[1;32m~\\Anaconda3\\lib\\site-packages\\sklearn\\svm\\_base.py\u001b[0m in \u001b[0;36mfit\u001b[1;34m(self, X, y, sample_weight)\u001b[0m\n\u001b[0;32m    224\u001b[0m \u001b[1;33m\u001b[0m\u001b[0m\n\u001b[0;32m    225\u001b[0m         \u001b[0mseed\u001b[0m \u001b[1;33m=\u001b[0m \u001b[0mrnd\u001b[0m\u001b[1;33m.\u001b[0m\u001b[0mrandint\u001b[0m\u001b[1;33m(\u001b[0m\u001b[0mnp\u001b[0m\u001b[1;33m.\u001b[0m\u001b[0miinfo\u001b[0m\u001b[1;33m(\u001b[0m\u001b[1;34m'i'\u001b[0m\u001b[1;33m)\u001b[0m\u001b[1;33m.\u001b[0m\u001b[0mmax\u001b[0m\u001b[1;33m)\u001b[0m\u001b[1;33m\u001b[0m\u001b[1;33m\u001b[0m\u001b[0m\n\u001b[1;32m--> 226\u001b[1;33m         \u001b[0mfit\u001b[0m\u001b[1;33m(\u001b[0m\u001b[0mX\u001b[0m\u001b[1;33m,\u001b[0m \u001b[0my\u001b[0m\u001b[1;33m,\u001b[0m \u001b[0msample_weight\u001b[0m\u001b[1;33m,\u001b[0m \u001b[0msolver_type\u001b[0m\u001b[1;33m,\u001b[0m \u001b[0mkernel\u001b[0m\u001b[1;33m,\u001b[0m \u001b[0mrandom_seed\u001b[0m\u001b[1;33m=\u001b[0m\u001b[0mseed\u001b[0m\u001b[1;33m)\u001b[0m\u001b[1;33m\u001b[0m\u001b[1;33m\u001b[0m\u001b[0m\n\u001b[0m\u001b[0;32m    227\u001b[0m         \u001b[1;31m# see comment on the other call to np.iinfo in this file\u001b[0m\u001b[1;33m\u001b[0m\u001b[1;33m\u001b[0m\u001b[1;33m\u001b[0m\u001b[0m\n\u001b[0;32m    228\u001b[0m \u001b[1;33m\u001b[0m\u001b[0m\n",
      "\u001b[1;32m~\\Anaconda3\\lib\\site-packages\\sklearn\\svm\\_base.py\u001b[0m in \u001b[0;36m_dense_fit\u001b[1;34m(self, X, y, sample_weight, solver_type, kernel, random_seed)\u001b[0m\n\u001b[0;32m    275\u001b[0m         \u001b[0mself\u001b[0m\u001b[1;33m.\u001b[0m\u001b[0msupport_\u001b[0m\u001b[1;33m,\u001b[0m \u001b[0mself\u001b[0m\u001b[1;33m.\u001b[0m\u001b[0msupport_vectors_\u001b[0m\u001b[1;33m,\u001b[0m \u001b[0mself\u001b[0m\u001b[1;33m.\u001b[0m\u001b[0m_n_support\u001b[0m\u001b[1;33m,\u001b[0m\u001b[0;31m \u001b[0m\u001b[0;31m\\\u001b[0m\u001b[1;33m\u001b[0m\u001b[1;33m\u001b[0m\u001b[0m\n\u001b[0;32m    276\u001b[0m             \u001b[0mself\u001b[0m\u001b[1;33m.\u001b[0m\u001b[0mdual_coef_\u001b[0m\u001b[1;33m,\u001b[0m \u001b[0mself\u001b[0m\u001b[1;33m.\u001b[0m\u001b[0mintercept_\u001b[0m\u001b[1;33m,\u001b[0m \u001b[0mself\u001b[0m\u001b[1;33m.\u001b[0m\u001b[0m_probA\u001b[0m\u001b[1;33m,\u001b[0m\u001b[0;31m \u001b[0m\u001b[0;31m\\\u001b[0m\u001b[1;33m\u001b[0m\u001b[1;33m\u001b[0m\u001b[0m\n\u001b[1;32m--> 277\u001b[1;33m             self._probB, self.fit_status_ = libsvm.fit(\n\u001b[0m\u001b[0;32m    278\u001b[0m                 \u001b[0mX\u001b[0m\u001b[1;33m,\u001b[0m \u001b[0my\u001b[0m\u001b[1;33m,\u001b[0m\u001b[1;33m\u001b[0m\u001b[1;33m\u001b[0m\u001b[0m\n\u001b[0;32m    279\u001b[0m                 \u001b[0msvm_type\u001b[0m\u001b[1;33m=\u001b[0m\u001b[0msolver_type\u001b[0m\u001b[1;33m,\u001b[0m \u001b[0msample_weight\u001b[0m\u001b[1;33m=\u001b[0m\u001b[0msample_weight\u001b[0m\u001b[1;33m,\u001b[0m\u001b[1;33m\u001b[0m\u001b[1;33m\u001b[0m\u001b[0m\n",
      "\u001b[1;31mKeyboardInterrupt\u001b[0m: "
     ]
    }
   ],
   "source": [
    "rf = training(train_df, y_train, classifier=\"Random Forest\")\n",
    "testing(test_df, y_test, rf)\n",
    "print(\"\\n\")\n",
    "rf = training(train_df, y_train, classifier=\"KNN\")\n",
    "testing(test_df, y_test, rf)\n",
    "print(\"\\n\")\n",
    "rf = training(train_df, y_train, classifier=\"Naive Bayes\")\n",
    "testing(test_df, y_test, rf)\n",
    "print(\"\\n\")\n",
    "rf = training(train_df, y_train, classifier=\"Logistic Regression\")\n",
    "testing(test_df, y_test, rf)\n",
    "print(\"\\n\")\n",
    "rf = training(train_df, y_train, classifier=\"Gradient Boosting\")\n",
    "testing(test_df, y_test, rf)\n",
    "print(\"\\n\")\n",
    "rf = training(train_df, y_train, classifier=\"Adaboost\")\n",
    "testing(test_df, y_test, rf)\n",
    "print(\"\\n\")\n",
    "# rf = training(train_df, y_train, classifier=\"SVM\")\n",
    "# testing(test_df, y_test, rf)\n",
    "# print(\"\\n\")\n",
    "rf = training(train_df, y_train, classifier=\"Decision Trees\")\n",
    "testing(test_df, y_test, rf)\n",
    "print(\"\\n\")\n",
    "rf = training(train_df, y_train, classifier=\"Bagging\")\n",
    "testing(test_df, y_test, rf)\n",
    "print(\"\\n\")"
   ]
  },
  {
   "cell_type": "code",
   "execution_count": 10,
   "metadata": {},
   "outputs": [
    {
     "data": {
      "image/png": "[encoded data removed]",
      "text/plain": [
       "<Figure size 432x288 with 1 Axes>"
      ]
     },
     "metadata": {
      "needs_background": "light"
     },
     "output_type": "display_data"
    }
   ],
   "source": [
    "import matplotlib.pyplot as plt\n",
    "\n",
    "xAxis=[\"RF\",\"KNN\",\"GB\",\"Adaboost\",\"DT\",\"SVM\",\"Bagging\",\"LR\",\"NB\"]\n",
    "yAxis=[94.12,84.01,70.01,94.01,94.01,57.50,51.2,56.12,50.78]\n",
    "color=[\"red\",\"blue\",\"green\",\"orange\",\"yellow\",\"pink\",\"black\",\"brown\",\"teal\"]\n",
    "plt.bar(xAxis,yAxis,color=color)\n",
    "plt.ylabel('Accuracy')\n",
    "plt.show()"
   ]
  },
  {
   "cell_type": "code",
   "execution_count": 17,
   "metadata": {},
   "outputs": [
    {
     "data": {
      "image/png": "[encoded data removed]",
      "text/plain": [
       "<Figure size 432x288 with 1 Axes>"
      ]
     },
     "metadata": {
      "needs_background": "light"
     },
     "output_type": "display_data"
    }
   ],
   "source": [
    "xAxis=[\"RF\",\"KNN\",\"GB\",\"Adaboost\",\"DT\",\"SVM\",\"Bagging\",\"LR\",\"NB\"]\n",
    "yAxis=[94.12,84.01,70.01,94.01,94.01,57.50,51.2,56.12,50.78] \n",
    "yAxis1=[88.12,74.01,66.01,88.00,57.5,57.00,50.00,56.25,50.05] \n",
    "yAxis2=[97.12,82.1,97,97,58.45,56,50,56.8,50.12]\n",
    "\n",
    "plt.plot(xAxis, yAxis, 'g', label='SMOTE',marker=\"o\")\n",
    "\n",
    "# Plot another line on the same chart/graph\n",
    "plt.plot(xAxis, yAxis1, 'r', label='Undersample',marker=\"o\")\n",
    "\n",
    "plt.plot(xAxis, yAxis2, 'b', label='oversample',marker=\"o\")\n",
    "plt.legend()\n",
    "plt.show()"
   ]
  },
  {
   "cell_type": "code",
   "execution_count": 18,
   "metadata": {},
   "outputs": [],
   "source": [
    "# Class count\n",
    "count_class_0, count_class_1 = df.marker.value_counts()\n",
    "\n",
    "# Divide by class\n",
    "df_class_0 = df[df['marker'] == 0]\n",
    "df_class_1 = df[df['marker'] == 1]"
   ]
  },
  {
   "cell_type": "code",
   "execution_count": 19,
   "metadata": {},
   "outputs": [
    {
     "name": "stdout",
     "output_type": "stream",
     "text": [
      "Random over-sampling:\n",
      "0    22714\n",
      "1    22714\n",
      "Name: marker, dtype: int64\n"
     ]
    }
   ],
   "source": [
    "# Oversample 1-class and concat the DataFrames of both classes\n",
    "df_class_1_over = df_class_1.sample(count_class_0, replace=True)\n",
    "df_test_over = pd.concat([df_class_0, df_class_1_over], axis=0)\n",
    "\n",
    "print('Random over-sampling:')\n",
    "print(df_test_over.marker.value_counts())"
   ]
  },
  {
   "cell_type": "code",
   "execution_count": 20,
   "metadata": {},
   "outputs": [],
   "source": [
    "X = df_test_over.drop('marker',axis='columns')\n",
    "y = df_test_over['marker']\n",
    "\n",
    "from sklearn.model_selection import train_test_split\n",
    "X_train, X_test, y_train, y_test = train_test_split(X, y, test_size=0.2, random_state=15, stratify=y)"
   ]
  },
  {
   "cell_type": "code",
   "execution_count": 21,
   "metadata": {},
   "outputs": [
    {
     "name": "stderr",
     "output_type": "stream",
     "text": [
      "C:\\Users\\ajayr\\Anaconda3\\lib\\site-packages\\sklearn\\feature_selection\\_univariate_selection.py:114: UserWarning: Features [124] are constant.\n",
      "  warnings.warn(\"Features %s are constant.\" % constant_features_idx,\n",
      "C:\\Users\\ajayr\\Anaconda3\\lib\\site-packages\\sklearn\\feature_selection\\_univariate_selection.py:116: RuntimeWarning: invalid value encountered in true_divide\n",
      "  f = msb / msw\n"
     ]
    }
   ],
   "source": [
    "train_df, test_df, fs = select_features(X_train,y_train,X_test, f_classif, 50)\n",
    "train_df=pd.DataFrame(train_df)\n",
    "test_df=pd.DataFrame(test_df)"
   ]
  },
  {
   "cell_type": "code",
   "execution_count": null,
   "metadata": {},
   "outputs": [
    {
     "name": "stdout",
     "output_type": "stream",
     "text": [
      "Fitting 3 folds for each of 500 candidates, totalling 1500 fits\n"
     ]
    }
   ],
   "source": [
    "from sklearn.model_selection import GridSearchCV\n",
    "n_estimators = [100, 300, 500, 800, 1200]\n",
    "max_depth = [5, 8, 15, 25, 30]\n",
    "min_samples_split = [2, 5, 10, 15, 100]\n",
    "min_samples_leaf = [1, 2, 5, 10] \n",
    "forest=RandomForestClassifier()\n",
    "hyperF = dict(n_estimators = n_estimators, max_depth = max_depth,  \n",
    "              min_samples_split = min_samples_split, \n",
    "             min_samples_leaf = min_samples_leaf)\n",
    "\n",
    "gridF = GridSearchCV(forest, hyperF, cv = 3, verbose = 1, \n",
    "                      n_jobs = -1)\n",
    "bestF = gridF.fit(test_df, y_test)"
   ]
  },
  {
   "cell_type": "code",
   "execution_count": null,
   "metadata": {},
   "outputs": [],
   "source": []
  }
 ],
 "metadata": {
  "kernelspec": {
   "display_name": "Python 3",
   "language": "python",
   "name": "python3"
  },
  "language_info": {
   "codemirror_mode": {
    "name": "ipython",
    "version": 3
   },
   "file_extension": ".py",
   "mimetype": "text/x-python",
   "name": "python",
   "nbconvert_exporter": "python",
   "pygments_lexer": "ipython3",
   "version": "3.8.8"
  },
  "vscode": {
   "interpreter": {
    "hash": "54ab66d86cb03bc7bdf42b7125ccc0ff88cdce81724351e60e4ea641efe147cf"
   }
  }
 },
 "nbformat": 4,
 "nbformat_minor": 4
}
